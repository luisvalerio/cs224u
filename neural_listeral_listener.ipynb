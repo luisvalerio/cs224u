{
 "cells": [
  {
   "cell_type": "markdown",
   "metadata": {},
   "source": [
    "# Homework and bake-off: pragmatic color descriptions"
   ]
  },
  {
   "cell_type": "code",
   "execution_count": 1,
   "metadata": {},
   "outputs": [],
   "source": [
    "__author__ = \"Christopher Potts\"\n",
    "__version__ = \"CS224u, Stanford, Spring 2020\""
   ]
  },
  {
   "cell_type": "markdown",
   "metadata": {},
   "source": [
    "## Contents\n",
    "\n",
    "1. [Overview](#Overview)\n",
    "1. [Set-up](#Set-up)\n",
    "1. [All two-word examples as a dev corpus](#All-two-word-examples-as-a-dev-corpus)\n",
    "1. [Dev dataset](#Dev-dataset)\n",
    "1. [Random train–test split for development](#Random-train–test-split-for-development)\n",
    "1. [Question 1: Improve the tokenizer [1 point]](#Question-1:-Improve-the-tokenizer-[1-point])\n",
    "1. [Use the tokenizer](#Use-the-tokenizer)\n",
    "1. [Question 2: Improve the color representations [1 point]](#Question-2:-Improve-the-color-representations-[1-point])\n",
    "1. [Use the color representer](#Use-the-color-representer)\n",
    "1. [Initial model](#Initial-model)\n",
    "1. [Question 3: GloVe embeddings [1 points]](#Question-3:-GloVe-embeddings-[1-points])\n",
    "1. [Try the GloVe representations](#Try-the-GloVe-representations)\n",
    "1. [Question 4: Color context [3 points]](#Question-4:-Color-context-[3-points])\n",
    "1. [Your original system [3 points]](#Your-original-system-[3-points])\n",
    "1. [Bakeoff [1 point]](#Bakeoff-[1-point])"
   ]
  },
  {
   "cell_type": "markdown",
   "metadata": {},
   "source": [
    "## Overview\n",
    "\n",
    "This homework and associated bake-off are oriented toward building an effective system for generating color descriptions that are pragmatic in the sense that they would help a reader/listener figure out which color was being referred to in a shared context consisting of a target color (whose identity is known only to the describer/speaker) and a set of distractors.\n",
    "\n",
    "The notebook [colors_overview.ipynb](colors_overview.ipynb) should be studied before work on this homework begins. That notebook provides backgroud on the task, the dataset, and the modeling code that you will be using and adapting.\n",
    "\n",
    "The homework questions are more open-ended than previous ones have been. Rather than asking you to implement pre-defined functionality, they ask you to try to improve baseline components of the full system in ways that you find to be effective. As usual, this culiminates in a prompt asking you to develop a novel system for entry into the bake-off. In this case, though, the work you do for the homework will likely be directly incorporated into that system."
   ]
  },
  {
   "cell_type": "markdown",
   "metadata": {},
   "source": [
    "## Set-up"
   ]
  },
  {
   "cell_type": "markdown",
   "metadata": {},
   "source": [
    "See [colors_overview.ipynb](colors_overview.ipynb) for set-up in instructions and other background details."
   ]
  },
  {
   "cell_type": "code",
   "execution_count": 3,
   "metadata": {
    "ExecuteTime": {
     "end_time": "2020-05-08T04:27:30.303002Z",
     "start_time": "2020-05-08T04:27:28.731475Z"
    }
   },
   "outputs": [],
   "source": [
    "from colors import ColorsCorpusReader\n",
    "import os\n",
    "from sklearn.model_selection import train_test_split\n",
    "from torch_color_describer import (\n",
    "    ColorizedNeuralListener, create_example_dataset)\n",
    "import utils\n",
    "from utils import START_SYMBOL, END_SYMBOL, UNK_SYMBOL\n",
    "import numpy as np"
   ]
  },
  {
   "cell_type": "code",
   "execution_count": 4,
   "metadata": {
    "ExecuteTime": {
     "end_time": "2020-05-08T04:27:33.540668Z",
     "start_time": "2020-05-08T04:27:30.305085Z"
    }
   },
   "outputs": [],
   "source": [
    "utils.fix_random_seeds()"
   ]
  },
  {
   "cell_type": "code",
   "execution_count": 5,
   "metadata": {
    "ExecuteTime": {
     "end_time": "2020-05-08T04:27:33.545788Z",
     "start_time": "2020-05-08T04:27:33.543263Z"
    }
   },
   "outputs": [],
   "source": [
    "COLORS_SRC_FILENAME = os.path.join(\n",
    "    \"data\", \"colors\", \"filteredCorpus.csv\")"
   ]
  },
  {
   "cell_type": "markdown",
   "metadata": {},
   "source": [
    "## All two-word examples as a dev corpus\n",
    "\n",
    "So that you don't have to sit through excessively long training runs during development, I suggest working with the two-word-only subset of the corpus until you enter into the late stages of system testing."
   ]
  },
  {
   "cell_type": "code",
   "execution_count": 6,
   "metadata": {
    "ExecuteTime": {
     "end_time": "2020-05-08T04:27:35.230320Z",
     "start_time": "2020-05-08T04:27:35.227499Z"
    }
   },
   "outputs": [],
   "source": [
    "dev_corpus = ColorsCorpusReader(\n",
    "    COLORS_SRC_FILENAME, \n",
    "    word_count=None, \n",
    "    normalize_colors=True)"
   ]
  },
  {
   "cell_type": "code",
   "execution_count": 7,
   "metadata": {
    "ExecuteTime": {
     "end_time": "2020-05-08T04:27:39.274726Z",
     "start_time": "2020-05-08T04:27:35.979157Z"
    }
   },
   "outputs": [],
   "source": [
    "dev_examples = list(dev_corpus.read())"
   ]
  },
  {
   "cell_type": "markdown",
   "metadata": {},
   "source": [
    "This subset has about one-third the examples of the full corpus:"
   ]
  },
  {
   "cell_type": "code",
   "execution_count": 6,
   "metadata": {
    "ExecuteTime": {
     "end_time": "2020-05-08T03:52:23.368440Z",
     "start_time": "2020-05-08T03:52:23.361712Z"
    }
   },
   "outputs": [
    {
     "data": {
      "text/plain": [
       "46994"
      ]
     },
     "execution_count": 6,
     "metadata": {},
     "output_type": "execute_result"
    }
   ],
   "source": [
    "len(dev_examples)"
   ]
  },
  {
   "cell_type": "code",
   "execution_count": null,
   "metadata": {},
   "outputs": [],
   "source": []
  },
  {
   "cell_type": "markdown",
   "metadata": {},
   "source": [
    "We __should__ worry that it's not a fully representative sample. Most of the descriptions in the full corpus are shorter, and a large proportion are longer. So this dataset is mainly for debugging, development, and general hill-climbing. All findings should be validated on the full dataset at some point."
   ]
  },
  {
   "cell_type": "markdown",
   "metadata": {},
   "source": [
    "## Dev dataset\n",
    "\n",
    "The first step is to extract the raw color and raw texts from the corpus:"
   ]
  },
  {
   "cell_type": "code",
   "execution_count": 8,
   "metadata": {
    "ExecuteTime": {
     "end_time": "2020-05-08T04:27:40.910915Z",
     "start_time": "2020-05-08T04:27:40.868242Z"
    }
   },
   "outputs": [],
   "source": [
    "dev_rawcols, dev_texts = zip(*[[ex.colors, ex.contents] for ex in dev_examples])"
   ]
  },
  {
   "cell_type": "markdown",
   "metadata": {},
   "source": [
    "The raw color representations are suitable inputs to a model, but the texts are just strings, so they can't really be processed as-is. Question 1 asks you to do some tokenizing!"
   ]
  },
  {
   "cell_type": "markdown",
   "metadata": {},
   "source": [
    "## Random train–test split for development\n",
    "\n",
    "For the sake of development runs, we create a random train–test split:"
   ]
  },
  {
   "cell_type": "code",
   "execution_count": 9,
   "metadata": {
    "ExecuteTime": {
     "end_time": "2020-05-08T04:27:42.399293Z",
     "start_time": "2020-05-08T04:27:42.369464Z"
    }
   },
   "outputs": [],
   "source": [
    "dev_rawcols_train, dev_rawcols_test, dev_texts_train, dev_texts_test = \\\n",
    "    train_test_split(dev_rawcols, dev_texts)"
   ]
  },
  {
   "cell_type": "markdown",
   "metadata": {},
   "source": [
    "## Question 1: Improve the tokenizer [1 point]\n",
    "\n",
    "This is the first required question – the first required modification to the default pipeline.\n",
    "\n",
    "The function `tokenize_example` simply splits its string on whitespace and adds the required start and end symbols:"
   ]
  },
  {
   "cell_type": "code",
   "execution_count": 10,
   "metadata": {
    "ExecuteTime": {
     "end_time": "2020-05-08T04:27:44.013849Z",
     "start_time": "2020-05-08T04:27:44.004613Z"
    }
   },
   "outputs": [],
   "source": [
    "from colors_utils import heuristic_ending_tokenizer\n",
    "\n",
    "def tokenize_example(s):\n",
    "    \n",
    "    # Improve me!\n",
    "    \n",
    "    return [START_SYMBOL] + heuristic_ending_tokenizer(s) + [END_SYMBOL]\n",
    "\n",
    "def clean_test_and_training(dev_seqs_train, dev_seqs_test):    \n",
    "    vocab = {}\n",
    "    for toks in dev_seqs_train+dev_seqs_test:\n",
    "        for w in toks:\n",
    "            if w not in vocab:\n",
    "                vocab[w]=0\n",
    "            vocab[w]+=1\n",
    "    removal_candidates = {k:v for k, v in vocab.items() if v == 1 }\n",
    "    \n",
    "    dev_seqs_train = [[w if w not in removal_candidates else UNK_SYMBOL for w in toks] for toks in dev_seqs_train]\n",
    "\n",
    "    dev_seqs_test = [[w if w not in removal_candidates else UNK_SYMBOL for w in toks] for toks in dev_seqs_test]\n",
    "    return dev_seqs_train, dev_seqs_test"
   ]
  },
  {
   "cell_type": "code",
   "execution_count": 11,
   "metadata": {
    "ExecuteTime": {
     "end_time": "2020-05-08T04:27:44.608685Z",
     "start_time": "2020-05-08T04:27:44.603737Z"
    }
   },
   "outputs": [
    {
     "data": {
      "text/plain": [
       "['<s>', 'aqua', '</s>']"
      ]
     },
     "execution_count": 11,
     "metadata": {},
     "output_type": "execute_result"
    }
   ],
   "source": [
    "tokenize_example(dev_texts_train[376])"
   ]
  },
  {
   "cell_type": "markdown",
   "metadata": {},
   "source": [
    "__Your task__: Modify `tokenize_example` so that it does something more sophisticated with the input text. \n",
    "\n",
    "__Notes__:\n",
    "\n",
    "* There are useful ideas for this in [Monroe et al. 2017](https://transacl.org/ojs/index.php/tacl/article/view/1142)\n",
    "* There is no requirement that you do word-level tokenization. Sub-word and multi-word are options.\n",
    "* This question can interact with the size of your vocabulary (see just below), and in turn with decisions about how to use `UNK_SYMBOL`.\n",
    "\n",
    "__Important__: don't forget to add the start and end symbols, else the resulting models will definitely be terrible!"
   ]
  },
  {
   "cell_type": "markdown",
   "metadata": {},
   "source": [
    "## Use the tokenizer"
   ]
  },
  {
   "cell_type": "markdown",
   "metadata": {},
   "source": [
    "Once the tokenizer is working, run the following cell to tokenize your inputs:"
   ]
  },
  {
   "cell_type": "code",
   "execution_count": 12,
   "metadata": {
    "ExecuteTime": {
     "end_time": "2020-05-08T04:27:50.607378Z",
     "start_time": "2020-05-08T04:27:50.017934Z"
    }
   },
   "outputs": [],
   "source": [
    "dev_seqs_train = [tokenize_example(s) for s in dev_texts_train]\n",
    "\n",
    "dev_seqs_test = [tokenize_example(s) for s in dev_texts_test]\n",
    "\n",
    "dev_seqs_train, dev_seqs_test = clean_test_and_training(dev_seqs_train, dev_seqs_test)"
   ]
  },
  {
   "cell_type": "markdown",
   "metadata": {},
   "source": [
    "We use only the train set to derive a vocabulary for the model:"
   ]
  },
  {
   "cell_type": "code",
   "execution_count": 13,
   "metadata": {
    "ExecuteTime": {
     "end_time": "2020-05-08T04:27:51.716118Z",
     "start_time": "2020-05-08T04:27:51.699112Z"
    }
   },
   "outputs": [],
   "source": [
    "dev_vocab = sorted({w for toks in dev_seqs_train for w in toks}) + [UNK_SYMBOL]"
   ]
  },
  {
   "cell_type": "markdown",
   "metadata": {},
   "source": [
    "It's important that the `UNK_SYMBOL` is included somewhere in this list. Test examples with word not seen in training will be mapped to `UNK_SYMBOL`. If you model's vocab is the same as your train vocab, then `UNK_SYMBOL` will never be encountered during training, so it will be a random vector at test time."
   ]
  },
  {
   "cell_type": "code",
   "execution_count": 14,
   "metadata": {
    "ExecuteTime": {
     "end_time": "2020-05-08T04:27:52.901655Z",
     "start_time": "2020-05-08T04:27:52.898285Z"
    }
   },
   "outputs": [
    {
     "data": {
      "text/plain": [
       "1551"
      ]
     },
     "execution_count": 14,
     "metadata": {},
     "output_type": "execute_result"
    }
   ],
   "source": [
    "len(dev_vocab)"
   ]
  },
  {
   "cell_type": "markdown",
   "metadata": {},
   "source": [
    "## Question 2: Improve the color representations [1 point]\n",
    "\n",
    "This is the second required pipeline improvement for the assignment. \n",
    "\n",
    "The following functions do nothing at all to the raw input colors we get from the corpus. "
   ]
  },
  {
   "cell_type": "code",
   "execution_count": 31,
   "metadata": {
    "ExecuteTime": {
     "end_time": "2020-05-08T04:45:45.878770Z",
     "start_time": "2020-05-08T04:45:45.865630Z"
    }
   },
   "outputs": [],
   "source": [
    "import colorsys\n",
    "\n",
    "def represent_color_context(colors):\n",
    "    \n",
    "    # Improve me!\n",
    "    \n",
    "    return [represent_color(color) for color in colors]\n",
    "\n",
    "\n",
    "def represent_color(color):\n",
    "    import numpy.fft as fft\n",
    "    # Improve me!\n",
    "    #return color\n",
    "#     color_hsv = colorsys.rgb_to_hsv(*color)\n",
    "    return fft.fft(color).real\n",
    "#     return colorsys.rgb_to_hsv(*color)\n",
    "\n",
    "def fft_color_to_rgb(fft_color):\n",
    "    import numpy.fft as fft\n",
    "    import numpy as np\n",
    "    return np.real(fft.ifft(fft_color))"
   ]
  },
  {
   "cell_type": "code",
   "execution_count": 32,
   "metadata": {
    "ExecuteTime": {
     "end_time": "2020-05-08T04:45:46.464965Z",
     "start_time": "2020-05-08T04:45:46.454054Z"
    }
   },
   "outputs": [
    {
     "name": "stdout",
     "output_type": "stream",
     "text": [
      "-- Original\n",
      "[[0.8583333333333333, 0.5, 0.72], [0.15, 0.5, 0.23], [0.575, 0.5, 0.07]]\n",
      "-- FFT\n",
      "[array([2.07833333, 0.24833333, 0.24833333]), array([ 0.88 , -0.215, -0.215]), array([1.145, 0.29 , 0.29 ])]\n",
      "-- Back to original\n",
      "[[0.85833333 0.61       0.61      ]\n",
      " [0.15       0.365      0.365     ]\n",
      " [0.575      0.285      0.285     ]]\n"
     ]
    }
   ],
   "source": [
    "fft_colors = represent_color_context(dev_rawcols_train[0])\n",
    "\n",
    "print('-- Original')\n",
    "print(dev_rawcols_train[0])\n",
    "print('-- FFT')\n",
    "print(fft_colors)\n",
    "print('-- Back to original')\n",
    "print(fft_color_to_rgb(fft_colors))"
   ]
  },
  {
   "cell_type": "code",
   "execution_count": 33,
   "metadata": {
    "ExecuteTime": {
     "end_time": "2020-05-08T04:45:47.123466Z",
     "start_time": "2020-05-08T04:45:47.007301Z"
    }
   },
   "outputs": [
    {
     "data": {
      "image/png": "[encoded data removed]",
      "text/plain": [
       "<Figure size 216x72 with 3 Axes>"
      ]
     },
     "metadata": {
      "needs_background": "light"
     },
     "output_type": "display_data"
    }
   ],
   "source": [
    "from colors import draw_rgb_colors, draw_fft_colors\n",
    "draw_rgb_colors(dev_rawcols_train[0], 2)"
   ]
  },
  {
   "cell_type": "code",
   "execution_count": 34,
   "metadata": {
    "ExecuteTime": {
     "end_time": "2020-05-08T04:45:47.625176Z",
     "start_time": "2020-05-08T04:45:47.531787Z"
    }
   },
   "outputs": [
    {
     "data": {
      "image/png": "[encoded data removed]",
      "text/plain": [
       "<Figure size 216x72 with 3 Axes>"
      ]
     },
     "metadata": {
      "needs_background": "light"
     },
     "output_type": "display_data"
    }
   ],
   "source": [
    "draw_fft_colors(fft_colors)"
   ]
  },
  {
   "cell_type": "markdown",
   "metadata": {},
   "source": [
    "__Your task__: Modify `represent_color_context` and/or `represent_color` to represent colors in a new way.\n",
    "    \n",
    "__Notes__:\n",
    "\n",
    "* The Fourier-transform method of [Monroe et al. 2017](https://transacl.org/ojs/index.php/tacl/article/view/1142) is a proven choice.\n",
    "* You are not required to keep `represent_color`. This might be unnatural if you want to perform an operation on each color trio all at once.\n",
    "* For that matter, if you want to process all of the color contexts in the entire data set all at once, that is fine too, as long as you can also perform the operation at test time with an unknown number of examples being tested."
   ]
  },
  {
   "cell_type": "markdown",
   "metadata": {},
   "source": [
    "## Use the color representer"
   ]
  },
  {
   "cell_type": "markdown",
   "metadata": {},
   "source": [
    "The following cell just runs your `represent_color_context` on the train and test sets:"
   ]
  },
  {
   "cell_type": "code",
   "execution_count": 66,
   "metadata": {
    "ExecuteTime": {
     "end_time": "2020-05-04T04:44:59.486971Z",
     "start_time": "2020-05-04T04:44:58.204954Z"
    }
   },
   "outputs": [],
   "source": [
    "dev_cols_train = [represent_color_context(colors) for colors in dev_rawcols_train]\n",
    "\n",
    "dev_cols_test = [represent_color_context(colors) for colors in dev_rawcols_test]"
   ]
  },
  {
   "cell_type": "markdown",
   "metadata": {},
   "source": [
    "At this point, our preprocessing steps are complete, and we can fit a first model."
   ]
  },
  {
   "cell_type": "markdown",
   "metadata": {},
   "source": [
    "## Initial model\n",
    "\n",
    "The first model is configured right now to be a small model run for just a few iterations. It should be enough to get traction, but it's unlikely to be a great model. You are free to modify this configuration if you wish; it is here just for demonstration and testing:"
   ]
  },
  {
   "cell_type": "code",
   "execution_count": 67,
   "metadata": {
    "ExecuteTime": {
     "end_time": "2020-05-04T04:45:03.821247Z",
     "start_time": "2020-05-04T04:45:03.815848Z"
    }
   },
   "outputs": [
    {
     "name": "stdout",
     "output_type": "stream",
     "text": [
      "Using cpu\n"
     ]
    }
   ],
   "source": [
    "dev_mod = ColorizedNeuralListener(\n",
    "    dev_vocab, \n",
    "    embed_dim=10, \n",
    "    hidden_dim=10, \n",
    "    max_iter=5, \n",
    "    batch_size=128)"
   ]
  },
  {
   "cell_type": "code",
   "execution_count": 68,
   "metadata": {
    "ExecuteTime": {
     "end_time": "2020-05-04T04:45:58.746754Z",
     "start_time": "2020-05-04T04:45:10.465449Z"
    }
   },
   "outputs": [
    {
     "name": "stdout",
     "output_type": "stream",
     "text": [
      "ColorizedNeuralListenerEncoder cpu\n",
      "ColorizedNeuralListenerEncoderDecoder cpu\n"
     ]
    },
    {
     "name": "stderr",
     "output_type": "stream",
     "text": [
      "/Users/55mb/Documents/Courses/xcs224u/final_project/cs224u/torch_color_describer.py:77: ComplexWarning: Casting complex values to real discards the imaginary part\n",
      "  color_seqs = torch.FloatTensor(color_seqs)\n"
     ]
    },
    {
     "name": "stdout",
     "output_type": "stream",
     "text": [
      "Train: Epoch 1; err = 255.2325730919838; time = 8.816678047180176\n",
      "Train: Epoch 2; err = 232.16912704706192; time = 9.642733812332153\n",
      "Train: Epoch 3; err = 223.25770688056946; time = 9.62045693397522\n",
      "Train: Epoch 4; err = 218.35947579145432; time = 9.871763944625854\n",
      "Train: Epoch 5; err = 214.46475839614868; time = 10.227066040039062\n"
     ]
    }
   ],
   "source": [
    "_ = dev_mod.fit(dev_cols_train, dev_seqs_train)"
   ]
  },
  {
   "cell_type": "markdown",
   "metadata": {},
   "source": [
    "We can also see the model's predicted sequences given color context inputs:"
   ]
  },
  {
   "cell_type": "code",
   "execution_count": 69,
   "metadata": {
    "ExecuteTime": {
     "end_time": "2020-05-04T04:46:03.112512Z",
     "start_time": "2020-05-04T04:46:03.106040Z"
    }
   },
   "outputs": [
    {
     "data": {
      "text/plain": [
       "[1]"
      ]
     },
     "execution_count": 69,
     "metadata": {},
     "output_type": "execute_result"
    }
   ],
   "source": [
    "dev_mod.predict(dev_cols_test[:1], dev_seqs_train[:1])"
   ]
  },
  {
   "cell_type": "markdown",
   "metadata": {},
   "source": [
    "As discussed in [colors_overview.ipynb](colors_overview.ipynb), our primary metric is `listener_accuracy`:"
   ]
  },
  {
   "cell_type": "code",
   "execution_count": 32,
   "metadata": {
    "ExecuteTime": {
     "end_time": "2020-05-03T06:40:29.425344Z",
     "start_time": "2020-05-03T06:40:29.423067Z"
    }
   },
   "outputs": [],
   "source": [
    "#dev_mod.listener_accuracy(dev_cols_test, dev_seqs_test)"
   ]
  },
  {
   "cell_type": "code",
   "execution_count": 22,
   "metadata": {},
   "outputs": [],
   "source": [
    "#dev_seqs_train[:1]"
   ]
  },
  {
   "cell_type": "markdown",
   "metadata": {},
   "source": [
    "## Question 3: GloVe embeddings [1 points]\n",
    "\n",
    "The above model uses a random initial embedding, as configured by the decoder used by `ContextualColorDescriber`. This homework question asks you to consider using GloVe inputs. \n",
    "\n",
    "__Your task__: Complete `create_glove_embedding` so that it creates a GloVe embedding based on your model vocabulary. This isn't mean to be analytically challenging, but rather just to create a basis for you to try out other kinds of rich initialization."
   ]
  },
  {
   "cell_type": "code",
   "execution_count": 70,
   "metadata": {
    "ExecuteTime": {
     "end_time": "2020-05-04T04:46:09.956447Z",
     "start_time": "2020-05-04T04:46:09.952121Z"
    }
   },
   "outputs": [],
   "source": [
    "GLOVE_HOME = os.path.join('data', 'glove.6B')"
   ]
  },
  {
   "cell_type": "code",
   "execution_count": 71,
   "metadata": {
    "ExecuteTime": {
     "end_time": "2020-05-04T04:46:10.708151Z",
     "start_time": "2020-05-04T04:46:10.704709Z"
    }
   },
   "outputs": [],
   "source": [
    "def create_glove_embedding(vocab, glove_base_filename='glove.6B.100d.txt'):\n",
    "    \n",
    "    # Use `utils.glove2dict` to read in the GloVe file:    \n",
    "    ##### YOUR CODE HERE\n",
    "    glove_dict = utils.glove2dict(os.path.join(GLOVE_HOME, glove_base_filename))\n",
    "\n",
    "    \n",
    "    # Use `utils.create_pretrained_embedding` to create the embedding.\n",
    "    # This function will, by default, ensure that START_TOKEN, \n",
    "    # END_TOKEN, and UNK_TOKEN are included in the embedding.\n",
    "    ##### YOUR CODE HERE\n",
    "    embedding, new_vocab = utils.create_pretrained_embedding(glove_dict, vocab)\n",
    "\n",
    "    \n",
    "    # Be sure to return the embedding you create as well as the\n",
    "    # vocabulary returned by `utils.create_pretrained_embedding`,\n",
    "    # which is likely to have been modified from the input `vocab`.\n",
    "    \n",
    "    ##### YOUR CODE HERE\n",
    "    return embedding, new_vocab\n"
   ]
  },
  {
   "cell_type": "markdown",
   "metadata": {},
   "source": [
    "## Try the GloVe representations"
   ]
  },
  {
   "cell_type": "markdown",
   "metadata": {},
   "source": [
    "Let's see if GloVe helped for our development data:"
   ]
  },
  {
   "cell_type": "code",
   "execution_count": 25,
   "metadata": {},
   "outputs": [],
   "source": [
    "#dev_glove_embedding, dev_glove_vocab = create_glove_embedding(dev_vocab)"
   ]
  },
  {
   "cell_type": "code",
   "execution_count": 72,
   "metadata": {
    "ExecuteTime": {
     "end_time": "2020-05-04T04:46:15.827962Z",
     "start_time": "2020-05-04T04:46:15.819783Z"
    }
   },
   "outputs": [],
   "source": [
    "embedding = np.random.normal(\n",
    "            loc=0, scale=0.01, size=(len(dev_vocab), 100))"
   ]
  },
  {
   "cell_type": "markdown",
   "metadata": {},
   "source": [
    "The above might dramatically change your vocabulary, depending on how many items from your vocab are in the Glove space:"
   ]
  },
  {
   "cell_type": "markdown",
   "metadata": {},
   "source": [
    "## Question 4: Color context [3 points]"
   ]
  },
  {
   "cell_type": "code",
   "execution_count": 73,
   "metadata": {
    "ExecuteTime": {
     "end_time": "2020-05-04T04:46:18.259536Z",
     "start_time": "2020-05-04T04:46:18.255256Z"
    }
   },
   "outputs": [],
   "source": [
    "toy_color_seqs, toy_word_seqs, toy_vocab = create_example_dataset(\n",
    "    group_size=50, vec_dim=2)"
   ]
  },
  {
   "cell_type": "code",
   "execution_count": 74,
   "metadata": {
    "ExecuteTime": {
     "end_time": "2020-05-04T04:46:18.797511Z",
     "start_time": "2020-05-04T04:46:18.792644Z"
    }
   },
   "outputs": [],
   "source": [
    "toy_color_seqs_train, toy_color_seqs_test, toy_word_seqs_train, toy_word_seqs_test = \\\n",
    "    train_test_split(toy_color_seqs, toy_word_seqs)"
   ]
  },
  {
   "cell_type": "code",
   "execution_count": 76,
   "metadata": {
    "ExecuteTime": {
     "end_time": "2020-05-04T04:46:52.979753Z",
     "start_time": "2020-05-04T04:46:52.975961Z"
    }
   },
   "outputs": [
    {
     "name": "stdout",
     "output_type": "stream",
     "text": [
      "Using cpu\n"
     ]
    }
   ],
   "source": [
    "toy_mod = ColorizedNeuralListener(\n",
    "    toy_vocab, \n",
    "    embed_dim=100, \n",
    "    embedding=embedding,\n",
    "    hidden_dim=100, \n",
    "    max_iter=2, \n",
    "    batch_size=128)"
   ]
  },
  {
   "cell_type": "code",
   "execution_count": 77,
   "metadata": {
    "ExecuteTime": {
     "end_time": "2020-05-04T04:46:55.536270Z",
     "start_time": "2020-05-04T04:46:55.477466Z"
    }
   },
   "outputs": [
    {
     "name": "stdout",
     "output_type": "stream",
     "text": [
      "ColorizedNeuralListenerEncoder cpu\n",
      "ColorizedNeuralListenerEncoderDecoder cpu\n",
      "Train: Epoch 1; err = 1.0988975763320923; time = 0.029386281967163086\n",
      "Train: Epoch 2; err = 1.0941307544708252; time = 0.018450021743774414\n"
     ]
    }
   ],
   "source": [
    "_ = toy_mod.fit(toy_color_seqs_train, toy_word_seqs_train)"
   ]
  },
  {
   "cell_type": "code",
   "execution_count": 78,
   "metadata": {
    "ExecuteTime": {
     "end_time": "2020-05-04T04:46:58.367957Z",
     "start_time": "2020-05-04T04:46:58.356402Z"
    }
   },
   "outputs": [
    {
     "name": "stdout",
     "output_type": "stream",
     "text": [
      "13 / 38 0.34210526315789475\n"
     ]
    }
   ],
   "source": [
    "preds = toy_mod.predict(toy_color_seqs_test, toy_word_seqs_test)\n",
    "correct = sum([1 if x == 2 else 0 for x in preds])\n",
    "print(correct, \"/\", len(preds), correct/len(preds))"
   ]
  },
  {
   "cell_type": "markdown",
   "metadata": {},
   "source": [
    "If that worked, then you can now try this model on SCC problems!"
   ]
  },
  {
   "cell_type": "code",
   "execution_count": 79,
   "metadata": {
    "ExecuteTime": {
     "end_time": "2020-05-04T04:47:11.509774Z",
     "start_time": "2020-05-04T04:47:11.504021Z"
    }
   },
   "outputs": [
    {
     "name": "stdout",
     "output_type": "stream",
     "text": [
      "Using cpu\n"
     ]
    }
   ],
   "source": [
    "dev_color_mod = ColorizedNeuralListener(\n",
    "    dev_vocab, \n",
    "    #embedding=dev_glove_embedding, \n",
    "    embed_dim=100,\n",
    "    embedding=embedding,\n",
    "    hidden_dim=100, \n",
    "    max_iter=10,\n",
    "    batch_size=64,\n",
    "    dropout_prob=0.,\n",
    "    eta=0.005,\n",
    "    lr_rate=0.96,\n",
    "    warm_start=True,\n",
    "    force_cpu=False)"
   ]
  },
  {
   "cell_type": "code",
   "execution_count": 80,
   "metadata": {
    "ExecuteTime": {
     "end_time": "2020-05-04T04:49:21.392914Z",
     "start_time": "2020-05-04T04:47:12.505197Z"
    }
   },
   "outputs": [
    {
     "name": "stdout",
     "output_type": "stream",
     "text": [
      "ColorizedNeuralListenerEncoder cpu\n",
      "ColorizedNeuralListenerEncoderDecoder cpu\n",
      "Train: Epoch 1; err = 541.3919068574905; time = 11.063759803771973\n",
      "Train: Epoch 2; err = 500.2196434736252; time = 12.451120138168335\n",
      "Train: Epoch 3; err = 487.11743050813675; time = 12.501605033874512\n",
      "Train: Epoch 4; err = 466.39636570215225; time = 12.984730958938599\n",
      "Train: Epoch 5; err = 455.7065489888191; time = 13.331377029418945\n",
      "Train: Epoch 6; err = 446.74595975875854; time = 13.291994094848633\n",
      "Train: Epoch 7; err = 448.8879731297493; time = 13.03772497177124\n",
      "Train: Epoch 8; err = 435.8256126046181; time = 13.455543994903564\n",
      "Train: Epoch 9; err = 432.8725681900978; time = 13.727197885513306\n",
      "Train: Epoch 10; err = 428.55587059259415; time = 12.941281795501709\n"
     ]
    }
   ],
   "source": [
    "_ = dev_color_mod.fit(dev_cols_train, dev_seqs_train)"
   ]
  },
  {
   "cell_type": "code",
   "execution_count": 81,
   "metadata": {
    "ExecuteTime": {
     "end_time": "2020-05-04T04:49:33.906153Z",
     "start_time": "2020-05-04T04:49:25.147579Z"
    }
   },
   "outputs": [],
   "source": [
    "test_preds = dev_color_mod.predict(dev_cols_test, dev_seqs_test)\n",
    "#dev_color_mod.predict(dev_cols_test, dev_seqs_test, probabilities=True)\n",
    "train_preds = dev_color_mod.predict(dev_cols_train, dev_seqs_train)\n",
    "#dev_color_mod.predict(dev_cols_test, dev_seqs_test, probabilities=True)"
   ]
  },
  {
   "cell_type": "code",
   "execution_count": 82,
   "metadata": {
    "ExecuteTime": {
     "end_time": "2020-05-04T04:49:33.927874Z",
     "start_time": "2020-05-04T04:49:33.908283Z"
    }
   },
   "outputs": [
    {
     "name": "stdout",
     "output_type": "stream",
     "text": [
      "test 8946 / 11749 0.7614265043833518\n",
      "train 27301 / 35245 0.7746063271386012\n"
     ]
    }
   ],
   "source": [
    "correct = sum([1 if x == 2 else 0 for x in test_preds])\n",
    "print(\"test\", correct, \"/\", len(test_preds), correct/len(test_preds))\n",
    "correct = sum([1 if x == 2 else 0 for x in train_preds])\n",
    "print(\"train\", correct, \"/\", len(train_preds), correct/len(train_preds))"
   ]
  },
  {
   "cell_type": "code",
   "execution_count": 83,
   "metadata": {
    "ExecuteTime": {
     "end_time": "2020-05-04T09:59:08.454525Z",
     "start_time": "2020-05-04T04:50:49.353860Z"
    }
   },
   "outputs": [
    {
     "name": "stdout",
     "output_type": "stream",
     "text": [
      "\n",
      "Training for config: batch_medium\n",
      "Using cpu\n",
      "ColorizedNeuralListenerEncoder cpu\n",
      "ColorizedNeuralListenerEncoderDecoder cpu\n",
      "Train: Epoch 1; err = 561.9436583518982; time = 11.563308000564575\n",
      "Train: Epoch 2; err = 507.93099397420883; time = 11.92100191116333\n",
      "Train: Epoch 3; err = 482.72451454401016; time = 12.328474760055542\n",
      "Train: Epoch 4; err = 479.6989526748657; time = 12.582051992416382\n",
      "Train: Epoch 5; err = 461.16443490982056; time = 12.725441217422485\n",
      "Train: Epoch 6; err = 451.1033304333687; time = 12.72063398361206\n",
      "Train: Epoch 7; err = 442.30820244550705; time = 12.571479082107544\n",
      "Train: Epoch 8; err = 439.45595794916153; time = 12.69946002960205\n",
      "Train: Epoch 9; err = 446.20853340625763; time = 12.585028171539307\n",
      "Train: Epoch 10; err = 433.0049625635147; time = 12.838449001312256\n",
      "Train: Epoch 11; err = 428.5005812048912; time = 12.951405048370361\n",
      "Train: Epoch 12; err = 428.57429522275925; time = 12.996263980865479\n",
      "Train: Epoch 13; err = 425.0000900030136; time = 13.967862129211426\n",
      "Train: Epoch 14; err = 420.12253326177597; time = 13.44527292251587\n",
      "0.0048\n",
      "tensor([0.1777, 0.1209, 0.7014], grad_fn=<MeanBackward1>) 0.8230491876602173\n",
      "Train: Epoch 15; err = 418.9535197019577; time = 13.297398090362549\n",
      "Train: Epoch 16; err = 416.67237704992294; time = 13.218383073806763\n",
      "Train: Epoch 17; err = 415.8591752052307; time = 13.176991939544678\n",
      "Train: Epoch 18; err = 413.06225150823593; time = 13.63391900062561\n",
      "Train: Epoch 19; err = 413.7636551260948; time = 13.438757181167603\n",
      "Train: Epoch 20; err = 410.63271576166153; time = 12.699111938476562\n",
      "Train: Epoch 21; err = 407.87119299173355; time = 13.547508001327515\n",
      "Train: Epoch 22; err = 409.8563104271889; time = 15.05788803100586\n",
      "Train: Epoch 23; err = 407.69324481487274; time = 13.206067085266113\n",
      "Train: Epoch 24; err = 406.53265738487244; time = 12.88178825378418\n",
      "Train: Epoch 25; err = 404.54306095838547; time = 12.758663892745972\n",
      "Train: Epoch 26; err = 402.76825165748596; time = 12.784913063049316\n",
      "Train: Epoch 27; err = 400.6730967760086; time = 12.57136607170105\n",
      "Train: Epoch 28; err = 400.30962014198303; time = 12.660912990570068\n",
      "Train: Epoch 29; err = 400.27257800102234; time = 12.526900291442871\n",
      "0.004607999999999999\n",
      "tensor([0.1489, 0.0223, 0.8288], grad_fn=<MeanBackward1>) 0.7149544358253479\n",
      "Train: Epoch 30; err = 398.5833095908165; time = 12.569545030593872\n",
      "Train: Epoch 31; err = 396.71336102485657; time = 12.693883180618286\n",
      "Train: Epoch 32; err = 395.70747071504593; time = 12.656784057617188\n",
      "Train: Epoch 33; err = 392.90598887205124; time = 12.488362073898315\n",
      "Train: Epoch 34; err = 392.90581780672073; time = 12.996962785720825\n",
      "Train: Epoch 35; err = 391.7903216481209; time = 12.7760648727417\n",
      "Train: Epoch 36; err = 390.2689180970192; time = 12.824184894561768\n",
      "Train: Epoch 37; err = 389.66352289915085; time = 12.923088073730469\n",
      "Train: Epoch 38; err = 395.434169113636; time = 12.82421612739563\n",
      "Train: Epoch 39; err = 390.8757668733597; time = 12.812222957611084\n",
      "Train: Epoch 40; err = 386.88947331905365; time = 12.883579969406128\n",
      "Train: Epoch 41; err = 387.59433484077454; time = 12.901394844055176\n",
      "Train: Epoch 42; err = 385.95922219753265; time = 12.777200937271118\n",
      "Train: Epoch 43; err = 388.826825261116; time = 12.879722833633423\n",
      "Train: Epoch 44; err = 384.0011402964592; time = 12.74942398071289\n",
      "0.004423679999999999\n",
      "tensor([0.0866, 0.0102, 0.9032], grad_fn=<MeanBackward1>) 0.6351200938224792\n",
      "Train: Epoch 45; err = 384.65174531936646; time = 12.731997966766357\n",
      "Train: Epoch 46; err = 382.6744179725647; time = 12.997517824172974\n",
      "Train: Epoch 47; err = 382.84561544656754; time = 12.596684217453003\n",
      "Train: Epoch 48; err = 380.61311173439026; time = 12.582918882369995\n",
      "Train: Epoch 49; err = 382.2915824651718; time = 12.562663793563843\n",
      "Train: Epoch 50; err = 382.8623534440994; time = 12.654430866241455\n",
      "Train: Epoch 51; err = 380.00060737133026; time = 12.648781061172485\n",
      "Train: Epoch 52; err = 379.5225595831871; time = 12.7555091381073\n",
      "Train: Epoch 53; err = 379.44333297014236; time = 12.9392671585083\n",
      "Train: Epoch 54; err = 380.0881695151329; time = 12.680815935134888\n",
      "Train: Epoch 55; err = 378.0824107527733; time = 12.607156038284302\n",
      "Train: Epoch 56; err = 380.0809450149536; time = 13.445430755615234\n",
      "Train: Epoch 57; err = 376.54979437589645; time = 13.490569114685059\n",
      "Train: Epoch 58; err = 375.0066606402397; time = 13.826288223266602\n",
      "Train: Epoch 59; err = 376.1635454297066; time = 13.283874750137329\n",
      "0.004246732799999999\n",
      "tensor([0.0936, 0.0273, 0.8791], grad_fn=<MeanBackward1>) 0.6573899984359741\n",
      "Train: Epoch 60; err = 377.3066254258156; time = 12.879369974136353\n",
      "Train: Epoch 61; err = 374.4955459833145; time = 12.716930866241455\n",
      "Train: Epoch 62; err = 374.2725313305855; time = 12.641950368881226\n",
      "Train: Epoch 63; err = 375.54480451345444; time = 12.552535057067871\n",
      "Train: Epoch 64; err = 371.9298846721649; time = 12.55317211151123\n",
      "Train: Epoch 65; err = 373.3977298736572; time = 12.972340106964111\n",
      "Train: Epoch 66; err = 372.56561785936356; time = 12.9951171875\n",
      "Train: Epoch 67; err = 373.42323380708694; time = 12.92964792251587\n",
      "Train: Epoch 68; err = 370.83800607919693; time = 12.776110887527466\n",
      "Train: Epoch 69; err = 369.26837682724; time = 12.973908185958862\n",
      "Train: Epoch 70; err = 370.640595972538; time = 13.01514220237732\n",
      "Train: Epoch 71; err = 371.3717910051346; time = 12.731780767440796\n",
      "Train: Epoch 72; err = 369.0459098815918; time = 13.009051084518433\n",
      "Train: Epoch 73; err = 368.93896049261093; time = 12.678387880325317\n",
      "Train: Epoch 74; err = 367.7667462825775; time = 13.033710241317749\n",
      "0.004076863487999999\n",
      "tensor([0.0357, 0.0124, 0.9518], grad_fn=<MeanBackward1>) 0.5901057124137878\n",
      "Train: Epoch 75; err = 368.98063457012177; time = 14.20452618598938\n",
      "Train: Epoch 76; err = 367.5730215907097; time = 14.14679479598999\n",
      "Train: Epoch 77; err = 367.97689336538315; time = 12.801516056060791\n",
      "Train: Epoch 78; err = 367.914308488369; time = 12.595954895019531\n",
      "Train: Epoch 79; err = 366.54416459798813; time = 12.550896883010864\n",
      "Train: Epoch 80; err = 367.6334751844406; time = 12.761106014251709\n",
      "Train: Epoch 81; err = 364.5419422388077; time = 13.006508827209473\n",
      "Train: Epoch 82; err = 364.3289529681206; time = 13.366397857666016\n",
      "Train: Epoch 83; err = 365.14168763160706; time = 12.8734290599823\n",
      "Train: Epoch 84; err = 367.21440982818604; time = 12.891120910644531\n",
      "Train: Epoch 85; err = 366.55465853214264; time = 13.445093154907227\n",
      "Train: Epoch 86; err = 363.8389751315117; time = 13.214772939682007\n",
      "Train: Epoch 87; err = 367.17999374866486; time = 13.45178484916687\n",
      "Train: Epoch 88; err = 364.3918859362602; time = 13.521946907043457\n",
      "Train: Epoch 89; err = 369.41307759284973; time = 13.032631874084473\n",
      "0.003913788948479999\n",
      "tensor([0.0742, 0.0459, 0.8799], grad_fn=<MeanBackward1>) 0.654265820980072\n",
      "Train: Epoch 90; err = 367.01599156856537; time = 12.76405382156372\n",
      "Train: Epoch 91; err = 365.7829640507698; time = 12.742472887039185\n",
      "Train: Epoch 92; err = 362.2305655479431; time = 13.012715101242065\n",
      "Train: Epoch 93; err = 362.7000832557678; time = 12.76289415359497\n",
      "Train: Epoch 94; err = 368.7742910981178; time = 13.047473907470703\n",
      "Train: Epoch 95; err = 361.5684744119644; time = 13.175199031829834\n",
      "Train: Epoch 96; err = 360.6896287202835; time = 12.775957822799683\n",
      "Train: Epoch 97; err = 361.4129005074501; time = 13.032388925552368\n",
      "Train: Epoch 98; err = 362.4472202658653; time = 13.776006937026978\n",
      "Train: Epoch 99; err = 362.25003600120544; time = 13.506042242050171\n",
      "Train: Epoch 100; err = 361.93850815296173; time = 13.48927092552185\n",
      "\n",
      "Training for config: batch_small\n",
      "Using cpu\n",
      "ColorizedNeuralListenerEncoder cpu\n",
      "ColorizedNeuralListenerEncoderDecoder cpu\n",
      "Train: Epoch 1; err = 1082.412175834179; time = 17.48974919319153\n",
      "Train: Epoch 2; err = 982.0232011079788; time = 16.49386191368103\n",
      "Train: Epoch 3; err = 938.8384492397308; time = 17.382225036621094\n",
      "Train: Epoch 4; err = 908.3440960049629; time = 17.617109060287476\n",
      "Train: Epoch 5; err = 885.7927753329277; time = 18.19669198989868\n",
      "Train: Epoch 6; err = 874.2384886145592; time = 18.49000597000122\n",
      "Train: Epoch 7; err = 857.690658390522; time = 18.501778841018677\n",
      "Train: Epoch 8; err = 853.6972021460533; time = 19.834378004074097\n",
      "Train: Epoch 9; err = 846.4933949112892; time = 19.24487280845642\n"
     ]
    },
    {
     "name": "stdout",
     "output_type": "stream",
     "text": [
      "Train: Epoch 10; err = 836.9487182497978; time = 17.478610038757324\n",
      "Train: Epoch 11; err = 830.9658454060555; time = 17.185606956481934\n",
      "Train: Epoch 12; err = 828.1608707308769; time = 17.74897003173828\n",
      "Train: Epoch 13; err = 823.4143252372742; time = 18.632197856903076\n",
      "Train: Epoch 14; err = 819.3946200013161; time = 18.330410957336426\n",
      "0.0048\n",
      "tensor([0.1237, 0.1887, 0.6876], grad_fn=<MeanBackward1>) 0.8213493824005127\n",
      "Train: Epoch 15; err = 814.8883317708969; time = 17.467868328094482\n",
      "Train: Epoch 16; err = 808.3661930561066; time = 18.139600038528442\n",
      "Train: Epoch 17; err = 804.2031346559525; time = 18.446974992752075\n",
      "Train: Epoch 18; err = 802.1678283214569; time = 17.820896863937378\n",
      "Train: Epoch 19; err = 800.071427166462; time = 16.963726043701172\n",
      "Train: Epoch 20; err = 796.4901947975159; time = 17.871976852416992\n",
      "Train: Epoch 21; err = 793.6265470981598; time = 19.601378202438354\n",
      "Train: Epoch 22; err = 790.50310587883; time = 18.59966278076172\n",
      "Train: Epoch 23; err = 789.1928251385689; time = 17.3075270652771\n",
      "Train: Epoch 24; err = 786.4029663205147; time = 17.48259401321411\n",
      "Train: Epoch 25; err = 783.1765002012253; time = 17.564784049987793\n",
      "Train: Epoch 26; err = 782.5390856862068; time = 17.91660499572754\n",
      "Train: Epoch 27; err = 777.8891475200653; time = 17.323938131332397\n",
      "Train: Epoch 28; err = 781.3685204386711; time = 18.091394186019897\n",
      "Train: Epoch 29; err = 776.6570135951042; time = 17.831855058670044\n",
      "0.004607999999999999\n",
      "tensor([0.1164, 0.0896, 0.7940], grad_fn=<MeanBackward1>) 0.7354907393455505\n",
      "Train: Epoch 30; err = 774.3304113745689; time = 18.312067985534668\n",
      "Train: Epoch 31; err = 770.1702968478203; time = 18.266833305358887\n",
      "Train: Epoch 32; err = 775.0245315432549; time = 18.166422128677368\n",
      "Train: Epoch 33; err = 767.5809152126312; time = 18.85517692565918\n",
      "Train: Epoch 34; err = 767.0575598478317; time = 19.67407202720642\n",
      "Train: Epoch 35; err = 763.2602747678757; time = 18.301779985427856\n",
      "Train: Epoch 36; err = 765.9679317474365; time = 18.75751781463623\n",
      "Train: Epoch 37; err = 762.8437604308128; time = 17.935570001602173\n",
      "Train: Epoch 38; err = 758.2973296046257; time = 17.65988802909851\n",
      "Train: Epoch 39; err = 756.5023348927498; time = 18.558565855026245\n",
      "Train: Epoch 40; err = 779.4175557494164; time = 18.10376000404358\n",
      "Train: Epoch 41; err = 759.4194407463074; time = 17.572110176086426\n",
      "Train: Epoch 42; err = 790.4347146749496; time = 18.778805017471313\n",
      "Train: Epoch 43; err = 773.9820989966393; time = 20.96268606185913\n",
      "Train: Epoch 44; err = 757.6675428152084; time = 20.312630891799927\n",
      "0.004423679999999999\n",
      "tensor([5.2097e-02, 7.7659e-05, 9.4783e-01], grad_fn=<MeanBackward1>) 0.5890658497810364\n",
      "Train: Epoch 45; err = 752.4512516260147; time = 19.52077889442444\n",
      "Train: Epoch 46; err = 753.6712664961815; time = 18.59409213066101\n",
      "Train: Epoch 47; err = 750.9914135932922; time = 18.874268770217896\n",
      "Train: Epoch 48; err = 751.4347822070122; time = 20.590856075286865\n",
      "Train: Epoch 49; err = 748.4128737449646; time = 18.1741681098938\n",
      "Train: Epoch 50; err = 746.6487026810646; time = 18.21479296684265\n",
      "Train: Epoch 51; err = 746.1984620094299; time = 18.91683268547058\n",
      "Train: Epoch 52; err = 751.7096099853516; time = 19.354779958724976\n",
      "Train: Epoch 53; err = 748.4186222553253; time = 21.126845121383667\n",
      "Train: Epoch 54; err = 745.1950035095215; time = 22.602335929870605\n",
      "Train: Epoch 55; err = 743.6374621391296; time = 24.49770498275757\n",
      "Train: Epoch 56; err = 745.790361225605; time = 22.907079935073853\n",
      "Train: Epoch 57; err = 739.2348176836967; time = 21.921529054641724\n",
      "Train: Epoch 58; err = 766.0384225845337; time = 25.42135977745056\n",
      "Train: Epoch 59; err = 742.2126162052155; time = 24.276129961013794\n",
      "0.004246732799999999\n",
      "tensor([3.6176e-02, 6.5704e-05, 9.6376e-01], grad_fn=<MeanBackward1>) 0.580093502998352\n",
      "Train: Epoch 60; err = 735.8662992119789; time = 22.297056913375854\n",
      "Train: Epoch 61; err = 736.8217927217484; time = 19.202778100967407\n",
      "Train: Epoch 62; err = 734.1290299892426; time = 17.541219234466553\n",
      "Train: Epoch 63; err = 737.9002211093903; time = 17.865601062774658\n",
      "Train: Epoch 64; err = 735.8039655685425; time = 18.921895027160645\n",
      "Train: Epoch 65; err = 733.0025376677513; time = 17.923763036727905\n",
      "Train: Epoch 66; err = 736.3529201745987; time = 18.239211082458496\n",
      "Train: Epoch 67; err = 733.4316276311874; time = 19.461663007736206\n",
      "Train: Epoch 68; err = 732.7017226219177; time = 17.962410926818848\n",
      "Train: Epoch 69; err = 733.3237315416336; time = 18.264198064804077\n",
      "Train: Epoch 70; err = 732.8854359984398; time = 19.083184242248535\n",
      "Train: Epoch 71; err = 729.1817370057106; time = 18.610318899154663\n",
      "Train: Epoch 72; err = 729.825009226799; time = 18.42197871208191\n",
      "Train: Epoch 73; err = 728.8339328169823; time = 18.63950204849243\n",
      "Train: Epoch 74; err = 728.4776583313942; time = 18.38039207458496\n",
      "0.004076863487999999\n",
      "tensor([0.1125, 0.1534, 0.7341], grad_fn=<MeanBackward1>) 0.8019568920135498\n",
      "Train: Epoch 75; err = 729.3548672795296; time = 18.038676977157593\n",
      "Train: Epoch 76; err = 778.3552200198174; time = 18.60878896713257\n",
      "Train: Epoch 77; err = 752.8893812894821; time = 19.496166944503784\n",
      "Train: Epoch 78; err = 734.3175427913666; time = 22.271795988082886\n",
      "Train: Epoch 79; err = 736.5975239276886; time = 23.0055091381073\n",
      "Train: Epoch 80; err = 737.3114161491394; time = 20.777223110198975\n",
      "Train: Epoch 81; err = 725.139937877655; time = 19.582905054092407\n",
      "Train: Epoch 82; err = 721.9218199849129; time = 22.39903211593628\n",
      "Train: Epoch 83; err = 720.1928707957268; time = 20.92102599143982\n",
      "Train: Epoch 84; err = 721.0176706910133; time = 19.94266986846924\n",
      "Train: Epoch 85; err = 723.8616024255753; time = 20.080987215042114\n",
      "Train: Epoch 86; err = 724.0291284918785; time = 22.24667501449585\n",
      "Train: Epoch 87; err = 723.0066829323769; time = 21.442768812179565\n",
      "Train: Epoch 88; err = 738.0108543634415; time = 19.199238777160645\n",
      "Train: Epoch 89; err = 723.3361715078354; time = 19.791605949401855\n",
      "0.003913788948479999\n",
      "tensor([0.0286, 0.0549, 0.9165], grad_fn=<MeanBackward1>) 0.6186723709106445\n",
      "Train: Epoch 90; err = 720.1260512471199; time = 20.53693389892578\n",
      "Train: Epoch 91; err = 728.3847032189369; time = 20.37737226486206\n",
      "Train: Epoch 92; err = 718.6082755327225; time = 19.363895177841187\n",
      "Train: Epoch 93; err = 721.3972968459129; time = 19.03230094909668\n",
      "Train: Epoch 94; err = 718.509484410286; time = 19.085750818252563\n",
      "Train: Epoch 95; err = 719.4668899774551; time = 20.301470041275024\n",
      "Train: Epoch 96; err = 720.0096170306206; time = 23.49523901939392\n",
      "Train: Epoch 97; err = 720.9193477630615; time = 22.50796127319336\n",
      "Train: Epoch 98; err = 719.8397401571274; time = 20.43375301361084\n",
      "Train: Epoch 99; err = 719.9949481487274; time = 20.728848934173584\n",
      "Train: Epoch 100; err = 720.2004470229149; time = 22.31219482421875\n",
      "\n",
      "Training for config: batch_xsmall\n",
      "Using cpu\n",
      "ColorizedNeuralListenerEncoder cpu\n",
      "ColorizedNeuralListenerEncoderDecoder cpu\n",
      "Train: Epoch 1; err = 2187.106616139412; time = 28.296984910964966\n",
      "Train: Epoch 2; err = 1959.3224579691887; time = 26.70776104927063\n",
      "Train: Epoch 3; err = 1871.0228095054626; time = 31.227998971939087\n",
      "Train: Epoch 4; err = 1799.2733696103096; time = 33.94395995140076\n",
      "Train: Epoch 5; err = 1767.8716685175896; time = 29.41894292831421\n",
      "Train: Epoch 6; err = 1740.5496005415916; time = 30.386680841445923\n",
      "Train: Epoch 7; err = 1714.6486441493034; time = 30.54753828048706\n",
      "Train: Epoch 8; err = 1698.7263767719269; time = 32.04549789428711\n",
      "Train: Epoch 9; err = 1714.0434932112694; time = 32.08637309074402\n",
      "Train: Epoch 10; err = 1676.5070828795433; time = 30.808275938034058\n",
      "Train: Epoch 11; err = 1665.317283630371; time = 27.629448890686035\n",
      "Train: Epoch 12; err = 1655.554731965065; time = 30.29012107849121\n",
      "Train: Epoch 13; err = 1653.574172258377; time = 27.32304096221924\n",
      "Train: Epoch 14; err = 1640.3068335652351; time = 27.33738684654236\n",
      "0.0048\n",
      "tensor([0.2287, 0.0626, 0.7086], grad_fn=<MeanBackward1>) 0.8110033869743347\n",
      "Train: Epoch 15; err = 1633.5924953222275; time = 29.71289587020874\n",
      "Train: Epoch 16; err = 1619.653401851654; time = 31.10830307006836\n",
      "Train: Epoch 17; err = 1616.7383989095688; time = 33.3241069316864\n",
      "Train: Epoch 18; err = 1608.11701130867; time = 30.51265287399292\n",
      "Train: Epoch 19; err = 1599.5887460708618; time = 25.450613021850586\n"
     ]
    },
    {
     "name": "stdout",
     "output_type": "stream",
     "text": [
      "Train: Epoch 20; err = 1597.4899680614471; time = 25.05938720703125\n",
      "Train: Epoch 21; err = 1587.716001033783; time = 26.248860836029053\n",
      "Train: Epoch 22; err = 1583.0893050432205; time = 30.72833490371704\n",
      "Train: Epoch 23; err = 1578.1043937206268; time = 26.57053303718567\n",
      "Train: Epoch 24; err = 1573.059231698513; time = 25.41895318031311\n",
      "Train: Epoch 25; err = 1575.4251882433891; time = 26.810476064682007\n",
      "Train: Epoch 26; err = 1572.145947277546; time = 26.216754913330078\n",
      "Train: Epoch 27; err = 1563.082687139511; time = 27.542160987854004\n",
      "Train: Epoch 28; err = 1559.6237740516663; time = 27.88184905052185\n",
      "Train: Epoch 29; err = 1552.6429162621498; time = 28.566699981689453\n",
      "0.004607999999999999\n",
      "tensor([0.0802, 0.1561, 0.7637], grad_fn=<MeanBackward1>) 0.7857096195220947\n",
      "Train: Epoch 30; err = 1552.9706960320473; time = 27.895450830459595\n",
      "Train: Epoch 31; err = 1545.640117585659; time = 26.835784196853638\n",
      "Train: Epoch 32; err = 1543.6904818415642; time = 27.5002338886261\n",
      "Train: Epoch 33; err = 2123.7964052557945; time = 29.796192169189453\n",
      "Train: Epoch 34; err = 2221.966444373131; time = 31.036864042282104\n",
      "Train: Epoch 35; err = 2188.3296588659286; time = 30.86480212211609\n",
      "Train: Epoch 36; err = 2227.450001657009; time = 29.565754890441895\n",
      "Train: Epoch 37; err = 2189.641786813736; time = 25.922430992126465\n",
      "Train: Epoch 38; err = 2073.6491163372993; time = 29.28417992591858\n",
      "Train: Epoch 39; err = 2022.961596429348; time = 28.477722883224487\n",
      "Train: Epoch 40; err = 2007.445649266243; time = 28.534868955612183\n",
      "Train: Epoch 41; err = 1987.435988008976; time = 29.203387022018433\n",
      "Train: Epoch 42; err = 1972.5951632857323; time = 26.76450204849243\n",
      "Train: Epoch 43; err = 1978.8500912189484; time = 29.547582864761353\n",
      "Train: Epoch 44; err = 1972.8840194940567; time = 31.680092096328735\n",
      "0.004423679999999999\n",
      "tensor([0.1216, 0.1373, 0.7411], grad_fn=<MeanBackward1>) 0.7955809235572815\n",
      "Train: Epoch 45; err = 1960.6633734703064; time = 28.884634971618652\n",
      "Train: Epoch 46; err = 1943.3204616308212; time = 25.694200038909912\n",
      "Train: Epoch 47; err = 1893.932937681675; time = 26.8161940574646\n",
      "Train: Epoch 48; err = 1813.1799273490906; time = 27.86403775215149\n",
      "Train: Epoch 49; err = 1709.0582436323166; time = 28.199365854263306\n",
      "Train: Epoch 50; err = 1629.7423325181007; time = 34.770419120788574\n",
      "Train: Epoch 51; err = 1594.287352859974; time = 27.016735792160034\n",
      "Train: Epoch 52; err = 1569.7489685416222; time = 26.542569875717163\n",
      "Train: Epoch 53; err = 1566.709194123745; time = 25.983871936798096\n",
      "Train: Epoch 54; err = 1547.7798196077347; time = 26.85538911819458\n",
      "Train: Epoch 55; err = 1545.7804676294327; time = 35.84923219680786\n",
      "Train: Epoch 56; err = 1532.9594279527664; time = 31.65316677093506\n",
      "Train: Epoch 57; err = 1531.2119442224503; time = 25.767956018447876\n",
      "Train: Epoch 58; err = 1527.170450747013; time = 26.766251802444458\n",
      "Train: Epoch 59; err = 1522.4035160541534; time = 28.840189218521118\n",
      "0.004246732799999999\n",
      "tensor([0.1359, 0.0770, 0.7871], grad_fn=<MeanBackward1>) 0.7589010000228882\n",
      "Train: Epoch 60; err = 1517.4425956606865; time = 28.03846502304077\n",
      "Train: Epoch 61; err = 1511.8000836968422; time = 30.478786945343018\n",
      "Train: Epoch 62; err = 1508.1060155034065; time = 32.193528175354004\n",
      "Train: Epoch 63; err = 1510.2696601748466; time = 32.00408101081848\n",
      "Train: Epoch 64; err = 1510.2698021531105; time = 26.007991075515747\n",
      "Train: Epoch 65; err = 1497.797599375248; time = 25.728392839431763\n",
      "Train: Epoch 66; err = 1493.0657830238342; time = 25.945570945739746\n",
      "Train: Epoch 67; err = 1490.930573940277; time = 27.977402925491333\n",
      "Train: Epoch 68; err = 1492.4247174859047; time = 25.80070996284485\n",
      "Train: Epoch 69; err = 1492.7970616817474; time = 25.984351873397827\n",
      "Train: Epoch 70; err = 1490.5607780218124; time = 26.86635684967041\n",
      "Train: Epoch 71; err = 1492.4505651593208; time = 26.85051679611206\n",
      "Train: Epoch 72; err = 1479.6095570921898; time = 28.601027250289917\n",
      "Train: Epoch 73; err = 1480.047402560711; time = 27.071412086486816\n",
      "Train: Epoch 74; err = 1478.6673555970192; time = 26.248915910720825\n",
      "0.004076863487999999\n",
      "tensor([0.1253, 0.1521, 0.7226], grad_fn=<MeanBackward1>) 0.8064862489700317\n",
      "Train: Epoch 75; err = 1477.3271383047104; time = 25.615700006484985\n",
      "Train: Epoch 76; err = 1474.4049023985863; time = 27.15888214111328\n",
      "Train: Epoch 77; err = 1481.507095515728; time = 34.38035988807678\n",
      "Train: Epoch 78; err = 1467.6849648356438; time = 30.21725082397461\n",
      "Train: Epoch 79; err = 1466.7719897031784; time = 25.16074013710022\n",
      "Train: Epoch 80; err = 1467.921991944313; time = 26.328133821487427\n",
      "Train: Epoch 81; err = 1460.082905948162; time = 27.84008026123047\n",
      "Train: Epoch 82; err = 1467.0110666751862; time = 32.93985414505005\n",
      "Train: Epoch 83; err = 1461.8354008197784; time = 28.056299686431885\n",
      "Train: Epoch 84; err = 1473.7394847869873; time = 29.028989791870117\n",
      "Train: Epoch 85; err = 1469.6180450320244; time = 31.129053115844727\n",
      "Train: Epoch 86; err = 1453.9156223535538; time = 26.791934967041016\n",
      "Train: Epoch 87; err = 1459.5040844082832; time = 27.95992398262024\n",
      "Train: Epoch 88; err = 1453.2211557626724; time = 29.278580904006958\n",
      "Train: Epoch 89; err = 1451.8997782468796; time = 28.20469617843628\n",
      "0.003913788948479999\n",
      "tensor([0.0675, 0.1826, 0.7500], grad_fn=<MeanBackward1>) 0.7916964888572693\n",
      "Train: Epoch 90; err = 1455.4466353058815; time = 30.85543131828308\n",
      "Train: Epoch 91; err = 1450.8765335679054; time = 29.791010856628418\n",
      "Train: Epoch 92; err = 1454.067941069603; time = 34.597362995147705\n",
      "Train: Epoch 93; err = 1443.8501017093658; time = 32.731555700302124\n",
      "Train: Epoch 94; err = 1443.6079664230347; time = 34.927191972732544\n",
      "Train: Epoch 95; err = 1446.3535103201866; time = 28.442487001419067\n",
      "Train: Epoch 96; err = 1474.7346435189247; time = 28.10622787475586\n",
      "Train: Epoch 97; err = 1445.107896387577; time = 34.187910079956055\n",
      "Train: Epoch 98; err = 1440.0033053159714; time = 32.66606688499451\n",
      "Train: Epoch 99; err = 1461.964611172676; time = 28.883766174316406\n",
      "Train: Epoch 100; err = 1440.4044925570488; time = 33.29953694343567\n",
      "\n",
      "Training for config: batch_large\n",
      "Using cpu\n",
      "ColorizedNeuralListenerEncoder cpu\n",
      "ColorizedNeuralListenerEncoderDecoder cpu\n",
      "Train: Epoch 1; err = 278.40005218982697; time = 13.240179300308228\n",
      "Train: Epoch 2; err = 257.911036670208; time = 12.986922979354858\n",
      "Train: Epoch 3; err = 244.42061561346054; time = 13.456355094909668\n",
      "Train: Epoch 4; err = 238.43897664546967; time = 13.960668087005615\n",
      "Train: Epoch 5; err = 234.0315961241722; time = 13.890380859375\n",
      "Train: Epoch 6; err = 231.1824442744255; time = 13.665724039077759\n",
      "Train: Epoch 7; err = 226.26931369304657; time = 12.84767484664917\n",
      "Train: Epoch 8; err = 225.78166794776917; time = 12.618757963180542\n",
      "Train: Epoch 9; err = 221.5117003917694; time = 13.38950800895691\n",
      "Train: Epoch 10; err = 219.93168050050735; time = 14.197587251663208\n",
      "Train: Epoch 11; err = 218.5754091143608; time = 14.222100973129272\n",
      "Train: Epoch 12; err = 216.28118216991425; time = 13.237097263336182\n",
      "Train: Epoch 13; err = 216.0899053812027; time = 12.964444875717163\n",
      "Train: Epoch 14; err = 214.6387894153595; time = 12.334895849227905\n",
      "0.0048\n",
      "tensor([0.1519, 0.1058, 0.7424], grad_fn=<MeanBackward1>) 0.7723574042320251\n",
      "Train: Epoch 15; err = 212.00657320022583; time = 12.858039855957031\n",
      "Train: Epoch 16; err = 212.89920926094055; time = 13.482640027999878\n",
      "Train: Epoch 17; err = 223.239138007164; time = 14.047528743743896\n",
      "Train: Epoch 18; err = 252.2945957183838; time = 14.611427068710327\n",
      "Train: Epoch 19; err = 219.88670027256012; time = 13.111952781677246\n",
      "Train: Epoch 20; err = 213.3897344470024; time = 11.638216972351074\n",
      "Train: Epoch 21; err = 211.81753033399582; time = 11.034260988235474\n",
      "Train: Epoch 22; err = 209.7947164773941; time = 12.016334772109985\n",
      "Train: Epoch 23; err = 208.93797999620438; time = 13.749838829040527\n",
      "Train: Epoch 24; err = 209.40822553634644; time = 13.466096878051758\n",
      "Train: Epoch 25; err = 209.32875436544418; time = 13.987370014190674\n",
      "Train: Epoch 26; err = 208.41995126008987; time = 13.978657007217407\n",
      "Train: Epoch 27; err = 208.60712558031082; time = 13.802221059799194\n",
      "Train: Epoch 28; err = 206.57676070928574; time = 13.235647916793823\n",
      "Train: Epoch 29; err = 206.33075803518295; time = 12.460914134979248\n"
     ]
    },
    {
     "name": "stdout",
     "output_type": "stream",
     "text": [
      "0.004607999999999999\n",
      "tensor([0.1085, 0.0372, 0.8543], grad_fn=<MeanBackward1>) 0.6761501431465149\n",
      "Train: Epoch 30; err = 205.33666342496872; time = 12.055318117141724\n",
      "Train: Epoch 31; err = 206.67297673225403; time = 12.1061851978302\n",
      "Train: Epoch 32; err = 205.36057478189468; time = 12.325638055801392\n",
      "Train: Epoch 33; err = 203.63458907604218; time = 13.409634113311768\n",
      "Train: Epoch 34; err = 203.6909146308899; time = 14.14093279838562\n",
      "Train: Epoch 35; err = 205.06151139736176; time = 13.42496109008789\n",
      "Train: Epoch 36; err = 202.9599261879921; time = 13.110517978668213\n",
      "Train: Epoch 37; err = 202.65371716022491; time = 13.450507164001465\n",
      "Train: Epoch 38; err = 202.70250982046127; time = 13.718981742858887\n",
      "Train: Epoch 39; err = 201.93157333135605; time = 14.536160945892334\n",
      "Train: Epoch 40; err = 201.83953249454498; time = 14.284936904907227\n",
      "Train: Epoch 41; err = 200.5730295777321; time = 13.21743106842041\n",
      "Train: Epoch 42; err = 200.6050727367401; time = 11.86754298210144\n",
      "Train: Epoch 43; err = 200.42820781469345; time = 11.659976959228516\n",
      "Train: Epoch 44; err = 200.02865159511566; time = 11.161328315734863\n",
      "0.004423679999999999\n",
      "tensor([0.0312, 0.1200, 0.8488], grad_fn=<MeanBackward1>) 0.6865477561950684\n",
      "Train: Epoch 45; err = 199.92294889688492; time = 11.5867440700531\n",
      "Train: Epoch 46; err = 197.76468908786774; time = 11.776037216186523\n",
      "Train: Epoch 47; err = 199.23906004428864; time = 11.734907865524292\n",
      "Train: Epoch 48; err = 198.41228479146957; time = 10.73251986503601\n",
      "Train: Epoch 49; err = 197.72700691223145; time = 10.857258081436157\n",
      "Train: Epoch 50; err = 199.17991262674332; time = 10.90349817276001\n",
      "Train: Epoch 51; err = 196.24217361211777; time = 10.927465915679932\n",
      "Train: Epoch 52; err = 196.78638464212418; time = 10.938646078109741\n",
      "Train: Epoch 53; err = 195.9712153673172; time = 11.043912887573242\n",
      "Train: Epoch 54; err = 196.4279243350029; time = 10.849191904067993\n",
      "Train: Epoch 55; err = 196.55520075559616; time = 11.027431011199951\n",
      "Train: Epoch 56; err = 194.8990107178688; time = 11.007943868637085\n",
      "Train: Epoch 57; err = 195.61200034618378; time = 10.97233772277832\n",
      "Train: Epoch 58; err = 193.33806455135345; time = 10.844810962677002\n",
      "Train: Epoch 59; err = 194.70078301429749; time = 11.088983058929443\n",
      "0.004246732799999999\n",
      "tensor([0.1232, 0.0770, 0.7998], grad_fn=<MeanBackward1>) 0.737205445766449\n",
      "Train: Epoch 60; err = 194.13415282964706; time = 11.210697889328003\n",
      "Train: Epoch 61; err = 192.32688868045807; time = 10.795274019241333\n",
      "Train: Epoch 62; err = 192.14920264482498; time = 10.458620309829712\n",
      "Train: Epoch 63; err = 192.77759850025177; time = 10.669204950332642\n",
      "Train: Epoch 64; err = 191.46370995044708; time = 11.221976041793823\n",
      "Train: Epoch 65; err = 191.49189859628677; time = 10.801403999328613\n",
      "Train: Epoch 66; err = 191.45970517396927; time = 10.564610004425049\n",
      "Train: Epoch 67; err = 192.12968331575394; time = 10.92391300201416\n",
      "Train: Epoch 68; err = 190.3320907354355; time = 11.105226039886475\n",
      "Train: Epoch 69; err = 190.53130823373795; time = 10.682621955871582\n",
      "Train: Epoch 70; err = 190.0105327963829; time = 10.569878101348877\n",
      "Train: Epoch 71; err = 189.44414675235748; time = 10.695218086242676\n",
      "Train: Epoch 72; err = 190.76894825696945; time = 11.176396131515503\n",
      "Train: Epoch 73; err = 189.04168224334717; time = 11.279630899429321\n",
      "Train: Epoch 74; err = 188.5077065229416; time = 11.114999055862427\n",
      "0.004076863487999999\n",
      "tensor([0.0561, 0.0665, 0.8774], grad_fn=<MeanBackward1>) 0.6621671915054321\n",
      "Train: Epoch 75; err = 190.26771479845047; time = 10.992037773132324\n",
      "Train: Epoch 76; err = 190.203786611557; time = 10.803100824356079\n",
      "Train: Epoch 77; err = 188.0623418688774; time = 10.843069076538086\n",
      "Train: Epoch 78; err = 187.26938039064407; time = 10.832963228225708\n",
      "Train: Epoch 79; err = 187.70979458093643; time = 10.78133487701416\n",
      "Train: Epoch 80; err = 188.14486515522003; time = 11.000782251358032\n",
      "Train: Epoch 81; err = 186.76925438642502; time = 10.921681880950928\n",
      "Train: Epoch 82; err = 188.64798080921173; time = 10.929273843765259\n",
      "Train: Epoch 83; err = 187.1758222579956; time = 10.953042030334473\n",
      "Train: Epoch 84; err = 187.14236170053482; time = 11.168117046356201\n",
      "Train: Epoch 85; err = 186.9487179517746; time = 11.792232036590576\n",
      "Train: Epoch 86; err = 190.15207868814468; time = 11.04204797744751\n",
      "Train: Epoch 87; err = 189.9846090078354; time = 10.767267942428589\n",
      "Train: Epoch 88; err = 188.22534954547882; time = 10.846920251846313\n",
      "Train: Epoch 89; err = 186.21377003192902; time = 10.888723134994507\n",
      "0.003913788948479999\n",
      "tensor([0.1116, 0.0799, 0.8085], grad_fn=<MeanBackward1>) 0.7380421757698059\n",
      "Train: Epoch 90; err = 185.35730051994324; time = 10.787392854690552\n",
      "Train: Epoch 91; err = 185.39006835222244; time = 10.904325723648071\n",
      "Train: Epoch 92; err = 185.4396979212761; time = 11.14125394821167\n",
      "Train: Epoch 93; err = 186.35851174592972; time = 11.125455141067505\n",
      "Train: Epoch 94; err = 185.47242778539658; time = 10.869334936141968\n",
      "Train: Epoch 95; err = 184.58568459749222; time = 10.882575750350952\n",
      "Train: Epoch 96; err = 184.34792810678482; time = 10.926934957504272\n",
      "Train: Epoch 97; err = 183.4154245853424; time = 10.794333934783936\n",
      "Train: Epoch 98; err = 186.1092985868454; time = 10.806190252304077\n",
      "Train: Epoch 99; err = 184.959725856781; time = 11.097476959228516\n",
      "Train: Epoch 100; err = 184.7580177783966; time = 10.936737060546875\n",
      "\n",
      "Training for config: batch_xlarge\n",
      "Using cpu\n",
      "ColorizedNeuralListenerEncoder cpu\n",
      "ColorizedNeuralListenerEncoderDecoder cpu\n",
      "Train: Epoch 1; err = 147.71449303627014; time = 10.53334093093872\n",
      "Train: Epoch 2; err = 137.38573306798935; time = 10.551461935043335\n",
      "Train: Epoch 3; err = 133.31773525476456; time = 10.52610182762146\n",
      "Train: Epoch 4; err = 127.57665693759918; time = 10.477775812149048\n",
      "Train: Epoch 5; err = 124.6429643034935; time = 10.454074144363403\n",
      "Train: Epoch 6; err = 123.21821993589401; time = 10.648106813430786\n",
      "Train: Epoch 7; err = 123.09328812360764; time = 10.542701005935669\n",
      "Train: Epoch 8; err = 120.74830842018127; time = 10.434834003448486\n",
      "Train: Epoch 9; err = 118.20460110902786; time = 10.369854927062988\n",
      "Train: Epoch 10; err = 117.01766401529312; time = 10.528559923171997\n",
      "Train: Epoch 11; err = 119.96512115001678; time = 10.558921098709106\n",
      "Train: Epoch 12; err = 115.35544764995575; time = 10.684550046920776\n",
      "Train: Epoch 13; err = 114.1982906460762; time = 10.602564096450806\n",
      "Train: Epoch 14; err = 113.94864922761917; time = 10.39119815826416\n",
      "0.0048\n",
      "tensor([0.1813, 0.1339, 0.6847], grad_fn=<MeanBackward1>) 0.8266699314117432\n",
      "Train: Epoch 15; err = 112.43104612827301; time = 10.51964020729065\n",
      "Train: Epoch 16; err = 111.06520199775696; time = 10.588335752487183\n",
      "Train: Epoch 17; err = 109.57209038734436; time = 10.399915218353271\n",
      "Train: Epoch 18; err = 109.23113638162613; time = 10.471559047698975\n",
      "Train: Epoch 19; err = 108.17045378684998; time = 10.54184889793396\n",
      "Train: Epoch 20; err = 107.75999796390533; time = 10.354281902313232\n",
      "Train: Epoch 21; err = 107.1955999135971; time = 10.327408075332642\n",
      "Train: Epoch 22; err = 106.40693062543869; time = 10.468825817108154\n",
      "Train: Epoch 23; err = 105.93140786886215; time = 10.378087997436523\n",
      "Train: Epoch 24; err = 105.9619432091713; time = 10.4576997756958\n",
      "Train: Epoch 25; err = 106.09534776210785; time = 10.494755029678345\n",
      "Train: Epoch 26; err = 104.98947590589523; time = 10.583676815032959\n",
      "Train: Epoch 27; err = 105.35853123664856; time = 10.479053020477295\n",
      "Train: Epoch 28; err = 104.70801770687103; time = 10.569232702255249\n",
      "Train: Epoch 29; err = 104.17358511686325; time = 10.288507223129272\n",
      "0.004607999999999999\n",
      "tensor([0.1158, 0.1152, 0.7690], grad_fn=<MeanBackward1>) 0.760149359703064\n",
      "Train: Epoch 30; err = 103.74195539951324; time = 10.564085960388184\n",
      "Train: Epoch 31; err = 103.56794452667236; time = 10.555323123931885\n",
      "Train: Epoch 32; err = 103.09907239675522; time = 10.553596019744873\n",
      "Train: Epoch 33; err = 103.30816620588303; time = 10.739010095596313\n",
      "Train: Epoch 34; err = 103.16100293397903; time = 10.656205177307129\n",
      "Train: Epoch 35; err = 103.19853109121323; time = 10.598654985427856\n",
      "Train: Epoch 36; err = 102.61842584609985; time = 10.613563299179077\n",
      "Train: Epoch 37; err = 102.0159141421318; time = 10.45375108718872\n",
      "Train: Epoch 38; err = 102.05944216251373; time = 10.558114051818848\n"
     ]
    },
    {
     "name": "stdout",
     "output_type": "stream",
     "text": [
      "Train: Epoch 39; err = 101.44572311639786; time = 10.726577043533325\n",
      "Train: Epoch 40; err = 101.21916925907135; time = 10.646876335144043\n",
      "Train: Epoch 41; err = 100.94206291437149; time = 10.64377498626709\n",
      "Train: Epoch 42; err = 101.22633105516434; time = 10.69466495513916\n",
      "Train: Epoch 43; err = 100.78885316848755; time = 10.571563959121704\n",
      "Train: Epoch 44; err = 100.6173506975174; time = 10.753040790557861\n",
      "0.004423679999999999\n",
      "tensor([0.1360, 0.0893, 0.7747], grad_fn=<MeanBackward1>) 0.7547633051872253\n",
      "Train: Epoch 45; err = 100.24874722957611; time = 10.563666105270386\n",
      "Train: Epoch 46; err = 99.87910002470016; time = 10.81492805480957\n",
      "Train: Epoch 47; err = 100.25941532850266; time = 10.776992082595825\n",
      "Train: Epoch 48; err = 99.53311568498611; time = 10.65879487991333\n",
      "Train: Epoch 49; err = 99.60715866088867; time = 10.677300930023193\n",
      "Train: Epoch 50; err = 101.3652577996254; time = 10.63639497756958\n",
      "Train: Epoch 51; err = 99.87052571773529; time = 10.789690971374512\n",
      "Train: Epoch 52; err = 99.42592287063599; time = 10.280619859695435\n",
      "Train: Epoch 53; err = 99.19971162080765; time = 10.45745301246643\n",
      "Train: Epoch 54; err = 98.86618089675903; time = 10.420812129974365\n",
      "Train: Epoch 55; err = 98.98978519439697; time = 10.330203771591187\n",
      "Train: Epoch 56; err = 98.36013835668564; time = 10.466843128204346\n",
      "Train: Epoch 57; err = 98.28630357980728; time = 10.437544107437134\n",
      "Train: Epoch 58; err = 98.2160353064537; time = 10.357890129089355\n",
      "Train: Epoch 59; err = 97.49557620286942; time = 10.372493982315063\n",
      "0.004246732799999999\n",
      "tensor([0.0975, 0.1046, 0.7980], grad_fn=<MeanBackward1>) 0.7360315322875977\n",
      "Train: Epoch 60; err = 97.61802035570145; time = 10.361258029937744\n",
      "Train: Epoch 61; err = 97.96288388967514; time = 10.321181774139404\n",
      "Train: Epoch 62; err = 97.34386950731277; time = 10.286717891693115\n",
      "Train: Epoch 63; err = 97.30952787399292; time = 10.5172758102417\n",
      "Train: Epoch 64; err = 97.22971254587173; time = 10.31711721420288\n",
      "Train: Epoch 65; err = 97.31747072935104; time = 10.533349752426147\n",
      "Train: Epoch 66; err = 96.54941004514694; time = 10.40588903427124\n",
      "Train: Epoch 67; err = 96.5127562880516; time = 10.280034065246582\n",
      "Train: Epoch 68; err = 96.84369170665741; time = 10.450922012329102\n",
      "Train: Epoch 69; err = 96.21958410739899; time = 10.216310024261475\n",
      "Train: Epoch 70; err = 96.7317407131195; time = 10.359098196029663\n",
      "Train: Epoch 71; err = 96.4008184671402; time = 10.217139959335327\n",
      "Train: Epoch 72; err = 96.27877289056778; time = 10.619662046432495\n",
      "Train: Epoch 73; err = 95.87432169914246; time = 10.54122805595398\n",
      "Train: Epoch 74; err = 96.53776186704636; time = 10.275962114334106\n",
      "0.004076863487999999\n",
      "tensor([0.0825, 0.0690, 0.8485], grad_fn=<MeanBackward1>) 0.6860315203666687\n",
      "Train: Epoch 75; err = 96.89162546396255; time = 10.497282028198242\n",
      "Train: Epoch 76; err = 96.15019822120667; time = 10.413250207901001\n",
      "Train: Epoch 77; err = 95.9323239326477; time = 10.439762830734253\n",
      "Train: Epoch 78; err = 95.55083096027374; time = 10.438807725906372\n",
      "Train: Epoch 79; err = 94.98033618927002; time = 10.522227048873901\n",
      "Train: Epoch 80; err = 95.43875604867935; time = 10.667211771011353\n",
      "Train: Epoch 81; err = 95.44754427671432; time = 10.378659009933472\n",
      "Train: Epoch 82; err = 95.08993542194366; time = 10.323359966278076\n",
      "Train: Epoch 83; err = 94.42593717575073; time = 10.521962881088257\n",
      "Train: Epoch 84; err = 95.23492920398712; time = 10.530039072036743\n",
      "Train: Epoch 85; err = 94.77126026153564; time = 10.546602964401245\n",
      "Train: Epoch 86; err = 94.11648124456406; time = 10.45703125\n",
      "Train: Epoch 87; err = 94.29194313287735; time = 10.563290119171143\n",
      "Train: Epoch 88; err = 94.33307361602783; time = 10.494229078292847\n",
      "Train: Epoch 89; err = 94.59296888113022; time = 10.505883693695068\n",
      "0.003913788948479999\n",
      "tensor([0.0753, 0.0790, 0.8457], grad_fn=<MeanBackward1>) 0.6963316202163696\n",
      "Train: Epoch 90; err = 94.36590081453323; time = 10.542203903198242\n",
      "Train: Epoch 91; err = 93.77120399475098; time = 10.600804090499878\n",
      "Train: Epoch 92; err = 93.67039173841476; time = 10.370451927185059\n",
      "Train: Epoch 93; err = 93.18284767866135; time = 10.490862131118774\n",
      "Train: Epoch 94; err = 93.35882014036179; time = 10.458392143249512\n",
      "Train: Epoch 95; err = 93.44944554567337; time = 10.426007986068726\n",
      "Train: Epoch 96; err = 93.64162528514862; time = 10.358686923980713\n",
      "Train: Epoch 97; err = 93.94475120306015; time = 10.33100414276123\n",
      "Train: Epoch 98; err = 93.34583580493927; time = 10.445917844772339\n",
      "Train: Epoch 99; err = 94.28059083223343; time = 10.47827410697937\n",
      "Train: Epoch 100; err = 93.55573499202728; time = 10.536044836044312\n",
      "\n",
      "Training for config: dropout_small\n",
      "Using cpu\n",
      "ColorizedNeuralListenerEncoder cpu\n",
      "ColorizedNeuralListenerEncoderDecoder cpu\n",
      "Train: Epoch 1; err = 548.0815012454987; time = 12.512147903442383\n",
      "Train: Epoch 2; err = 504.27049493789673; time = 12.521281957626343\n",
      "Train: Epoch 3; err = 486.0929953455925; time = 12.420368909835815\n",
      "Train: Epoch 4; err = 477.58033287525177; time = 12.469659805297852\n",
      "Train: Epoch 5; err = 472.78462958335876; time = 12.455922842025757\n",
      "Train: Epoch 6; err = 469.5299366116524; time = 12.56617283821106\n",
      "Train: Epoch 7; err = 466.2248092889786; time = 12.410952091217041\n",
      "Train: Epoch 8; err = 462.1188757419586; time = 12.483399868011475\n",
      "Train: Epoch 9; err = 460.0180970430374; time = 12.488208293914795\n",
      "Train: Epoch 10; err = 457.98190969228745; time = 12.558073282241821\n",
      "Train: Epoch 11; err = 457.44588589668274; time = 12.527244091033936\n",
      "Train: Epoch 12; err = 454.7429932951927; time = 12.526674032211304\n",
      "Train: Epoch 13; err = 453.1224588751793; time = 12.559662818908691\n",
      "Train: Epoch 14; err = 451.14790040254593; time = 12.435251951217651\n",
      "0.0048\n",
      "tensor([0.2050, 0.0511, 0.7439], grad_fn=<MeanBackward1>) 0.7828611731529236\n",
      "Train: Epoch 15; err = 449.1432406902313; time = 12.499873161315918\n",
      "Train: Epoch 16; err = 446.75656217336655; time = 12.503286838531494\n",
      "Train: Epoch 17; err = 447.151150226593; time = 12.56013011932373\n",
      "Train: Epoch 18; err = 445.7934092283249; time = 12.588903188705444\n",
      "Train: Epoch 19; err = 443.2861626148224; time = 12.52214503288269\n",
      "Train: Epoch 20; err = 443.65861719846725; time = 12.488647222518921\n",
      "Train: Epoch 21; err = 441.7267954945564; time = 12.47989559173584\n",
      "Train: Epoch 22; err = 440.9726044535637; time = 12.529154062271118\n",
      "Train: Epoch 23; err = 440.74598383903503; time = 12.614706754684448\n",
      "Train: Epoch 24; err = 439.4606652855873; time = 12.58317494392395\n",
      "Train: Epoch 25; err = 438.26144433021545; time = 12.625659942626953\n",
      "Train: Epoch 26; err = 438.0898225903511; time = 12.618875980377197\n",
      "Train: Epoch 27; err = 435.85385996103287; time = 12.624701023101807\n",
      "Train: Epoch 28; err = 438.0973310470581; time = 12.653111934661865\n",
      "Train: Epoch 29; err = 435.8861012458801; time = 12.66136384010315\n",
      "0.004607999999999999\n",
      "tensor([0.1130, 0.1249, 0.7621], grad_fn=<MeanBackward1>) 0.7608502507209778\n",
      "Train: Epoch 30; err = 434.9321975708008; time = 12.602369785308838\n",
      "Train: Epoch 31; err = 432.7766450047493; time = 12.529869079589844\n",
      "Train: Epoch 32; err = 432.4187718629837; time = 12.60517406463623\n",
      "Train: Epoch 33; err = 431.9509548544884; time = 12.746014833450317\n",
      "Train: Epoch 34; err = 430.21284967660904; time = 12.760527849197388\n",
      "Train: Epoch 35; err = 430.10321724414825; time = 12.56488299369812\n",
      "Train: Epoch 36; err = 429.2987171411514; time = 12.6146240234375\n",
      "Train: Epoch 37; err = 429.19447273015976; time = 12.642494916915894\n",
      "Train: Epoch 38; err = 427.5267518758774; time = 12.620870113372803\n",
      "Train: Epoch 39; err = 426.75972896814346; time = 12.68979287147522\n",
      "Train: Epoch 40; err = 426.59304291009903; time = 12.768840074539185\n",
      "Train: Epoch 41; err = 426.15078842639923; time = 12.737001180648804\n",
      "Train: Epoch 42; err = 426.009196639061; time = 12.665174007415771\n",
      "Train: Epoch 43; err = 423.56338399648666; time = 12.634777784347534\n",
      "Train: Epoch 44; err = 423.31885772943497; time = 12.703840970993042\n",
      "0.004423679999999999\n",
      "tensor([0.0917, 0.1551, 0.7532], grad_fn=<MeanBackward1>) 0.7772201299667358\n",
      "Train: Epoch 45; err = 423.90458232164383; time = 12.628895998001099\n",
      "Train: Epoch 46; err = 422.19869351387024; time = 12.59454083442688\n",
      "Train: Epoch 47; err = 421.5748871564865; time = 12.618634939193726\n",
      "Train: Epoch 48; err = 420.1081786751747; time = 12.622219800949097\n"
     ]
    },
    {
     "name": "stdout",
     "output_type": "stream",
     "text": [
      "Train: Epoch 49; err = 420.0789487361908; time = 12.76085877418518\n",
      "Train: Epoch 50; err = 420.8232973217964; time = 12.682560205459595\n",
      "Train: Epoch 51; err = 418.66481375694275; time = 12.670918226242065\n",
      "Train: Epoch 52; err = 417.3776326775551; time = 12.680264949798584\n",
      "Train: Epoch 53; err = 420.20829689502716; time = 12.7068932056427\n",
      "Train: Epoch 54; err = 418.0399771332741; time = 12.62982702255249\n",
      "Train: Epoch 55; err = 417.4684112071991; time = 12.696124792098999\n",
      "Train: Epoch 56; err = 415.3549064397812; time = 12.698584079742432\n",
      "Train: Epoch 57; err = 414.94735157489777; time = 12.78159213066101\n",
      "Train: Epoch 58; err = 416.5010868906975; time = 12.636230945587158\n",
      "Train: Epoch 59; err = 413.67018616199493; time = 12.700703859329224\n",
      "0.004246732799999999\n",
      "tensor([0.0894, 0.1848, 0.7258], grad_fn=<MeanBackward1>) 0.8033050298690796\n",
      "Train: Epoch 60; err = 415.2393631339073; time = 12.674837112426758\n",
      "Train: Epoch 61; err = 413.46704518795013; time = 12.66421389579773\n",
      "Train: Epoch 62; err = 413.8191143274307; time = 12.813334941864014\n",
      "Train: Epoch 63; err = 412.00377202033997; time = 12.708476781845093\n",
      "Train: Epoch 64; err = 411.8412243127823; time = 12.684584856033325\n",
      "Train: Epoch 65; err = 412.282750248909; time = 12.782773971557617\n",
      "Train: Epoch 66; err = 410.93407636880875; time = 12.844642639160156\n",
      "Train: Epoch 67; err = 411.3469107747078; time = 12.723015069961548\n",
      "Train: Epoch 68; err = 409.58828258514404; time = 12.77720594406128\n",
      "Train: Epoch 69; err = 409.44775903224945; time = 12.70346999168396\n",
      "Train: Epoch 70; err = 410.02842980623245; time = 12.75350284576416\n",
      "Train: Epoch 71; err = 409.9830856323242; time = 12.712166786193848\n",
      "Train: Epoch 72; err = 410.92462503910065; time = 12.811038970947266\n",
      "Train: Epoch 73; err = 407.6726580262184; time = 12.903120756149292\n",
      "Train: Epoch 74; err = 407.4016703367233; time = 12.766411066055298\n",
      "0.004076863487999999\n",
      "tensor([0.1553, 0.0946, 0.7501], grad_fn=<MeanBackward1>) 0.784600555896759\n",
      "Train: Epoch 75; err = 406.81277549266815; time = 12.762425184249878\n",
      "Train: Epoch 76; err = 406.7605744600296; time = 12.755559921264648\n",
      "Train: Epoch 77; err = 409.88581043481827; time = 12.71547532081604\n",
      "Train: Epoch 78; err = 421.0084154009819; time = 12.80535340309143\n",
      "Train: Epoch 79; err = 409.5541687011719; time = 12.742570877075195\n",
      "Train: Epoch 80; err = 405.5329039096832; time = 12.724237203598022\n",
      "Train: Epoch 81; err = 405.35573011636734; time = 12.723071813583374\n",
      "Train: Epoch 82; err = 405.44648998975754; time = 12.783646821975708\n",
      "Train: Epoch 83; err = 404.4276331067085; time = 12.89264702796936\n",
      "Train: Epoch 84; err = 404.43774312734604; time = 12.904528856277466\n",
      "Train: Epoch 85; err = 404.7231162786484; time = 12.780965805053711\n",
      "Train: Epoch 86; err = 404.2419114112854; time = 12.815776109695435\n",
      "Train: Epoch 87; err = 405.68286007642746; time = 12.689764976501465\n",
      "Train: Epoch 88; err = 402.86531114578247; time = 12.842033863067627\n",
      "Train: Epoch 89; err = 403.49507796764374; time = 12.799046993255615\n",
      "0.003913788948479999\n",
      "tensor([0.0758, 0.0789, 0.8453], grad_fn=<MeanBackward1>) 0.6954326033592224\n",
      "Train: Epoch 90; err = 402.8061556816101; time = 12.869357109069824\n",
      "Train: Epoch 91; err = 401.59538662433624; time = 12.769055843353271\n",
      "Train: Epoch 92; err = 402.6604502797127; time = 13.03034496307373\n",
      "Train: Epoch 93; err = 401.40025848150253; time = 12.74990177154541\n",
      "Train: Epoch 94; err = 401.24493795633316; time = 12.813745021820068\n",
      "Train: Epoch 95; err = 401.09111803770065; time = 12.835834741592407\n",
      "Train: Epoch 96; err = 399.59162843227386; time = 12.84194827079773\n",
      "Train: Epoch 97; err = 398.5178206562996; time = 12.878623962402344\n",
      "Train: Epoch 98; err = 399.27408772706985; time = 12.800660133361816\n",
      "Train: Epoch 99; err = 400.25214844942093; time = 12.776302099227905\n",
      "Train: Epoch 100; err = 399.3784050345421; time = 12.836462020874023\n",
      "\n",
      "Training for config: dropout_large\n",
      "Using cpu\n",
      "ColorizedNeuralListenerEncoder cpu\n",
      "ColorizedNeuralListenerEncoderDecoder cpu\n",
      "Train: Epoch 1; err = 553.038797557354; time = 12.32645297050476\n",
      "Train: Epoch 2; err = 513.3846745491028; time = 12.410964965820312\n",
      "Train: Epoch 3; err = 496.1551553606987; time = 12.320931673049927\n",
      "Train: Epoch 4; err = 490.9541519880295; time = 12.374317169189453\n",
      "Train: Epoch 5; err = 484.0096862912178; time = 12.420691967010498\n",
      "Train: Epoch 6; err = 485.24369180202484; time = 12.46991491317749\n",
      "Train: Epoch 7; err = 479.6439707875252; time = 12.603209018707275\n",
      "Train: Epoch 8; err = 477.76170229911804; time = 12.472973823547363\n",
      "Train: Epoch 9; err = 475.9760231375694; time = 12.45435905456543\n",
      "Train: Epoch 10; err = 475.77954465150833; time = 12.483455896377563\n",
      "Train: Epoch 11; err = 472.678247153759; time = 12.55563235282898\n",
      "Train: Epoch 12; err = 471.01920235157013; time = 12.662286043167114\n",
      "Train: Epoch 13; err = 470.2125123143196; time = 12.476716995239258\n",
      "Train: Epoch 14; err = 469.9065548181534; time = 12.490525960922241\n",
      "0.0048\n",
      "tensor([0.2562, 0.1735, 0.5703], grad_fn=<MeanBackward1>) 0.9412689208984375\n",
      "Train: Epoch 15; err = 469.0842157006264; time = 12.514416933059692\n",
      "Train: Epoch 16; err = 467.3135299086571; time = 12.535544157028198\n",
      "Train: Epoch 17; err = 467.304094851017; time = 12.811247825622559\n",
      "Train: Epoch 18; err = 466.91977590322495; time = 12.65683102607727\n",
      "Train: Epoch 19; err = 463.68748354911804; time = 12.572947263717651\n",
      "Train: Epoch 20; err = 465.19648665189743; time = 12.613571166992188\n",
      "Train: Epoch 21; err = 463.4334606528282; time = 12.600294828414917\n",
      "Train: Epoch 22; err = 462.46871453523636; time = 12.62422490119934\n",
      "Train: Epoch 23; err = 463.6743294596672; time = 12.660611152648926\n",
      "Train: Epoch 24; err = 461.30158919095993; time = 12.630341053009033\n",
      "Train: Epoch 25; err = 462.3222162723541; time = 12.60059905052185\n",
      "Train: Epoch 26; err = 459.07426965236664; time = 12.68385100364685\n",
      "Train: Epoch 27; err = 459.19203066825867; time = 12.625283241271973\n",
      "Train: Epoch 28; err = 459.2581812143326; time = 12.648998022079468\n",
      "Train: Epoch 29; err = 456.4664437174797; time = 12.732989072799683\n",
      "0.004607999999999999\n",
      "tensor([0.1964, 0.1089, 0.6947], grad_fn=<MeanBackward1>) 0.8221694231033325\n",
      "Train: Epoch 30; err = 459.18975788354874; time = 12.669665098190308\n",
      "Train: Epoch 31; err = 457.63927525281906; time = 12.678835153579712\n",
      "Train: Epoch 32; err = 456.3520566225052; time = 12.621335983276367\n",
      "Train: Epoch 33; err = 455.6882973909378; time = 12.62788701057434\n",
      "Train: Epoch 34; err = 455.476774930954; time = 12.659732103347778\n",
      "Train: Epoch 35; err = 454.83907639980316; time = 12.726649045944214\n",
      "Train: Epoch 36; err = 455.1436632871628; time = 12.596777200698853\n",
      "Train: Epoch 37; err = 456.43234580755234; time = 12.629343032836914\n",
      "Train: Epoch 38; err = 452.048433303833; time = 12.611379384994507\n",
      "Train: Epoch 39; err = 452.4368063211441; time = 12.579841136932373\n",
      "Train: Epoch 40; err = 451.54492235183716; time = 12.743812799453735\n",
      "Train: Epoch 41; err = 451.361589550972; time = 12.561255931854248\n",
      "Train: Epoch 42; err = 451.30237632989883; time = 12.6886727809906\n",
      "Train: Epoch 43; err = 451.6541596055031; time = 12.652794122695923\n",
      "Train: Epoch 44; err = 450.6567927598953; time = 12.681107997894287\n",
      "0.004423679999999999\n",
      "tensor([0.1426, 0.1008, 0.7567], grad_fn=<MeanBackward1>) 0.7717499732971191\n",
      "Train: Epoch 45; err = 449.33744472265244; time = 12.632258176803589\n",
      "Train: Epoch 46; err = 448.8827287554741; time = 12.811589002609253\n",
      "Train: Epoch 47; err = 448.8986958861351; time = 12.70245885848999\n",
      "Train: Epoch 48; err = 447.83015751838684; time = 12.712773084640503\n",
      "Train: Epoch 49; err = 448.8046061992645; time = 12.67008900642395\n",
      "Train: Epoch 50; err = 449.57115310430527; time = 12.572431087493896\n",
      "Train: Epoch 51; err = 446.76218843460083; time = 12.76291799545288\n",
      "Train: Epoch 52; err = 446.65789663791656; time = 12.757851839065552\n",
      "Train: Epoch 53; err = 445.0242450237274; time = 12.68092393875122\n",
      "Train: Epoch 54; err = 446.56541126966476; time = 12.68644404411316\n",
      "Train: Epoch 55; err = 444.9208511710167; time = 12.704719066619873\n",
      "Train: Epoch 56; err = 445.3852231502533; time = 12.604882001876831\n",
      "Train: Epoch 57; err = 444.1600176692009; time = 12.720807790756226\n",
      "Train: Epoch 58; err = 443.36161708831787; time = 12.696613311767578\n",
      "Train: Epoch 59; err = 445.4584604501724; time = 12.635362148284912\n"
     ]
    },
    {
     "name": "stdout",
     "output_type": "stream",
     "text": [
      "0.004246732799999999\n",
      "tensor([0.0701, 0.1397, 0.7902], grad_fn=<MeanBackward1>) 0.7412450909614563\n",
      "Train: Epoch 60; err = 444.0770780444145; time = 12.52731204032898\n",
      "Train: Epoch 61; err = 442.1035638451576; time = 12.62880825996399\n",
      "Train: Epoch 62; err = 443.45790845155716; time = 12.762479066848755\n",
      "Train: Epoch 63; err = 442.5027276277542; time = 12.74583387374878\n",
      "Train: Epoch 64; err = 445.5378848910332; time = 12.735677003860474\n",
      "Train: Epoch 65; err = 440.29858672618866; time = 12.64561414718628\n",
      "Train: Epoch 66; err = 439.8740469813347; time = 12.765212774276733\n",
      "Train: Epoch 67; err = 439.6240243315697; time = 12.891947984695435\n",
      "Train: Epoch 68; err = 441.1496707201004; time = 12.779582262039185\n",
      "Train: Epoch 69; err = 441.84117835760117; time = 12.705761194229126\n",
      "Train: Epoch 70; err = 441.7498008608818; time = 12.642266035079956\n",
      "Train: Epoch 71; err = 439.81279069185257; time = 12.704226970672607\n",
      "Train: Epoch 72; err = 439.6677195429802; time = 12.672788143157959\n",
      "Train: Epoch 73; err = 438.36770236492157; time = 12.704605102539062\n",
      "Train: Epoch 74; err = 438.48683071136475; time = 12.88363790512085\n",
      "0.004076863487999999\n",
      "tensor([0.2339, 0.1227, 0.6434], grad_fn=<MeanBackward1>) 0.884525716304779\n",
      "Train: Epoch 75; err = 440.20067298412323; time = 12.687749862670898\n",
      "Train: Epoch 76; err = 456.0744405388832; time = 12.743582010269165\n",
      "Train: Epoch 77; err = 446.44959449768066; time = 12.666569232940674\n",
      "Train: Epoch 78; err = 440.5549496412277; time = 12.697926759719849\n",
      "Train: Epoch 79; err = 438.8054807782173; time = 12.845173835754395\n",
      "Train: Epoch 80; err = 437.2887986302376; time = 12.688749074935913\n",
      "Train: Epoch 81; err = 436.28294599056244; time = 12.730931997299194\n",
      "Train: Epoch 82; err = 436.68726390600204; time = 12.784363031387329\n",
      "Train: Epoch 83; err = 436.2337825894356; time = 12.68957805633545\n",
      "Train: Epoch 84; err = 435.28341513872147; time = 12.64673399925232\n",
      "Train: Epoch 85; err = 436.70481872558594; time = 12.82172679901123\n",
      "Train: Epoch 86; err = 435.88725477457047; time = 12.804594039916992\n",
      "Train: Epoch 87; err = 435.19010639190674; time = 12.733137845993042\n",
      "Train: Epoch 88; err = 435.3306410908699; time = 12.774359703063965\n",
      "Train: Epoch 89; err = 436.80813151597977; time = 12.800762176513672\n",
      "0.003913788948479999\n",
      "tensor([0.2015, 0.0873, 0.7112], grad_fn=<MeanBackward1>) 0.8073784112930298\n",
      "Train: Epoch 90; err = 436.28652638196945; time = 12.821639060974121\n",
      "Train: Epoch 91; err = 435.03986102342606; time = 12.805188179016113\n",
      "Train: Epoch 92; err = 432.9758246541023; time = 12.802868843078613\n",
      "Train: Epoch 93; err = 433.9201733469963; time = 12.727030992507935\n",
      "Train: Epoch 94; err = 433.950622856617; time = 12.780378818511963\n",
      "Train: Epoch 95; err = 432.55409079790115; time = 12.732956171035767\n",
      "Train: Epoch 96; err = 433.04074680805206; time = 12.832297086715698\n",
      "Train: Epoch 97; err = 433.76546281576157; time = 12.769537925720215\n",
      "Train: Epoch 98; err = 434.0690363049507; time = 12.679422855377197\n",
      "Train: Epoch 99; err = 432.1032211780548; time = 12.833878993988037\n",
      "Train: Epoch 100; err = 433.0163553953171; time = 12.751365184783936\n",
      "\n",
      "Training for config: eta_small\n",
      "Using cpu\n",
      "ColorizedNeuralListenerEncoder cpu\n",
      "ColorizedNeuralListenerEncoderDecoder cpu\n",
      "Train: Epoch 1; err = 590.9991934299469; time = 12.444370985031128\n",
      "Train: Epoch 2; err = 543.8179897069931; time = 12.648153066635132\n",
      "Train: Epoch 3; err = 525.6143134832382; time = 12.561025142669678\n",
      "Train: Epoch 4; err = 517.4554337263107; time = 12.499876022338867\n",
      "Train: Epoch 5; err = 510.6517296433449; time = 12.574263095855713\n",
      "Train: Epoch 6; err = 504.04393315315247; time = 12.380014896392822\n",
      "Train: Epoch 7; err = 501.1276738643646; time = 12.542428970336914\n",
      "Train: Epoch 8; err = 497.9202383160591; time = 12.451677799224854\n",
      "Train: Epoch 9; err = 496.36944460868835; time = 12.372556924819946\n",
      "Train: Epoch 10; err = 495.6072785258293; time = 12.444914102554321\n",
      "Train: Epoch 11; err = 492.92557460069656; time = 12.40554404258728\n",
      "Train: Epoch 12; err = 489.4661878347397; time = 12.397354125976562\n",
      "Train: Epoch 13; err = 490.08167564868927; time = 12.52350115776062\n",
      "Train: Epoch 14; err = 486.1185491681099; time = 12.346609115600586\n",
      "0.00048\n",
      "tensor([0.1587, 0.2271, 0.6142], grad_fn=<MeanBackward1>) 0.9020560383796692\n",
      "Train: Epoch 15; err = 484.81368201971054; time = 12.46986985206604\n",
      "Train: Epoch 16; err = 483.5616127252579; time = 12.468344926834106\n",
      "Train: Epoch 17; err = 482.28834319114685; time = 12.437391996383667\n",
      "Train: Epoch 18; err = 481.5877124071121; time = 12.470870018005371\n",
      "Train: Epoch 19; err = 481.7390590310097; time = 12.478405952453613\n",
      "Train: Epoch 20; err = 479.09348797798157; time = 12.288026094436646\n",
      "Train: Epoch 21; err = 478.61017709970474; time = 12.362339735031128\n",
      "Train: Epoch 22; err = 476.9157657623291; time = 12.444313764572144\n",
      "Train: Epoch 23; err = 475.9131146669388; time = 12.50538682937622\n",
      "Train: Epoch 24; err = 474.8953193426132; time = 12.57117223739624\n",
      "Train: Epoch 25; err = 472.33540749549866; time = 12.467788696289062\n",
      "Train: Epoch 26; err = 473.0104353427887; time = 12.509528160095215\n",
      "Train: Epoch 27; err = 469.8154575228691; time = 12.388486862182617\n",
      "Train: Epoch 28; err = 470.33541363477707; time = 12.449454069137573\n",
      "Train: Epoch 29; err = 469.56414914131165; time = 12.534471988677979\n",
      "0.0004608\n",
      "tensor([0.1465, 0.0502, 0.8034], grad_fn=<MeanBackward1>) 0.7256717085838318\n",
      "Train: Epoch 30; err = 467.52577543258667; time = 12.516350269317627\n",
      "Train: Epoch 31; err = 467.1643122434616; time = 12.368581771850586\n",
      "Train: Epoch 32; err = 466.1385186314583; time = 12.459033966064453\n",
      "Train: Epoch 33; err = 464.2112168073654; time = 12.413249015808105\n",
      "Train: Epoch 34; err = 463.2819736003876; time = 12.415036916732788\n",
      "Train: Epoch 35; err = 462.34899121522903; time = 12.393776893615723\n",
      "Train: Epoch 36; err = 462.01303374767303; time = 12.447303771972656\n",
      "Train: Epoch 37; err = 460.2763754725456; time = 12.444918870925903\n",
      "Train: Epoch 38; err = 459.6954987049103; time = 12.420494794845581\n",
      "Train: Epoch 39; err = 458.6642814874649; time = 12.369982957839966\n",
      "Train: Epoch 40; err = 459.0314946770668; time = 12.413908958435059\n",
      "Train: Epoch 41; err = 458.947093129158; time = 12.552701950073242\n",
      "Train: Epoch 42; err = 457.32972675561905; time = 12.491305112838745\n",
      "Train: Epoch 43; err = 456.2807307243347; time = 12.489276885986328\n",
      "Train: Epoch 44; err = 457.1275090575218; time = 12.412539958953857\n",
      "0.00044236799999999995\n",
      "tensor([0.1317, 0.2023, 0.6660], grad_fn=<MeanBackward1>) 0.837902843952179\n",
      "Train: Epoch 45; err = 467.4384226202965; time = 12.363823175430298\n",
      "Train: Epoch 46; err = 454.9567283987999; time = 12.459755897521973\n",
      "Train: Epoch 47; err = 453.65879940986633; time = 12.52208161354065\n",
      "Train: Epoch 48; err = 453.05709224939346; time = 12.461939334869385\n",
      "Train: Epoch 49; err = 451.2410145998001; time = 12.325658082962036\n",
      "Train: Epoch 50; err = 451.091827750206; time = 12.344630002975464\n",
      "Train: Epoch 51; err = 450.0754942893982; time = 12.320857286453247\n",
      "Train: Epoch 52; err = 450.55785101652145; time = 12.418789863586426\n",
      "Train: Epoch 53; err = 449.4516336917877; time = 12.658269882202148\n",
      "Train: Epoch 54; err = 448.9330902695656; time = 12.346783876419067\n",
      "Train: Epoch 55; err = 447.8775619864464; time = 12.384768962860107\n",
      "Train: Epoch 56; err = 447.84645426273346; time = 12.378405809402466\n",
      "Train: Epoch 57; err = 447.36514270305634; time = 12.382803916931152\n",
      "Train: Epoch 58; err = 446.574126124382; time = 12.502058982849121\n",
      "Train: Epoch 59; err = 446.99723356962204; time = 12.45301079750061\n",
      "0.00042467327999999994\n",
      "tensor([0.1095, 0.1319, 0.7586], grad_fn=<MeanBackward1>) 0.7608081102371216\n",
      "Train: Epoch 60; err = 445.08949768543243; time = 12.323401927947998\n",
      "Train: Epoch 61; err = 444.24361407756805; time = 12.300558090209961\n",
      "Train: Epoch 62; err = 445.0886510014534; time = 12.356773138046265\n",
      "Train: Epoch 63; err = 443.432046353817; time = 12.39730715751648\n",
      "Train: Epoch 64; err = 443.34620398283005; time = 12.523019075393677\n",
      "Train: Epoch 65; err = 442.35752683877945; time = 12.373137950897217\n",
      "Train: Epoch 66; err = 441.69084399938583; time = 12.342407941818237\n",
      "Train: Epoch 67; err = 441.9818517565727; time = 12.28793215751648\n",
      "Train: Epoch 68; err = 446.4952127337456; time = 12.291558027267456\n"
     ]
    },
    {
     "name": "stdout",
     "output_type": "stream",
     "text": [
      "Train: Epoch 69; err = 442.1722528934479; time = 12.324229001998901\n",
      "Train: Epoch 70; err = 441.2445531487465; time = 12.436944007873535\n",
      "Train: Epoch 71; err = 440.0582614541054; time = 12.332297086715698\n",
      "Train: Epoch 72; err = 440.35018849372864; time = 12.349701881408691\n",
      "Train: Epoch 73; err = 438.5659192800522; time = 12.478552103042603\n",
      "Train: Epoch 74; err = 438.05188381671906; time = 12.357182025909424\n",
      "0.00040768634879999994\n",
      "tensor([0.1631, 0.0900, 0.7469], grad_fn=<MeanBackward1>) 0.7638136148452759\n",
      "Train: Epoch 75; err = 437.7277588248253; time = 12.453755855560303\n",
      "Train: Epoch 76; err = 436.2109526991844; time = 12.442975044250488\n",
      "Train: Epoch 77; err = 436.1779070496559; time = 12.366740942001343\n",
      "Train: Epoch 78; err = 435.8638371825218; time = 12.372420072555542\n",
      "Train: Epoch 79; err = 436.2480266094208; time = 12.318138122558594\n",
      "Train: Epoch 80; err = 433.72415310144424; time = 12.433100938796997\n",
      "Train: Epoch 81; err = 433.75405007600784; time = 12.517781019210815\n",
      "Train: Epoch 82; err = 433.6499675512314; time = 12.434005975723267\n",
      "Train: Epoch 83; err = 433.52346074581146; time = 12.45771336555481\n",
      "Train: Epoch 84; err = 431.6036931872368; time = 12.386894941329956\n",
      "Train: Epoch 85; err = 432.6446676850319; time = 12.453030347824097\n",
      "Train: Epoch 86; err = 432.47513604164124; time = 12.357069969177246\n",
      "Train: Epoch 87; err = 431.90813195705414; time = 12.575570106506348\n",
      "Train: Epoch 88; err = 430.4429126381874; time = 12.35575008392334\n",
      "Train: Epoch 89; err = 430.25469797849655; time = 12.38403606414795\n",
      "0.0003913788948479999\n",
      "tensor([0.1732, 0.0433, 0.7835], grad_fn=<MeanBackward1>) 0.7503077983856201\n",
      "Train: Epoch 90; err = 429.6491903066635; time = 12.349005937576294\n",
      "Train: Epoch 91; err = 430.3908560872078; time = 12.352301120758057\n",
      "Train: Epoch 92; err = 428.6808254122734; time = 12.403246879577637\n",
      "Train: Epoch 93; err = 429.35648757219315; time = 12.526419878005981\n",
      "Train: Epoch 94; err = 427.4092547297478; time = 12.551246881484985\n",
      "Train: Epoch 95; err = 438.91306722164154; time = 12.460729837417603\n",
      "Train: Epoch 96; err = 432.018257856369; time = 12.380463123321533\n",
      "Train: Epoch 97; err = 427.04895973205566; time = 12.380528926849365\n",
      "Train: Epoch 98; err = 425.900521337986; time = 12.506270170211792\n",
      "Train: Epoch 99; err = 426.7402015924454; time = 12.449072122573853\n",
      "Train: Epoch 100; err = 425.54823249578476; time = 12.439681053161621\n",
      "\n",
      "Training for config: eta_medium\n",
      "Using cpu\n",
      "ColorizedNeuralListenerEncoder cpu\n",
      "ColorizedNeuralListenerEncoderDecoder cpu\n",
      "Train: Epoch 1; err = 548.3033148050308; time = 12.299838066101074\n",
      "Train: Epoch 2; err = 495.11352103948593; time = 12.43873119354248\n",
      "Train: Epoch 3; err = 471.686710357666; time = 12.351376295089722\n",
      "Train: Epoch 4; err = 456.3302295804024; time = 12.48749589920044\n",
      "Train: Epoch 5; err = 444.72884756326675; time = 12.411323308944702\n",
      "Train: Epoch 6; err = 436.0858882665634; time = 12.349247932434082\n",
      "Train: Epoch 7; err = 431.0586436390877; time = 12.462193012237549\n",
      "Train: Epoch 8; err = 425.5903872847557; time = 12.3907630443573\n",
      "Train: Epoch 9; err = 422.416016459465; time = 12.442885160446167\n",
      "Train: Epoch 10; err = 419.527384519577; time = 12.571545124053955\n",
      "Train: Epoch 11; err = 417.10450154542923; time = 12.449803829193115\n",
      "Train: Epoch 12; err = 415.7388892173767; time = 12.433447122573853\n",
      "Train: Epoch 13; err = 412.1811701655388; time = 12.416339874267578\n",
      "Train: Epoch 14; err = 408.8601128458977; time = 12.412097692489624\n",
      "0.0096\n",
      "tensor([0.1008, 0.0550, 0.8442], grad_fn=<MeanBackward1>) 0.6827567219734192\n",
      "Train: Epoch 15; err = 409.310923576355; time = 12.412735939025879\n",
      "Train: Epoch 16; err = 405.54132372140884; time = 12.510224342346191\n",
      "Train: Epoch 17; err = 406.00334817171097; time = 12.396342039108276\n",
      "Train: Epoch 18; err = 401.84263402223587; time = 12.49638295173645\n",
      "Train: Epoch 19; err = 402.45650631189346; time = 12.435200691223145\n",
      "Train: Epoch 20; err = 401.6773710846901; time = 12.488168001174927\n",
      "Train: Epoch 21; err = 399.13580310344696; time = 12.601322412490845\n",
      "Train: Epoch 22; err = 397.6329899430275; time = 12.498776197433472\n",
      "Train: Epoch 23; err = 397.8322266936302; time = 12.54974627494812\n",
      "Train: Epoch 24; err = 396.5766786932945; time = 12.61997389793396\n",
      "Train: Epoch 25; err = 393.49508875608444; time = 12.424705028533936\n",
      "Train: Epoch 26; err = 392.6494976878166; time = 12.520533084869385\n",
      "Train: Epoch 27; err = 397.1424745321274; time = 12.684746980667114\n",
      "Train: Epoch 28; err = 392.52568286657333; time = 12.387444972991943\n",
      "Train: Epoch 29; err = 395.8670372366905; time = 12.437665700912476\n",
      "0.009215999999999998\n",
      "tensor([0.1405, 0.1126, 0.7469], grad_fn=<MeanBackward1>) 0.781021773815155\n",
      "Train: Epoch 30; err = 393.5599756836891; time = 12.56213903427124\n",
      "Train: Epoch 31; err = 388.6663157939911; time = 12.516968011856079\n",
      "Train: Epoch 32; err = 387.8226387500763; time = 12.579389095306396\n",
      "Train: Epoch 33; err = 386.13588654994965; time = 12.598525047302246\n",
      "Train: Epoch 34; err = 384.8054052591324; time = 12.602431774139404\n",
      "Train: Epoch 35; err = 384.6942481994629; time = 12.614223957061768\n",
      "Train: Epoch 36; err = 385.83764988183975; time = 12.563765048980713\n",
      "Train: Epoch 37; err = 383.5030723810196; time = 12.562541007995605\n",
      "Train: Epoch 38; err = 382.4255305528641; time = 12.718883037567139\n",
      "Train: Epoch 39; err = 384.4026111960411; time = 12.626715898513794\n",
      "Train: Epoch 40; err = 380.830494761467; time = 12.651870250701904\n",
      "Train: Epoch 41; err = 380.7575642466545; time = 12.50319790840149\n",
      "Train: Epoch 42; err = 381.2659206390381; time = 12.595164060592651\n",
      "Train: Epoch 43; err = 379.9495045542717; time = 12.619854927062988\n",
      "Train: Epoch 44; err = 379.6108562350273; time = 12.733382940292358\n",
      "0.008847359999999999\n",
      "tensor([0.0832, 0.0649, 0.8519], grad_fn=<MeanBackward1>) 0.6761512160301208\n",
      "Train: Epoch 45; err = 379.95392817258835; time = 12.538810968399048\n",
      "Train: Epoch 46; err = 378.9280883669853; time = 12.593443155288696\n",
      "Train: Epoch 47; err = 376.19675493240356; time = 12.697582006454468\n",
      "Train: Epoch 48; err = 376.49271190166473; time = 12.5663321018219\n",
      "Train: Epoch 49; err = 378.9913183450699; time = 12.652530193328857\n",
      "Train: Epoch 50; err = 377.90756648778915; time = 12.6001877784729\n",
      "Train: Epoch 51; err = 374.85735219717026; time = 12.645491123199463\n",
      "Train: Epoch 52; err = 373.3279044032097; time = 12.513912916183472\n",
      "Train: Epoch 53; err = 375.3078153729439; time = 12.605586051940918\n",
      "Train: Epoch 54; err = 373.5858616232872; time = 12.705970048904419\n",
      "Train: Epoch 55; err = 377.67397874593735; time = 12.708970069885254\n",
      "Train: Epoch 56; err = 421.58280062675476; time = 12.691981077194214\n",
      "Train: Epoch 57; err = 474.96434158086777; time = 12.58066987991333\n",
      "Train: Epoch 58; err = 453.79588747024536; time = 12.53469181060791\n",
      "Train: Epoch 59; err = 445.44711714982986; time = 12.585333108901978\n",
      "0.008493465599999998\n",
      "tensor([0.1598, 0.0836, 0.7565], grad_fn=<MeanBackward1>) 0.7672081589698792\n",
      "Train: Epoch 60; err = 438.88796204328537; time = 12.555263996124268\n",
      "Train: Epoch 61; err = 433.2990075945854; time = 12.6767098903656\n",
      "Train: Epoch 62; err = 428.31108421087265; time = 12.606076002120972\n",
      "Train: Epoch 63; err = 423.4940975308418; time = 12.446506977081299\n",
      "Train: Epoch 64; err = 417.7634249329567; time = 12.43269395828247\n",
      "Train: Epoch 65; err = 412.12603336572647; time = 12.574644088745117\n",
      "Train: Epoch 66; err = 406.7460278868675; time = 12.751595973968506\n",
      "Train: Epoch 67; err = 401.23968547582626; time = 12.55974292755127\n",
      "Train: Epoch 68; err = 393.2439758181572; time = 12.653061151504517\n",
      "Train: Epoch 69; err = 389.2263798713684; time = 12.569766998291016\n",
      "Train: Epoch 70; err = 385.8879747390747; time = 12.645056962966919\n",
      "Train: Epoch 71; err = 381.5940352678299; time = 12.557248830795288\n",
      "Train: Epoch 72; err = 379.50534361600876; time = 12.762846946716309\n",
      "Train: Epoch 73; err = 377.6109083890915; time = 12.706045866012573\n",
      "Train: Epoch 74; err = 374.24074202775955; time = 12.680994033813477\n",
      "0.008153726975999998\n",
      "tensor([0.0481, 0.0818, 0.8702], grad_fn=<MeanBackward1>) 0.6698375940322876\n",
      "Train: Epoch 75; err = 373.2391348481178; time = 12.71704387664795\n",
      "Train: Epoch 76; err = 375.6277193427086; time = 12.633597135543823\n",
      "Train: Epoch 77; err = 372.1095515489578; time = 12.656638860702515\n"
     ]
    },
    {
     "name": "stdout",
     "output_type": "stream",
     "text": [
      "Train: Epoch 78; err = 369.3107558488846; time = 12.817790985107422\n",
      "Train: Epoch 79; err = 369.0516586303711; time = 12.835880756378174\n",
      "Train: Epoch 80; err = 426.453941822052; time = 12.640764236450195\n",
      "Train: Epoch 81; err = 402.79213654994965; time = 12.623517036437988\n",
      "Train: Epoch 82; err = 392.5448858141899; time = 12.657978773117065\n",
      "Train: Epoch 83; err = 384.60580664873123; time = 12.791631937026978\n",
      "Train: Epoch 84; err = 380.66723597049713; time = 12.817256212234497\n",
      "Train: Epoch 85; err = 375.72378891706467; time = 12.782153129577637\n",
      "Train: Epoch 86; err = 374.26403510570526; time = 12.72359013557434\n",
      "Train: Epoch 87; err = 372.5443574786186; time = 12.797353982925415\n",
      "Train: Epoch 88; err = 371.2126034498215; time = 12.812451124191284\n",
      "Train: Epoch 89; err = 369.5015741586685; time = 12.884557008743286\n",
      "0.007827577896959998\n",
      "tensor([0.0789, 0.0857, 0.8354], grad_fn=<MeanBackward1>) 0.7076396942138672\n",
      "Train: Epoch 90; err = 371.4687229990959; time = 12.832292079925537\n",
      "Train: Epoch 91; err = 370.4090194106102; time = 12.835830926895142\n",
      "Train: Epoch 92; err = 565.1428926587105; time = 14.140527248382568\n",
      "Train: Epoch 93; err = 645.797060251236; time = 14.765656232833862\n",
      "Train: Epoch 94; err = 645.9116668701172; time = 14.424595832824707\n",
      "Train: Epoch 95; err = 638.8715853095055; time = 14.172031879425049\n",
      "Train: Epoch 96; err = 637.7746320962906; time = 14.340123176574707\n",
      "Train: Epoch 97; err = 632.2529730796814; time = 14.51214599609375\n",
      "Train: Epoch 98; err = 635.7700216770172; time = 15.08006501197815\n",
      "Train: Epoch 99; err = 619.9497396349907; time = 15.289303064346313\n",
      "Train: Epoch 100; err = 613.9265657067299; time = 15.004709959030151\n",
      "\n",
      "Training for config: eta_large\n",
      "Using cpu\n",
      "ColorizedNeuralListenerEncoder cpu\n",
      "ColorizedNeuralListenerEncoderDecoder cpu\n",
      "Train: Epoch 1; err = 540.6360137462616; time = 12.511844873428345\n",
      "Train: Epoch 2; err = 478.41996800899506; time = 12.755520105361938\n",
      "Train: Epoch 3; err = 451.942040681839; time = 12.417836904525757\n",
      "Train: Epoch 4; err = 442.3001581430435; time = 12.510576725006104\n",
      "Train: Epoch 5; err = 437.3210180401802; time = 12.47306513786316\n",
      "Train: Epoch 6; err = 430.4243821501732; time = 12.533903121948242\n",
      "Train: Epoch 7; err = 426.3038018941879; time = 12.540394067764282\n",
      "Train: Epoch 8; err = 424.6624466776848; time = 12.5433349609375\n",
      "Train: Epoch 9; err = 427.85330229997635; time = 12.631746768951416\n",
      "Train: Epoch 10; err = 420.9235405921936; time = 12.588183641433716\n",
      "Train: Epoch 11; err = 420.1107960343361; time = 12.594133138656616\n",
      "Train: Epoch 12; err = 423.6054729819298; time = 12.577263116836548\n",
      "Train: Epoch 13; err = 423.8222807049751; time = 12.570656061172485\n",
      "Train: Epoch 14; err = 418.9234017133713; time = 12.632975816726685\n",
      "0.048\n",
      "tensor([0.1619, 0.0660, 0.7721], grad_fn=<MeanBackward1>) 0.757778525352478\n",
      "Train: Epoch 15; err = 416.1437485218048; time = 12.827486038208008\n",
      "Train: Epoch 16; err = 413.9332384467125; time = 12.66740107536316\n",
      "Train: Epoch 17; err = 418.2389445900917; time = 12.642672300338745\n",
      "Train: Epoch 18; err = 412.1010240316391; time = 12.65859603881836\n",
      "Train: Epoch 19; err = 414.48532581329346; time = 12.719349145889282\n",
      "Train: Epoch 20; err = 413.17029362916946; time = 12.674903154373169\n",
      "Train: Epoch 21; err = 411.81700283288956; time = 12.854412078857422\n",
      "Train: Epoch 22; err = 412.89345091581345; time = 12.734984874725342\n",
      "Train: Epoch 23; err = 411.763611137867; time = 12.643598079681396\n",
      "Train: Epoch 24; err = 408.60879224538803; time = 12.60329818725586\n",
      "Train: Epoch 25; err = 411.6885818839073; time = 12.7153000831604\n",
      "Train: Epoch 26; err = 431.2282592058182; time = 12.83920693397522\n",
      "Train: Epoch 27; err = 420.55465495586395; time = 12.687938928604126\n",
      "Train: Epoch 28; err = 414.1956558227539; time = 12.732962131500244\n",
      "Train: Epoch 29; err = 414.4723181128502; time = 12.649157285690308\n",
      "0.046079999999999996\n",
      "tensor([0.0928, 0.0695, 0.8377], grad_fn=<MeanBackward1>) 0.6954240798950195\n",
      "Train: Epoch 30; err = 410.7512852549553; time = 12.679570198059082\n",
      "Train: Epoch 31; err = 410.4873357415199; time = 12.72106385231018\n",
      "Train: Epoch 32; err = 409.60875576734543; time = 12.88844108581543\n",
      "Train: Epoch 33; err = 406.83158779144287; time = 12.843292951583862\n",
      "Train: Epoch 34; err = 406.1973713040352; time = 12.72846794128418\n",
      "Train: Epoch 35; err = 405.0223153233528; time = 12.702159881591797\n",
      "Train: Epoch 36; err = 424.6185086965561; time = 12.855430841445923\n",
      "Train: Epoch 37; err = 671.3976246118546; time = 15.175095081329346\n",
      "Train: Epoch 38; err = 672.2710312604904; time = 14.21943187713623\n",
      "Train: Epoch 39; err = 671.3137197494507; time = 13.893343925476074\n",
      "Train: Epoch 40; err = 672.5329884290695; time = 13.813282012939453\n",
      "Train: Epoch 41; err = 670.7025774717331; time = 13.704667091369629\n",
      "Train: Epoch 42; err = 671.0812093019485; time = 13.76515007019043\n",
      "Train: Epoch 43; err = 672.1335582733154; time = 13.705240964889526\n",
      "Train: Epoch 44; err = 669.9871739149094; time = 13.529638290405273\n",
      "0.04423679999999999\n",
      "tensor([0.3111, 0.3778, 0.3111], grad_fn=<MeanBackward1>) 1.2403337955474854\n",
      "Train: Epoch 45; err = 670.5952423810959; time = 13.605816125869751\n",
      "Train: Epoch 46; err = 671.581827878952; time = 13.572797298431396\n",
      "Train: Epoch 47; err = 671.2792810201645; time = 13.374460935592651\n",
      "Train: Epoch 48; err = 670.0244916677475; time = 13.478463172912598\n",
      "Train: Epoch 49; err = 671.1799000501633; time = 13.339361906051636\n",
      "Train: Epoch 50; err = 672.272500038147; time = 13.556670904159546\n",
      "Train: Epoch 51; err = 672.2093859910965; time = 13.703951120376587\n",
      "Train: Epoch 52; err = 671.5559268593788; time = 13.64779806137085\n",
      "Train: Epoch 53; err = 671.6517105102539; time = 14.006884098052979\n",
      "Train: Epoch 54; err = 669.650085568428; time = 13.616752862930298\n",
      "Train: Epoch 55; err = 670.7942119240761; time = 13.432878017425537\n",
      "Train: Epoch 56; err = 670.4357429742813; time = 13.065785884857178\n",
      "Train: Epoch 57; err = 673.0310671329498; time = 13.162288904190063\n",
      "Train: Epoch 58; err = 678.7701641321182; time = 13.347695112228394\n",
      "Train: Epoch 59; err = 686.9897373914719; time = 13.164978981018066\n",
      "0.04246732799999999\n",
      "tensor([0.2444, 0.3778, 0.3778], grad_fn=<MeanBackward1>) 1.1736671924591064\n",
      "Train: Epoch 60; err = 685.4509694576263; time = 13.55427622795105\n",
      "Train: Epoch 61; err = 683.5148599147797; time = 13.746999025344849\n",
      "Train: Epoch 62; err = 684.7803823947906; time = 13.665488958358765\n",
      "Train: Epoch 63; err = 682.8260788917542; time = 13.599745988845825\n",
      "Train: Epoch 64; err = 684.8721189498901; time = 13.167647123336792\n",
      "Train: Epoch 65; err = 686.1167078018188; time = 13.188784122467041\n",
      "Train: Epoch 66; err = 685.8357821702957; time = 13.00296401977539\n",
      "Train: Epoch 67; err = 685.0061849355698; time = 13.023760795593262\n",
      "Train: Epoch 68; err = 686.5063021183014; time = 12.858422040939331\n",
      "Train: Epoch 69; err = 686.3192558288574; time = 13.21202301979065\n",
      "Train: Epoch 70; err = 685.1421035528183; time = 12.923579931259155\n",
      "Train: Epoch 71; err = 683.216507434845; time = 12.850414991378784\n",
      "Train: Epoch 72; err = 684.6458487510681; time = 13.574517250061035\n",
      "Train: Epoch 73; err = 684.7819210290909; time = 13.305837154388428\n",
      "Train: Epoch 74; err = 686.7209187746048; time = 13.268334865570068\n",
      "0.04076863487999999\n",
      "tensor([0.3556, 0.3556, 0.2889], grad_fn=<MeanBackward1>) 1.2625560760498047\n",
      "Train: Epoch 75; err = 682.7597019672394; time = 12.776833057403564\n",
      "Train: Epoch 76; err = 680.0220601558685; time = 12.977474689483643\n",
      "Train: Epoch 77; err = 678.2613016366959; time = 12.934615135192871\n",
      "Train: Epoch 78; err = 678.1969962120056; time = 12.890558004379272\n",
      "Train: Epoch 79; err = 677.3843063116074; time = 12.928685188293457\n",
      "Train: Epoch 80; err = 673.8571603298187; time = 12.950602054595947\n",
      "Train: Epoch 81; err = 678.8194234371185; time = 13.210302114486694\n",
      "Train: Epoch 82; err = 683.271338224411; time = 14.27590298652649\n",
      "Train: Epoch 83; err = 682.9234315156937; time = 14.320891857147217\n",
      "Train: Epoch 84; err = 677.3755987882614; time = 14.145752906799316\n",
      "Train: Epoch 85; err = 676.305225610733; time = 13.265346050262451\n",
      "Train: Epoch 86; err = 675.5824052095413; time = 13.25942587852478\n",
      "Train: Epoch 87; err = 673.496241569519; time = 13.648277997970581\n",
      "Train: Epoch 88; err = 672.9117106199265; time = 13.20999002456665\n"
     ]
    },
    {
     "name": "stdout",
     "output_type": "stream",
     "text": [
      "Train: Epoch 89; err = 676.8481532335281; time = 13.756450891494751\n",
      "0.03913788948479999\n",
      "tensor([0.3111, 0.3333, 0.3556], grad_fn=<MeanBackward1>) 1.1958893537521362\n",
      "Train: Epoch 90; err = 680.4615850448608; time = 13.644700288772583\n",
      "Train: Epoch 91; err = 683.3012928962708; time = 13.053422212600708\n",
      "Train: Epoch 92; err = 682.7955001592636; time = 12.994163990020752\n",
      "Train: Epoch 93; err = 682.2594726085663; time = 13.361133813858032\n",
      "Train: Epoch 94; err = 681.0768003463745; time = 13.641701936721802\n",
      "Train: Epoch 95; err = 678.4061583280563; time = 13.62239408493042\n",
      "Train: Epoch 96; err = 674.990328669548; time = 13.376493215560913\n",
      "Train: Epoch 97; err = 674.8412671089172; time = 13.059277057647705\n",
      "Train: Epoch 98; err = 674.7380559444427; time = 12.988371133804321\n",
      "Train: Epoch 99; err = 672.966540813446; time = 12.977397203445435\n",
      "Train: Epoch 100; err = 676.786828160286; time = 12.903651714324951\n",
      "\n",
      "Training for config: lr_small\n",
      "Using cpu\n",
      "ColorizedNeuralListenerEncoder cpu\n",
      "ColorizedNeuralListenerEncoderDecoder cpu\n",
      "Train: Epoch 1; err = 568.6145657896996; time = 12.50045108795166\n",
      "Train: Epoch 2; err = 517.7924544215202; time = 12.193969964981079\n",
      "Train: Epoch 3; err = 496.0019194483757; time = 12.433995962142944\n",
      "Train: Epoch 4; err = 477.20060193538666; time = 12.242543697357178\n",
      "Train: Epoch 5; err = 474.81527215242386; time = 12.259682893753052\n",
      "Train: Epoch 6; err = 459.70674192905426; time = 12.34653615951538\n",
      "Train: Epoch 7; err = 446.2921197414398; time = 12.479504823684692\n",
      "Train: Epoch 8; err = 440.6259607076645; time = 12.466762065887451\n",
      "Train: Epoch 9; err = 435.57151037454605; time = 12.3432297706604\n",
      "Train: Epoch 10; err = 431.85273188352585; time = 12.308154106140137\n",
      "Train: Epoch 11; err = 428.5163056254387; time = 12.23833417892456\n",
      "Train: Epoch 12; err = 426.39735037088394; time = 12.425069093704224\n",
      "Train: Epoch 13; err = 423.6850387454033; time = 12.29796290397644\n",
      "Train: Epoch 14; err = 421.6532376408577; time = 12.29280400276184\n",
      "0.00025\n",
      "tensor([0.1675, 0.0899, 0.7426], grad_fn=<MeanBackward1>) 0.7845613360404968\n",
      "Train: Epoch 15; err = 420.99227064847946; time = 12.332478046417236\n",
      "Train: Epoch 16; err = 412.52913612127304; time = 12.211609125137329\n",
      "Train: Epoch 17; err = 409.72781705856323; time = 12.210482120513916\n",
      "Train: Epoch 18; err = 408.21761029958725; time = 12.732383012771606\n",
      "Train: Epoch 19; err = 407.1367574930191; time = 12.506178855895996\n",
      "Train: Epoch 20; err = 406.1312020421028; time = 12.412260055541992\n",
      "Train: Epoch 21; err = 405.41644954681396; time = 12.374705076217651\n",
      "Train: Epoch 22; err = 404.5036650300026; time = 12.436308145523071\n",
      "Train: Epoch 23; err = 403.86782068014145; time = 12.578858137130737\n",
      "Train: Epoch 24; err = 403.25786286592484; time = 12.669440031051636\n",
      "Train: Epoch 25; err = 402.5320526957512; time = 12.557016134262085\n",
      "Train: Epoch 26; err = 402.0065087676048; time = 12.430861949920654\n",
      "Train: Epoch 27; err = 401.5575310587883; time = 12.503121852874756\n",
      "Train: Epoch 28; err = 401.27252954244614; time = 12.47129774093628\n",
      "Train: Epoch 29; err = 400.72962003946304; time = 12.726555824279785\n",
      "1.25e-05\n",
      "tensor([0.0998, 0.0319, 0.8682], grad_fn=<MeanBackward1>) 0.6657177209854126\n",
      "Train: Epoch 30; err = 400.25297623872757; time = 12.46620798110962\n",
      "Train: Epoch 31; err = 399.2117358446121; time = 12.454925060272217\n",
      "Train: Epoch 32; err = 399.0905044078827; time = 12.493410110473633\n",
      "Train: Epoch 33; err = 399.01250940561295; time = 12.403547286987305\n",
      "Train: Epoch 34; err = 398.9911952018738; time = 12.498677015304565\n",
      "Train: Epoch 35; err = 398.9406862258911; time = 12.6167471408844\n",
      "Train: Epoch 36; err = 398.89643555879593; time = 12.539587020874023\n",
      "Train: Epoch 37; err = 398.85907155275345; time = 12.532649278640747\n",
      "Train: Epoch 38; err = 398.82147908210754; time = 12.44885802268982\n",
      "Train: Epoch 39; err = 398.7941475510597; time = 12.474079847335815\n",
      "Train: Epoch 40; err = 398.7414924502373; time = 12.539616107940674\n",
      "Train: Epoch 41; err = 398.7312143445015; time = 12.545852184295654\n",
      "Train: Epoch 42; err = 398.66390961408615; time = 12.430851221084595\n",
      "Train: Epoch 43; err = 398.66595381498337; time = 12.420162677764893\n",
      "Train: Epoch 44; err = 398.6020901799202; time = 12.407728910446167\n",
      "6.25e-07\n",
      "tensor([0.1630, 0.0976, 0.7394], grad_fn=<MeanBackward1>) 0.7938037514686584\n",
      "Train: Epoch 45; err = 398.6008457541466; time = 12.415010213851929\n",
      "Train: Epoch 46; err = 398.49040818214417; time = 12.539942979812622\n",
      "Train: Epoch 47; err = 398.5091652274132; time = 12.501727104187012\n",
      "Train: Epoch 48; err = 398.48921686410904; time = 12.517560958862305\n",
      "Train: Epoch 49; err = 398.49107426404953; time = 12.461465120315552\n",
      "Train: Epoch 50; err = 398.47007501125336; time = 12.413255214691162\n",
      "Train: Epoch 51; err = 398.50724160671234; time = 12.488208770751953\n",
      "Train: Epoch 52; err = 398.50212609767914; time = 12.560194969177246\n",
      "Train: Epoch 53; err = 398.5075505375862; time = 12.519218921661377\n",
      "Train: Epoch 54; err = 398.4831690788269; time = 12.49471402168274\n",
      "Train: Epoch 55; err = 398.4902722835541; time = 12.440844058990479\n",
      "Train: Epoch 56; err = 398.46915608644485; time = 12.546152830123901\n",
      "Train: Epoch 57; err = 398.48365420103073; time = 12.39293384552002\n",
      "Train: Epoch 58; err = 398.47610354423523; time = 12.663578987121582\n",
      "Train: Epoch 59; err = 398.4759058356285; time = 12.50093698501587\n",
      "3.1250000000000005e-08\n",
      "tensor([0.0299, 0.1025, 0.8676], grad_fn=<MeanBackward1>) 0.6671345829963684\n",
      "Train: Epoch 60; err = 398.4602411389351; time = 12.418044090270996\n",
      "Train: Epoch 61; err = 398.5002879500389; time = 12.440707206726074\n",
      "Train: Epoch 62; err = 398.4735875725746; time = 12.454944133758545\n",
      "Train: Epoch 63; err = 398.44938308000565; time = 12.657979011535645\n",
      "Train: Epoch 64; err = 398.4701060652733; time = 12.506701707839966\n",
      "Train: Epoch 65; err = 398.47311186790466; time = 12.510433912277222\n",
      "Train: Epoch 66; err = 398.4487969279289; time = 12.542198657989502\n",
      "Train: Epoch 67; err = 398.48080480098724; time = 12.411114931106567\n",
      "Train: Epoch 68; err = 398.44154292345047; time = 12.389230012893677\n",
      "Train: Epoch 69; err = 398.46187299489975; time = 12.5520498752594\n",
      "Train: Epoch 70; err = 398.476354598999; time = 12.460285186767578\n",
      "Train: Epoch 71; err = 398.4980397820473; time = 12.378461837768555\n",
      "Train: Epoch 72; err = 398.48475313186646; time = 12.443229913711548\n",
      "Train: Epoch 73; err = 398.4799197912216; time = 12.586636781692505\n",
      "Train: Epoch 74; err = 398.4635538458824; time = 12.477255821228027\n",
      "1.5625000000000003e-09\n",
      "tensor([0.0913, 0.0608, 0.8480], grad_fn=<MeanBackward1>) 0.6842536330223083\n",
      "Train: Epoch 75; err = 398.4602870941162; time = 12.647073984146118\n",
      "Train: Epoch 76; err = 398.4847522377968; time = 12.56539797782898\n",
      "Train: Epoch 77; err = 398.4869203567505; time = 12.482908010482788\n",
      "Train: Epoch 78; err = 398.47228467464447; time = 12.515377044677734\n",
      "Train: Epoch 79; err = 398.46200263500214; time = 12.493780136108398\n",
      "Train: Epoch 80; err = 398.46145194768906; time = 12.637192964553833\n",
      "Train: Epoch 81; err = 398.47373229265213; time = 12.509047031402588\n",
      "Train: Epoch 82; err = 398.46913796663284; time = 12.488304138183594\n",
      "Train: Epoch 83; err = 398.4764862060547; time = 12.48544430732727\n",
      "Train: Epoch 84; err = 398.4602634906769; time = 12.439554214477539\n",
      "Train: Epoch 85; err = 398.4786040186882; time = 12.395209074020386\n",
      "Train: Epoch 86; err = 398.44372725486755; time = 12.618988037109375\n",
      "Train: Epoch 87; err = 398.4607693552971; time = 12.489224910736084\n",
      "Train: Epoch 88; err = 398.46509915590286; time = 12.432546854019165\n",
      "Train: Epoch 89; err = 398.45741295814514; time = 12.365212202072144\n",
      "7.812500000000003e-11\n",
      "tensor([0.1102, 0.0820, 0.8078], grad_fn=<MeanBackward1>) 0.7271150946617126\n",
      "Train: Epoch 90; err = 398.4728572368622; time = 12.529399156570435\n",
      "Train: Epoch 91; err = 398.4822543859482; time = 12.466221809387207\n",
      "Train: Epoch 92; err = 398.4898684024811; time = 12.598402976989746\n",
      "Train: Epoch 93; err = 398.4658413529396; time = 12.500039100646973\n",
      "Train: Epoch 94; err = 398.46873140335083; time = 12.399510145187378\n",
      "Train: Epoch 95; err = 398.4795019030571; time = 12.502439022064209\n",
      "Train: Epoch 96; err = 398.50588071346283; time = 12.633005142211914\n",
      "Train: Epoch 97; err = 398.46312487125397; time = 12.639932870864868\n"
     ]
    },
    {
     "name": "stdout",
     "output_type": "stream",
     "text": [
      "Train: Epoch 98; err = 398.44519913196564; time = 12.468000650405884\n",
      "Train: Epoch 99; err = 398.47613483667374; time = 12.443324089050293\n",
      "Train: Epoch 100; err = 398.47771739959717; time = 12.555352210998535\n",
      "\n",
      "Training for config: lr_medium\n",
      "Using cpu\n",
      "ColorizedNeuralListenerEncoder cpu\n",
      "ColorizedNeuralListenerEncoderDecoder cpu\n",
      "Train: Epoch 1; err = 543.658603310585; time = 12.291300058364868\n",
      "Train: Epoch 2; err = 503.1803774833679; time = 12.260873794555664\n",
      "Train: Epoch 3; err = 494.00929671525955; time = 12.563544034957886\n",
      "Train: Epoch 4; err = 478.1080547571182; time = 12.346901893615723\n",
      "Train: Epoch 5; err = 461.29309290647507; time = 12.300128936767578\n",
      "Train: Epoch 6; err = 452.43116170167923; time = 12.305509805679321\n",
      "Train: Epoch 7; err = 446.30157911777496; time = 12.327335834503174\n",
      "Train: Epoch 8; err = 440.4562268257141; time = 12.217766046524048\n",
      "Train: Epoch 9; err = 436.3131638765335; time = 12.448351860046387\n",
      "Train: Epoch 10; err = 433.6786820292473; time = 12.177191972732544\n",
      "Train: Epoch 11; err = 429.7199197411537; time = 12.260072231292725\n",
      "Train: Epoch 12; err = 426.4571987390518; time = 12.288203954696655\n",
      "Train: Epoch 13; err = 424.18186378479004; time = 12.23535704612732\n",
      "Train: Epoch 14; err = 423.75001418590546; time = 12.326351165771484\n",
      "0.002\n",
      "tensor([0.1300, 0.1292, 0.7407], grad_fn=<MeanBackward1>) 0.7854350805282593\n",
      "Train: Epoch 15; err = 424.1507318019867; time = 12.463969707489014\n",
      "Train: Epoch 16; err = 411.6986815929413; time = 12.31455397605896\n",
      "Train: Epoch 17; err = 409.63618671894073; time = 12.271515130996704\n",
      "Train: Epoch 18; err = 406.68331176042557; time = 12.300182819366455\n",
      "Train: Epoch 19; err = 406.0731627345085; time = 12.451852798461914\n",
      "Train: Epoch 20; err = 404.2622407078743; time = 12.663016080856323\n",
      "Train: Epoch 21; err = 403.37192833423615; time = 12.468194007873535\n",
      "Train: Epoch 22; err = 401.2046397924423; time = 12.541000843048096\n",
      "Train: Epoch 23; err = 400.435948073864; time = 12.519225120544434\n",
      "Train: Epoch 24; err = 399.22537463903427; time = 12.494387865066528\n",
      "Train: Epoch 25; err = 397.4772518873215; time = 12.432443141937256\n",
      "Train: Epoch 26; err = 396.50103384256363; time = 12.56502103805542\n",
      "Train: Epoch 27; err = 395.9322672486305; time = 12.575884103775024\n",
      "Train: Epoch 28; err = 394.5464170575142; time = 12.535974979400635\n",
      "Train: Epoch 29; err = 393.06167328357697; time = 12.523132085800171\n",
      "0.0008\n",
      "tensor([0.0897, 0.0359, 0.8744], grad_fn=<MeanBackward1>) 0.6587550640106201\n",
      "Train: Epoch 30; err = 393.2473700642586; time = 12.547630071640015\n",
      "Train: Epoch 31; err = 387.95463675260544; time = 12.54452395439148\n",
      "Train: Epoch 32; err = 386.7201136946678; time = 12.524560928344727\n",
      "Train: Epoch 33; err = 385.2526525259018; time = 12.531532049179077\n",
      "Train: Epoch 34; err = 384.46516674757004; time = 12.559838056564331\n",
      "Train: Epoch 35; err = 383.7507784962654; time = 12.48013687133789\n",
      "Train: Epoch 36; err = 383.21873331069946; time = 12.570310115814209\n",
      "Train: Epoch 37; err = 382.93779623508453; time = 12.703679084777832\n",
      "Train: Epoch 38; err = 383.25771218538284; time = 12.509825944900513\n",
      "Train: Epoch 39; err = 382.0222552418709; time = 12.56542181968689\n",
      "Train: Epoch 40; err = 381.1995177268982; time = 12.356940984725952\n",
      "Train: Epoch 41; err = 380.6081210374832; time = 12.312965154647827\n",
      "Train: Epoch 42; err = 380.33389472961426; time = 12.42296314239502\n",
      "Train: Epoch 43; err = 379.6259912252426; time = 12.72385287284851\n",
      "Train: Epoch 44; err = 379.5718902349472; time = 12.603100061416626\n",
      "0.00032\n",
      "tensor([0.1079, 0.0266, 0.8655], grad_fn=<MeanBackward1>) 0.670427680015564\n",
      "Train: Epoch 45; err = 379.0310507416725; time = 12.528111934661865\n",
      "Train: Epoch 46; err = 376.5104128718376; time = 12.479697227478027\n",
      "Train: Epoch 47; err = 375.8821976184845; time = 12.520769834518433\n",
      "Train: Epoch 48; err = 375.37885677814484; time = 12.55476188659668\n",
      "Train: Epoch 49; err = 375.0025552511215; time = 12.636743783950806\n",
      "Train: Epoch 50; err = 374.7077955007553; time = 12.542834043502808\n",
      "Train: Epoch 51; err = 374.3099583387375; time = 12.563316822052002\n",
      "Train: Epoch 52; err = 374.40697956085205; time = 12.570224046707153\n",
      "Train: Epoch 53; err = 374.24738746881485; time = 12.584918022155762\n",
      "Train: Epoch 54; err = 373.7277564406395; time = 12.812077045440674\n",
      "Train: Epoch 55; err = 373.2874316573143; time = 12.571335077285767\n",
      "Train: Epoch 56; err = 373.150288105011; time = 12.53423523902893\n",
      "Train: Epoch 57; err = 373.1776416897774; time = 12.617103815078735\n",
      "Train: Epoch 58; err = 372.7756162285805; time = 12.532358884811401\n",
      "Train: Epoch 59; err = 372.70464211702347; time = 12.768124103546143\n",
      "0.00012800000000000002\n",
      "tensor([0.0732, 0.0274, 0.8995], grad_fn=<MeanBackward1>) 0.6362780928611755\n",
      "Train: Epoch 60; err = 372.40990978479385; time = 12.634982824325562\n",
      "Train: Epoch 61; err = 371.3886077404022; time = 12.600038051605225\n",
      "Train: Epoch 62; err = 371.01034957170486; time = 12.802414894104004\n",
      "Train: Epoch 63; err = 370.8288988471031; time = 12.779904127120972\n",
      "Train: Epoch 64; err = 370.6985965371132; time = 12.621172428131104\n",
      "Train: Epoch 65; err = 370.72199761867523; time = 12.734200954437256\n",
      "Train: Epoch 66; err = 370.4921740293503; time = 12.567121028900146\n",
      "Train: Epoch 67; err = 370.5451520085335; time = 12.766897916793823\n",
      "Train: Epoch 68; err = 370.3067556023598; time = 12.671619892120361\n",
      "Train: Epoch 69; err = 370.2171519994736; time = 12.716049194335938\n",
      "Train: Epoch 70; err = 370.0874881744385; time = 12.553808689117432\n",
      "Train: Epoch 71; err = 369.95329213142395; time = 12.805002927780151\n",
      "Train: Epoch 72; err = 369.8857090473175; time = 12.69911789894104\n",
      "Train: Epoch 73; err = 369.76599538326263; time = 12.706176996231079\n",
      "Train: Epoch 74; err = 369.7304561138153; time = 12.543243885040283\n",
      "5.120000000000001e-05\n",
      "tensor([0.0567, 0.0726, 0.8708], grad_fn=<MeanBackward1>) 0.6690161824226379\n",
      "Train: Epoch 75; err = 369.5558199286461; time = 12.639410257339478\n",
      "Train: Epoch 76; err = 369.0944154262543; time = 12.607311964035034\n",
      "Train: Epoch 77; err = 368.9146377444267; time = 12.644983053207397\n",
      "Train: Epoch 78; err = 368.8919104337692; time = 12.591800212860107\n",
      "Train: Epoch 79; err = 368.84537756443024; time = 12.619572162628174\n",
      "Train: Epoch 80; err = 368.7953202724457; time = 12.5315420627594\n",
      "Train: Epoch 81; err = 368.75864338874817; time = 12.6516752243042\n",
      "Train: Epoch 82; err = 368.6693266630173; time = 12.84876298904419\n",
      "Train: Epoch 83; err = 368.6300054192543; time = 12.679949760437012\n",
      "Train: Epoch 84; err = 368.571349799633; time = 12.97442364692688\n",
      "Train: Epoch 85; err = 368.53701812028885; time = 12.75608515739441\n",
      "Train: Epoch 86; err = 368.4921583533287; time = 12.701948881149292\n",
      "Train: Epoch 87; err = 368.41721498966217; time = 12.656609058380127\n",
      "Train: Epoch 88; err = 368.4297314286232; time = 12.71914029121399\n",
      "Train: Epoch 89; err = 368.36391294002533; time = 12.55024003982544\n",
      "2.0480000000000007e-05\n",
      "tensor([0.0521, 0.0707, 0.8772], grad_fn=<MeanBackward1>) 0.6661332249641418\n",
      "Train: Epoch 90; err = 368.27373427152634; time = 12.514516115188599\n",
      "Train: Epoch 91; err = 368.11054569482803; time = 12.502273082733154\n",
      "Train: Epoch 92; err = 368.0398456454277; time = 12.789983034133911\n",
      "Train: Epoch 93; err = 368.0532098412514; time = 12.758026123046875\n",
      "Train: Epoch 94; err = 368.0357149839401; time = 12.593897104263306\n",
      "Train: Epoch 95; err = 367.9988672733307; time = 12.603565216064453\n",
      "Train: Epoch 96; err = 368.0085732936859; time = 12.617034912109375\n",
      "Train: Epoch 97; err = 367.93917006254196; time = 12.743399858474731\n",
      "Train: Epoch 98; err = 367.92003482580185; time = 12.668247938156128\n",
      "Train: Epoch 99; err = 367.8804610967636; time = 12.78925895690918\n",
      "Train: Epoch 100; err = 367.86869925260544; time = 12.641120672225952\n",
      "\n",
      "Training for config: lr_large\n",
      "Using cpu\n",
      "ColorizedNeuralListenerEncoder cpu\n",
      "ColorizedNeuralListenerEncoderDecoder cpu\n",
      "Train: Epoch 1; err = 553.32934653759; time = 12.493579864501953\n",
      "Train: Epoch 2; err = 528.728622674942; time = 12.471486330032349\n",
      "Train: Epoch 3; err = 490.2821087837219; time = 12.316807270050049\n",
      "Train: Epoch 4; err = 479.383349776268; time = 12.43179202079773\n",
      "Train: Epoch 5; err = 462.5320943593979; time = 12.417723894119263\n",
      "Train: Epoch 6; err = 453.3005135655403; time = 12.24682331085205\n"
     ]
    },
    {
     "name": "stdout",
     "output_type": "stream",
     "text": [
      "Train: Epoch 7; err = 446.4211943745613; time = 12.290163040161133\n",
      "Train: Epoch 8; err = 439.99267280101776; time = 12.19801664352417\n",
      "Train: Epoch 9; err = 437.67188346385956; time = 12.247772932052612\n",
      "Train: Epoch 10; err = 432.42971205711365; time = 12.300394058227539\n",
      "Train: Epoch 11; err = 426.82570219039917; time = 12.09220814704895\n",
      "Train: Epoch 12; err = 425.6665825843811; time = 12.32714319229126\n",
      "Train: Epoch 13; err = 423.3024416565895; time = 12.321300983428955\n",
      "Train: Epoch 14; err = 420.9889580607414; time = 12.314790964126587\n",
      "0.00495\n",
      "tensor([0.1343, 0.0964, 0.7694], grad_fn=<MeanBackward1>) 0.7516847252845764\n",
      "Train: Epoch 15; err = 417.82268196344376; time = 12.288933992385864\n",
      "Train: Epoch 16; err = 415.76553177833557; time = 12.539571046829224\n",
      "Train: Epoch 17; err = 413.06857711076736; time = 12.499369144439697\n",
      "Train: Epoch 18; err = 412.5264288187027; time = 12.389079093933105\n",
      "Train: Epoch 19; err = 410.38414466381073; time = 12.278104066848755\n",
      "Train: Epoch 20; err = 408.7116041779518; time = 12.368510007858276\n",
      "Train: Epoch 21; err = 407.0538929104805; time = 12.539509057998657\n",
      "Train: Epoch 22; err = 406.01487016677856; time = 12.606658935546875\n",
      "Train: Epoch 23; err = 404.8992254137993; time = 12.349984884262085\n",
      "Train: Epoch 24; err = 402.8113805651665; time = 12.39180302619934\n",
      "Train: Epoch 25; err = 404.0591359138489; time = 12.515115022659302\n",
      "Train: Epoch 26; err = 400.3818933367729; time = 12.571328163146973\n",
      "Train: Epoch 27; err = 400.61139541864395; time = 12.653960943222046\n",
      "Train: Epoch 28; err = 396.9823904633522; time = 12.522042274475098\n",
      "Train: Epoch 29; err = 398.02399468421936; time = 12.644268989562988\n",
      "0.0049005\n",
      "tensor([0.0739, 0.0857, 0.8404], grad_fn=<MeanBackward1>) 0.695527195930481\n",
      "Train: Epoch 30; err = 395.33449018001556; time = 12.502554178237915\n",
      "Train: Epoch 31; err = 395.09093540906906; time = 12.484280109405518\n",
      "Train: Epoch 32; err = 394.47196209430695; time = 12.545481204986572\n",
      "Train: Epoch 33; err = 393.07323038578033; time = 12.5765061378479\n",
      "Train: Epoch 34; err = 391.36570394039154; time = 12.520488739013672\n",
      "Train: Epoch 35; err = 391.3262335062027; time = 12.556000232696533\n",
      "Train: Epoch 36; err = 390.0967569947243; time = 12.476202011108398\n",
      "Train: Epoch 37; err = 389.4984984397888; time = 12.431992053985596\n",
      "Train: Epoch 38; err = 386.7710326910019; time = 12.4933021068573\n",
      "Train: Epoch 39; err = 386.10409301519394; time = 12.737365007400513\n",
      "Train: Epoch 40; err = 386.8288663625717; time = 12.5387282371521\n",
      "Train: Epoch 41; err = 385.58098793029785; time = 12.381880283355713\n",
      "Train: Epoch 42; err = 385.20495480298996; time = 12.56269884109497\n",
      "Train: Epoch 43; err = 381.7205991744995; time = 12.498692989349365\n",
      "Train: Epoch 44; err = 381.83426064252853; time = 12.698347806930542\n",
      "0.004851495\n",
      "tensor([0.0564, 0.0840, 0.8596], grad_fn=<MeanBackward1>) 0.6824541687965393\n",
      "Train: Epoch 45; err = 381.9866131544113; time = 12.694536924362183\n",
      "Train: Epoch 46; err = 383.09016609191895; time = 12.485270977020264\n",
      "Train: Epoch 47; err = 380.4778650999069; time = 12.469807147979736\n",
      "Train: Epoch 48; err = 382.19995123147964; time = 12.697710275650024\n",
      "Train: Epoch 49; err = 378.23811054229736; time = 12.69096326828003\n",
      "Train: Epoch 50; err = 380.09672701358795; time = 12.822103023529053\n",
      "Train: Epoch 51; err = 378.57856172323227; time = 12.639436960220337\n",
      "Train: Epoch 52; err = 377.40421611070633; time = 12.370167970657349\n",
      "Train: Epoch 53; err = 376.91013461351395; time = 12.624129056930542\n",
      "Train: Epoch 54; err = 376.95151287317276; time = 12.598516941070557\n",
      "Train: Epoch 55; err = 377.3335927128792; time = 12.647913932800293\n",
      "Train: Epoch 56; err = 374.4242430329323; time = 12.566874265670776\n",
      "Train: Epoch 57; err = 373.7115240097046; time = 12.477858066558838\n",
      "Train: Epoch 58; err = 374.93380361795425; time = 12.528190851211548\n",
      "Train: Epoch 59; err = 375.4052581191063; time = 12.528605937957764\n",
      "0.00480298005\n",
      "tensor([0.1449, 0.0507, 0.8044], grad_fn=<MeanBackward1>) 0.7372161746025085\n",
      "Train: Epoch 60; err = 385.4830857515335; time = 12.518532991409302\n",
      "Train: Epoch 61; err = 373.9565405845642; time = 12.6978600025177\n",
      "Train: Epoch 62; err = 370.5448608994484; time = 12.673596858978271\n",
      "Train: Epoch 63; err = 370.4515542984009; time = 12.686381101608276\n",
      "Train: Epoch 64; err = 370.98784732818604; time = 12.69394302368164\n",
      "Train: Epoch 65; err = 373.0346378684044; time = 12.62337613105774\n",
      "Train: Epoch 66; err = 370.6987541913986; time = 12.657460927963257\n",
      "Train: Epoch 67; err = 370.9679862856865; time = 12.872817993164062\n",
      "Train: Epoch 68; err = 368.8785106539726; time = 12.651371717453003\n",
      "Train: Epoch 69; err = 368.74727231264114; time = 12.696583032608032\n",
      "Train: Epoch 70; err = 367.5520534515381; time = 12.62018895149231\n",
      "Train: Epoch 71; err = 368.2433688044548; time = 12.669521808624268\n",
      "Train: Epoch 72; err = 368.759890794754; time = 12.750234842300415\n",
      "Train: Epoch 73; err = 368.4568595290184; time = 12.704869985580444\n",
      "Train: Epoch 74; err = 366.26384973526; time = 12.689263105392456\n",
      "0.0047549502495\n",
      "tensor([0.1463, 0.0872, 0.7665], grad_fn=<MeanBackward1>) 0.7685325741767883\n",
      "Train: Epoch 75; err = 366.88479286432266; time = 12.710389137268066\n",
      "Train: Epoch 76; err = 366.9010922908783; time = 12.665457725524902\n",
      "Train: Epoch 77; err = 365.855256319046; time = 12.636413097381592\n",
      "Train: Epoch 78; err = 369.32216930389404; time = 12.845065832138062\n",
      "Train: Epoch 79; err = 365.2390635609627; time = 12.740336894989014\n",
      "Train: Epoch 80; err = 365.57048922777176; time = 12.696821212768555\n",
      "Train: Epoch 81; err = 363.91942685842514; time = 12.69248914718628\n",
      "Train: Epoch 82; err = 365.4979335665703; time = 12.621500968933105\n",
      "Train: Epoch 83; err = 362.8321843147278; time = 12.714635848999023\n",
      "Train: Epoch 84; err = 362.05447989702225; time = 12.74739384651184\n",
      "Train: Epoch 85; err = 365.4966341853142; time = 12.703314065933228\n",
      "Train: Epoch 86; err = 363.14804327487946; time = 12.725306987762451\n",
      "Train: Epoch 87; err = 361.32126075029373; time = 12.77595591545105\n",
      "Train: Epoch 88; err = 364.6180137395859; time = 12.795551061630249\n",
      "Train: Epoch 89; err = 362.0428302884102; time = 12.796840906143188\n",
      "0.004707400747005\n",
      "tensor([0.1031, 0.0098, 0.8871], grad_fn=<MeanBackward1>) 0.6530435681343079\n",
      "Train: Epoch 90; err = 361.4809567928314; time = 12.617685079574585\n",
      "Train: Epoch 91; err = 361.50173741579056; time = 12.786495923995972\n",
      "Train: Epoch 92; err = 361.46358984708786; time = 12.685070037841797\n",
      "Train: Epoch 93; err = 361.9839563369751; time = 12.705136060714722\n",
      "Train: Epoch 94; err = 361.35378777980804; time = 12.752331018447876\n",
      "Train: Epoch 95; err = 360.7573689222336; time = 12.950198888778687\n",
      "Train: Epoch 96; err = 360.8970929980278; time = 12.840382814407349\n",
      "Train: Epoch 97; err = 359.51554054021835; time = 12.816308975219727\n",
      "Train: Epoch 98; err = 360.1375381350517; time = 12.7899010181427\n",
      "Train: Epoch 99; err = 359.0437386035919; time = 12.78236699104309\n",
      "Train: Epoch 100; err = 360.05808168649673; time = 12.89716100692749\n"
     ]
    }
   ],
   "source": [
    "hyperparameter_exploration = {\n",
    "            \"batch_medium\": {\n",
    "                \"batch_size\": 64,\n",
    "                \"dropout_prob\": 0.0,\n",
    "                \"eta\": 0.005,\n",
    "                \"lr_rate\": 0.96,\n",
    "            },\n",
    "            \"batch_small\": {\n",
    "                \"batch_size\": 32,\n",
    "                \"dropout_prob\": 0.0,\n",
    "                \"eta\": 0.005,\n",
    "                \"lr_rate\": 0.96,\n",
    "            },\n",
    "             \"batch_xsmall\": {\n",
    "                \"batch_size\": 16,\n",
    "                \"dropout_prob\": 0.0,\n",
    "                \"eta\": 0.005,\n",
    "                \"lr_rate\": 0.96,\n",
    "            },\n",
    "            \"batch_large\": {\n",
    "                \"batch_size\": 128,\n",
    "                \"dropout_prob\": 0.0,\n",
    "                \"eta\": 0.005,\n",
    "                \"lr_rate\": 0.96,\n",
    "            },\n",
    "            \"batch_xlarge\": {\n",
    "                \"batch_size\": 256,\n",
    "                \"dropout_prob\": 0.0,\n",
    "                \"eta\": 0.005,\n",
    "                \"lr_rate\": 0.96,\n",
    "            },\n",
    "            \"dropout_small\": {\n",
    "                \"batch_size\": 64,\n",
    "                \"dropout_prob\": 0.1,\n",
    "                \"eta\": 0.005,\n",
    "                \"lr_rate\": 0.96,\n",
    "            },\n",
    "            \"dropout_large\": {\n",
    "                \"batch_size\": 64,\n",
    "                \"dropout_prob\": 0.3,\n",
    "                \"eta\": 0.005,\n",
    "                \"lr_rate\": 0.96,\n",
    "            },\n",
    "            \"eta_small\": {\n",
    "                \"batch_size\": 64,\n",
    "                \"dropout_prob\": 0.0,\n",
    "                \"eta\": 0.0005,\n",
    "                \"lr_rate\": 0.96,\n",
    "            },\n",
    "            \"eta_medium\": {\n",
    "                \"batch_size\": 64,\n",
    "                \"dropout_prob\": 0.0,\n",
    "                \"eta\": 0.01,\n",
    "                \"lr_rate\": 0.96,\n",
    "            },\n",
    "            \"eta_large\": {\n",
    "                \"batch_size\": 64,\n",
    "                \"dropout_prob\": 0.0,\n",
    "                \"eta\": 0.05,\n",
    "                \"lr_rate\": 0.96,\n",
    "            },\n",
    "            \"lr_small\": {\n",
    "                \"batch_size\": 64,\n",
    "                \"dropout_prob\": 0.0,\n",
    "                \"eta\": 0.005,\n",
    "                \"lr_rate\": 0.05,\n",
    "            },\n",
    "            \"lr_medium\": {\n",
    "                \"batch_size\": 64,\n",
    "                \"dropout_prob\": 0.0,\n",
    "                \"eta\": 0.005,\n",
    "                \"lr_rate\": 0.4,\n",
    "            },\n",
    "            \"lr_large\": {\n",
    "                \"batch_size\": 64,\n",
    "                \"dropout_prob\": 0.0,\n",
    "                \"eta\": 0.005,\n",
    "                \"lr_rate\": 0.99,\n",
    "            },\n",
    "        }\n",
    "\n",
    "model_exploration = {}\n",
    "model_fittings = {}\n",
    "for config in hyperparameter_exploration:\n",
    "    print(f'\\nTraining for config: {config}')\n",
    "    model_exploration[config] = ColorizedNeuralListener(\n",
    "        dev_vocab, \n",
    "        embed_dim=100,\n",
    "        embedding=embedding,\n",
    "        hidden_dim=100, \n",
    "        max_iter=100,\n",
    "        warm_start=True,\n",
    "        force_cpu=False, **hyperparameter_exploration[config])\n",
    "    model_fittings[config] = model_exploration[config].fit(dev_cols_train, dev_seqs_train)"
   ]
  },
  {
   "cell_type": "code",
   "execution_count": 84,
   "metadata": {
    "ExecuteTime": {
     "end_time": "2020-05-04T10:00:40.923188Z",
     "start_time": "2020-05-04T09:59:08.458842Z"
    }
   },
   "outputs": [
    {
     "name": "stdout",
     "output_type": "stream",
     "text": [
      "\n",
      "Results for batch_medium\n",
      "test 9337 / 11749 0.7947059324197804\n",
      "train 31613 / 35245 0.8969499219747482\n",
      "\n",
      "Results for batch_small\n",
      "test 9546 / 11749 0.8124946803983317\n",
      "train 31982 / 35245 0.9074194921265428\n",
      "\n",
      "Results for batch_xsmall\n",
      "test 9581 / 11749 0.815473657332539\n",
      "train 32176 / 35245 0.9129238189814158\n",
      "\n",
      "Results for batch_large\n",
      "test 9366 / 11749 0.7971742275938378\n",
      "train 31276 / 35245 0.8873882820258193\n",
      "\n",
      "Results for batch_xlarge\n",
      "test 9359 / 11749 0.7965784322069963\n",
      "train 31149 / 35245 0.8837849340331962\n",
      "\n",
      "Results for dropout_small\n",
      "test 9036 / 11749 0.7690867307855987\n",
      "train 30342 / 35245 0.860888069229678\n",
      "\n",
      "Results for dropout_large\n",
      "test 8443 / 11749 0.7186143501574602\n",
      "train 28225 / 35245 0.800822811746347\n",
      "\n",
      "Results for eta_small\n",
      "test 8928 / 11749 0.7598944591029023\n",
      "train 27880 / 35245 0.7910341892467017\n",
      "\n",
      "Results for eta_medium\n",
      "test 4991 / 11749 0.42480211081794195\n",
      "train 15199 / 35245 0.43123847354234646\n",
      "\n",
      "Results for eta_large\n",
      "test 3876 / 11749 0.3299004170567708\n",
      "train 11419 / 35245 0.323989218328841\n",
      "\n",
      "Results for lr_small\n",
      "test 9344 / 11749 0.7953017278066219\n",
      "train 29431 / 35245 0.8350404312668464\n",
      "\n",
      "Results for lr_medium\n",
      "test 9399 / 11749 0.7999829772746617\n",
      "train 31478 / 35245 0.8931195914314087\n",
      "\n",
      "Results for lr_large\n",
      "test 9406 / 11749 0.8005787726615031\n",
      "train 31878 / 35245 0.9044687189672294\n"
     ]
    }
   ],
   "source": [
    "for config, model in model_exploration.items():\n",
    "    print(f'\\nResults for {config}')\n",
    "    test_preds = model.predict(dev_cols_test, dev_seqs_test)\n",
    "    #dev_color_mod.predict(dev_cols_test, dev_seqs_test, probabilities=True)\n",
    "    train_preds = model.predict(dev_cols_train, dev_seqs_train)\n",
    "    #dev_color_mod.predict(dev_cols_test, dev_seqs_test, probabilities=True)\n",
    "    correct = sum([1 if x == 2 else 0 for x in test_preds])\n",
    "    print(\"test\", correct, \"/\", len(test_preds), correct/len(test_preds))\n",
    "    correct = sum([1 if x == 2 else 0 for x in train_preds])\n",
    "    print(\"train\", correct, \"/\", len(train_preds), correct/len(train_preds))"
   ]
  },
  {
   "cell_type": "code",
   "execution_count": 41,
   "metadata": {},
   "outputs": [],
   "source": [
    "totals = {}\n",
    "for ex in dev_examples:\n",
    "    #ex.display(typ='speaker')\n",
    "    #print(ex.condition)\n",
    "    if ex.condition not in totals:\n",
    "        totals[ex.condition] = 0\n",
    "    totals[ex.condition]+=1\n",
    "    #print(dev_color_mod.predict([ex.speaker_context], [tokenize_example(ex.contents)], probabilities=True))\n",
    "    #print(dev_color_mod.predict([ex.speaker_context], [tokenize_example(ex.contents)])[0])\n",
    "    #print()\n",
    "    \n",
    "scores = {}\n",
    "for ex in dev_examples:\n",
    "    #ex.display(typ='speaker')\n",
    "    #print(ex.condition)\n",
    "    if ex.condition not in scores:\n",
    "        scores[ex.condition] = 0\n",
    "    if dev_color_mod.predict([represent_color_context(ex.colors)], [tokenize_example(ex.contents)])[0] == 2:\n",
    "        scores[ex.condition]+=1"
   ]
  },
  {
   "cell_type": "code",
   "execution_count": 42,
   "metadata": {},
   "outputs": [
    {
     "name": "stdout",
     "output_type": "stream",
     "text": [
      "close : 4071 / 5776 = 0.7048130193905817\n",
      "far : 2009 / 2657 = 0.756115920210764\n",
      "split : 3869 / 5457 = 0.7089976177386843\n"
     ]
    }
   ],
   "source": [
    "for condition in scores:\n",
    "    print(condition, \":\", scores[condition], \"/\", totals[condition], \"=\", scores[condition]/totals[condition])"
   ]
  },
  {
   "cell_type": "code",
   "execution_count": 43,
   "metadata": {},
   "outputs": [],
   "source": [
    "#dev_perp = dev_color_mod.perplexities(dev_cols_test, dev_seqs_test)\n",
    "#dev_perp[0]"
   ]
  },
  {
   "cell_type": "code",
   "execution_count": 44,
   "metadata": {},
   "outputs": [],
   "source": [
    "#dev_color_mod.to_pickle(os.path.join('data', 'colors' 'color_describer_unigram_20e.pt'))"
   ]
  },
  {
   "cell_type": "code",
   "execution_count": null,
   "metadata": {},
   "outputs": [],
   "source": []
  },
  {
   "cell_type": "code",
   "execution_count": null,
   "metadata": {},
   "outputs": [],
   "source": []
  }
 ],
 "metadata": {
  "kernelspec": {
   "display_name": "Python 3",
   "language": "python",
   "name": "python3"
  },
  "language_info": {
   "codemirror_mode": {
    "name": "ipython",
    "version": 3
   },
   "file_extension": ".py",
   "mimetype": "text/x-python",
   "name": "python",
   "nbconvert_exporter": "python",
   "pygments_lexer": "ipython3",
   "version": "3.7.2"
  }
 },
 "nbformat": 4,
 "nbformat_minor": 2
}
