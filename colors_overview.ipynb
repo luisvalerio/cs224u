{
 "cells": [
  {
   "cell_type": "markdown",
   "metadata": {},
   "source": [
    "# Pragmatic color describers"
   ]
  },
  {
   "cell_type": "code",
   "execution_count": 1,
   "metadata": {},
   "outputs": [],
   "source": [
    "__author__ = \"Christopher Potts\"\n",
    "__version__ = \"CS224u, Stanford, Spring 2020\""
   ]
  },
  {
   "cell_type": "markdown",
   "metadata": {},
   "source": [
    "## Contents\n",
    "\n",
    "1. [Overview](#Overview)\n",
    "1. [Set-up](#Set-up)\n",
    "1. [The corpus](#The-corpus)\n",
    "  1. [Corpus reader](#Corpus-reader)\n",
    "  1. [ColorsCorpusExample instances](#ColorsCorpusExample-instances)\n",
    "    1. [Displaying examples](#Displaying-examples)\n",
    "    1. [Color representations](#Color-representations)\n",
    "    1. [Utterance texts](#Utterance-texts)\n",
    "  1. [Far, Split, and Close conditions](#Far,-Split,-and-Close-conditions)\n",
    "1. [Toy problems for development work](#Toy-problems-for-development-work)\n",
    "1. [Core model](#Core-model)\n",
    "  1. [Toy dataset illustration](#Toy-dataset-illustration)\n",
    "  1. [Predicting sequences](#Predicting-sequences)\n",
    "  1. [Listener-based evaluation](#Listener-based-evaluation)\n",
    "  1. [Other prediction and evaluation methods](#Other-prediction-and-evaluation-methods)\n",
    "  1. [Cross-validation](#Cross-validation)\n",
    "1. [Baseline SCC model](#Baseline-SCC-model)\n",
    "1. [Modifying the core model](#Modifying-the-core-model)\n",
    "  1. [Illustration: LSTM Cells](#Illustration:-LSTM-Cells)\n",
    "  1. [Illustration: Deeper models](#Illustration:-Deeper-models)"
   ]
  },
  {
   "cell_type": "markdown",
   "metadata": {},
   "source": [
    "## Overview\n",
    "\n",
    "This notebook is part of our unit on grounding. It illustrates core concepts from the unit, and it provides useful background material for the associated homework and bake-off."
   ]
  },
  {
   "cell_type": "markdown",
   "metadata": {},
   "source": [
    "## Set-up"
   ]
  },
  {
   "cell_type": "code",
   "execution_count": 1,
   "metadata": {
    "ExecuteTime": {
     "end_time": "2020-05-08T04:00:50.946219Z",
     "start_time": "2020-05-08T04:00:49.357992Z"
    }
   },
   "outputs": [],
   "source": [
    "from colors import ColorsCorpusReader\n",
    "import os\n",
    "import pandas as pd\n",
    "from sklearn.model_selection import train_test_split\n",
    "import torch\n",
    "from torch_color_describer import (\n",
    "    ContextualColorDescriber, create_example_dataset)\n",
    "import utils\n",
    "from utils import START_SYMBOL, END_SYMBOL, UNK_SYMBOL"
   ]
  },
  {
   "cell_type": "code",
   "execution_count": 2,
   "metadata": {
    "ExecuteTime": {
     "end_time": "2020-05-08T04:01:04.018327Z",
     "start_time": "2020-05-08T04:01:00.806985Z"
    }
   },
   "outputs": [],
   "source": [
    "utils.fix_random_seeds()"
   ]
  },
  {
   "cell_type": "markdown",
   "metadata": {},
   "source": [
    "The [Stanford English Colors in Context corpus](https://cocolab.stanford.edu/datasets/colors.html) (SCC) is included in the data distribution for this course. If you store the data in a non-standard place, you'll need to update the following:"
   ]
  },
  {
   "cell_type": "code",
   "execution_count": 3,
   "metadata": {
    "ExecuteTime": {
     "end_time": "2020-05-08T04:01:04.023475Z",
     "start_time": "2020-05-08T04:01:04.020746Z"
    }
   },
   "outputs": [],
   "source": [
    "COLORS_SRC_FILENAME = os.path.join(\n",
    "    \"data\", \"colors\", \"filteredCorpus.csv\")"
   ]
  },
  {
   "cell_type": "markdown",
   "metadata": {},
   "source": [
    "## The corpus"
   ]
  },
  {
   "cell_type": "markdown",
   "metadata": {},
   "source": [
    "The SCC corpus is based in a two-player interactive game. The two players share a context consisting of three color patches, with the display order randomized between them so that they can't use positional information when communicating.\n",
    "\n",
    "The __speaker__ is privately assigned a target color and asked to produce a description of it that will enable the __listener__ to identify the speaker's target. The listener makes a choice based on the speaker's message, and the two  succeed if and only if the listener identifies the target correctly.\n",
    "\n",
    "In the game, the two players played repeated reference games and could communicate with each other in a free-form way. This opens up the possibility of modeling these repeated interactions as task-oriented dialogues. However, for this unit, we'll ignore most of this structure. We'll treat the corpus as a bunch of independent reference games played by anonymous players, and we will ignore the listener and their choices entirely.\n",
    "\n",
    "For the bake-off, we will be distributing a separate test set. Thus, all of the data in the SCC can be used for exploration and development."
   ]
  },
  {
   "cell_type": "markdown",
   "metadata": {},
   "source": [
    "### Corpus reader"
   ]
  },
  {
   "cell_type": "markdown",
   "metadata": {},
   "source": [
    "The corpus reader class is `ColorsCorpusReader` in `colors.py`. The reader's primary function is to let you iterate over corpus examples:"
   ]
  },
  {
   "cell_type": "code",
   "execution_count": 4,
   "metadata": {
    "ExecuteTime": {
     "end_time": "2020-05-08T04:01:04.991637Z",
     "start_time": "2020-05-08T04:01:04.989047Z"
    }
   },
   "outputs": [],
   "source": [
    "corpus = ColorsCorpusReader(\n",
    "    COLORS_SRC_FILENAME,\n",
    "    word_count=None, \n",
    "    normalize_colors=True)"
   ]
  },
  {
   "cell_type": "markdown",
   "metadata": {},
   "source": [
    "The two keyword arguments have their default values here. \n",
    "\n",
    "* If you supply `word_count` with an interger value, it will restrict to just examples where the utterance has that number of words (using a whitespace heuristic). This creates smaller corpora that are useful for development.\n",
    "\n",
    "* The colors in the corpus are in [HLS format](https://en.wikipedia.org/wiki/HSL_and_HSV). With `normalize_colors=False`, the first (hue) value is an integer between 1 and 360 inclusive, and the L (lightness) and S (saturation) values are between 1 and 100 inclusive. With `normalize_colors=True`, these values are all scaled to between 0 and 1 inclusive. The default is `normalize_colors=True` because this is a better choice for all the machine learning models we'll consider."
   ]
  },
  {
   "cell_type": "code",
   "execution_count": 5,
   "metadata": {
    "ExecuteTime": {
     "end_time": "2020-05-08T04:01:11.008795Z",
     "start_time": "2020-05-08T04:01:07.840659Z"
    }
   },
   "outputs": [],
   "source": [
    "examples = list(corpus.read())"
   ]
  },
  {
   "cell_type": "markdown",
   "metadata": {},
   "source": [
    "We can verify that we read in the same number of examples as reported in [Monroe et al. 2017](https://transacl.org/ojs/index.php/tacl/article/view/1142):"
   ]
  },
  {
   "cell_type": "code",
   "execution_count": 6,
   "metadata": {
    "ExecuteTime": {
     "end_time": "2020-05-08T04:01:11.017624Z",
     "start_time": "2020-05-08T04:01:11.011457Z"
    }
   },
   "outputs": [
    {
     "data": {
      "text/plain": [
       "46994"
      ]
     },
     "execution_count": 6,
     "metadata": {},
     "output_type": "execute_result"
    }
   ],
   "source": [
    "# Should be 46994:\n",
    "\n",
    "len(examples)"
   ]
  },
  {
   "cell_type": "markdown",
   "metadata": {},
   "source": [
    "### ColorsCorpusExample instances"
   ]
  },
  {
   "cell_type": "markdown",
   "metadata": {},
   "source": [
    "The examples are `ColorsCorpusExample` instances:"
   ]
  },
  {
   "cell_type": "code",
   "execution_count": 7,
   "metadata": {
    "ExecuteTime": {
     "end_time": "2020-05-08T04:01:14.642480Z",
     "start_time": "2020-05-08T04:01:13.658308Z"
    }
   },
   "outputs": [],
   "source": [
    "ex1 = next(corpus.read())"
   ]
  },
  {
   "cell_type": "code",
   "execution_count": 9,
   "metadata": {
    "ExecuteTime": {
     "end_time": "2020-05-08T04:01:38.062333Z",
     "start_time": "2020-05-08T04:01:38.052740Z"
    }
   },
   "outputs": [
    {
     "data": {
      "text/plain": [
       "[[0.7861111111111111, 0.5, 0.87],\n",
       " [0.6888888888888889, 0.5, 0.92],\n",
       " [0.6277777777777778, 0.5, 0.81]]"
      ]
     },
     "execution_count": 9,
     "metadata": {},
     "output_type": "execute_result"
    }
   ],
   "source": [
    "ex1.colors"
   ]
  },
  {
   "cell_type": "markdown",
   "metadata": {},
   "source": [
    "These objects have a lot of attributes and methods designed to help you study the corpus and use it for our machine learning tasks. Let's review some highlights."
   ]
  },
  {
   "cell_type": "markdown",
   "metadata": {},
   "source": [
    "#### Displaying examples"
   ]
  },
  {
   "cell_type": "markdown",
   "metadata": {},
   "source": [
    "You can see what the speaker saw, with the utterance they chose wote above the patches:"
   ]
  },
  {
   "cell_type": "code",
   "execution_count": 9,
   "metadata": {},
   "outputs": [
    {
     "name": "stdout",
     "output_type": "stream",
     "text": [
      "The darker blue one\n"
     ]
    },
    {
     "data": {
      "image/png": "[encoded data removed]",
      "text/plain": [
       "<Figure size 216x72 with 3 Axes>"
      ]
     },
     "metadata": {
      "needs_background": "light"
     },
     "output_type": "display_data"
    }
   ],
   "source": [
    "ex1.display(typ='speaker')"
   ]
  },
  {
   "cell_type": "markdown",
   "metadata": {},
   "source": [
    "This is the original order of patches for the speaker. The target happens to the be the leftmost patch, as indicated by the black box around it.\n",
    "\n",
    "Here's what the listener saw, with the speaker's message printed above the patches:"
   ]
  },
  {
   "cell_type": "code",
   "execution_count": 10,
   "metadata": {},
   "outputs": [
    {
     "name": "stdout",
     "output_type": "stream",
     "text": [
      "The darker blue one\n"
     ]
    },
    {
     "data": {
      "image/png": "[encoded data removed]",
      "text/plain": [
       "<Figure size 216x72 with 3 Axes>"
      ]
     },
     "metadata": {
      "needs_background": "light"
     },
     "output_type": "display_data"
    }
   ],
   "source": [
    "ex1.display(typ='listener')"
   ]
  },
  {
   "cell_type": "markdown",
   "metadata": {},
   "source": [
    "The listener isn't shown the target, of course, so no patches are highlighted."
   ]
  },
  {
   "cell_type": "markdown",
   "metadata": {},
   "source": [
    "If `display` is called with no arguments, then the target is placed in the final position and the other two are given in an order determined by the corpus metadata:"
   ]
  },
  {
   "cell_type": "code",
   "execution_count": 11,
   "metadata": {},
   "outputs": [
    {
     "name": "stdout",
     "output_type": "stream",
     "text": [
      "The darker blue one\n"
     ]
    },
    {
     "data": {
      "image/png": "[encoded data removed]",
      "text/plain": [
       "<Figure size 216x72 with 3 Axes>"
      ]
     },
     "metadata": {
      "needs_background": "light"
     },
     "output_type": "display_data"
    }
   ],
   "source": [
    "ex1.display()"
   ]
  },
  {
   "cell_type": "markdown",
   "metadata": {},
   "source": [
    "This is the representation order we use for our machine learning models."
   ]
  },
  {
   "cell_type": "markdown",
   "metadata": {},
   "source": [
    "#### Color representations"
   ]
  },
  {
   "cell_type": "markdown",
   "metadata": {},
   "source": [
    "For machine learning, we'll often need to access the color representations directly. The primary attribute for this is `colors`:"
   ]
  },
  {
   "cell_type": "code",
   "execution_count": 12,
   "metadata": {},
   "outputs": [
    {
     "data": {
      "text/plain": [
       "[[0.7861111111111111, 0.5, 0.87],\n",
       " [0.6888888888888889, 0.5, 0.92],\n",
       " [0.6277777777777778, 0.5, 0.81]]"
      ]
     },
     "execution_count": 12,
     "metadata": {},
     "output_type": "execute_result"
    }
   ],
   "source": [
    "ex1.colors"
   ]
  },
  {
   "cell_type": "markdown",
   "metadata": {},
   "source": [
    "In this display order, the third element is the target color and the first two are the distractors. The attributes `speaker_context` and `listener_context` return the same colors but in the order that those players saw them. For example:"
   ]
  },
  {
   "cell_type": "code",
   "execution_count": 13,
   "metadata": {},
   "outputs": [
    {
     "data": {
      "text/plain": [
       "[[0.6277777777777778, 0.5, 0.81],\n",
       " [0.7861111111111111, 0.5, 0.87],\n",
       " [0.6888888888888889, 0.5, 0.92]]"
      ]
     },
     "execution_count": 13,
     "metadata": {},
     "output_type": "execute_result"
    }
   ],
   "source": [
    "ex1.speaker_context"
   ]
  },
  {
   "cell_type": "markdown",
   "metadata": {},
   "source": [
    "#### Utterance texts"
   ]
  },
  {
   "cell_type": "markdown",
   "metadata": {},
   "source": [
    "Utterances are just strings: "
   ]
  },
  {
   "cell_type": "code",
   "execution_count": 14,
   "metadata": {},
   "outputs": [
    {
     "data": {
      "text/plain": [
       "'The darker blue one'"
      ]
     },
     "execution_count": 14,
     "metadata": {},
     "output_type": "execute_result"
    }
   ],
   "source": [
    "ex1.contents"
   ]
  },
  {
   "cell_type": "markdown",
   "metadata": {},
   "source": [
    "There are cases where the speaker made a sequences of utterances for the same trial. We follow [Monroe et al. 2017](https://transacl.org/ojs/index.php/tacl/article/view/1142) in concatenating these into a single utterances. To preserve the original information, the individual turns are separated by `\" ### \"`. Example 3 is the first with this property – let's check it out:"
   ]
  },
  {
   "cell_type": "code",
   "execution_count": 15,
   "metadata": {},
   "outputs": [],
   "source": [
    "ex3 = examples[2]"
   ]
  },
  {
   "cell_type": "code",
   "execution_count": 16,
   "metadata": {},
   "outputs": [
    {
     "data": {
      "text/plain": [
       "'Medium pink ### the medium dark one'"
      ]
     },
     "execution_count": 16,
     "metadata": {},
     "output_type": "execute_result"
    }
   ],
   "source": [
    "ex3.contents"
   ]
  },
  {
   "cell_type": "markdown",
   "metadata": {},
   "source": [
    "The method `parse_turns` will parse this into individual turns:"
   ]
  },
  {
   "cell_type": "code",
   "execution_count": 17,
   "metadata": {},
   "outputs": [
    {
     "data": {
      "text/plain": [
       "['Medium pink', 'the medium dark one']"
      ]
     },
     "execution_count": 17,
     "metadata": {},
     "output_type": "execute_result"
    }
   ],
   "source": [
    "ex3.parse_turns()"
   ]
  },
  {
   "cell_type": "markdown",
   "metadata": {},
   "source": [
    "For examples consisting of a single turn, `parse_turns` returns a list of length 1:"
   ]
  },
  {
   "cell_type": "code",
   "execution_count": 18,
   "metadata": {},
   "outputs": [
    {
     "data": {
      "text/plain": [
       "['The darker blue one']"
      ]
     },
     "execution_count": 18,
     "metadata": {},
     "output_type": "execute_result"
    }
   ],
   "source": [
    "ex1.parse_turns()"
   ]
  },
  {
   "cell_type": "markdown",
   "metadata": {},
   "source": [
    "### Far, Split, and Close conditions"
   ]
  },
  {
   "cell_type": "markdown",
   "metadata": {},
   "source": [
    "The SCC contains three conditions:\n",
    "    \n",
    "__Far condition__: All three colors are far apart in color space.  Example:"
   ]
  },
  {
   "cell_type": "code",
   "execution_count": 19,
   "metadata": {},
   "outputs": [
    {
     "name": "stdout",
     "output_type": "stream",
     "text": [
      "Condition type: far\n",
      "purple\n"
     ]
    },
    {
     "data": {
      "image/png": "[encoded data removed]",
      "text/plain": [
       "<Figure size 216x72 with 3 Axes>"
      ]
     },
     "metadata": {
      "needs_background": "light"
     },
     "output_type": "display_data"
    }
   ],
   "source": [
    "print(\"Condition type:\", examples[1].condition)\n",
    "\n",
    "examples[1].display()"
   ]
  },
  {
   "cell_type": "markdown",
   "metadata": {},
   "source": [
    "__Split condition__: The target is close to one of the distractors, and the other is far away from both of them. Example:"
   ]
  },
  {
   "cell_type": "code",
   "execution_count": 20,
   "metadata": {},
   "outputs": [
    {
     "name": "stdout",
     "output_type": "stream",
     "text": [
      "Condition type: split\n",
      "lime\n"
     ]
    },
    {
     "data": {
      "image/png": "[encoded data removed]",
      "text/plain": [
       "<Figure size 216x72 with 3 Axes>"
      ]
     },
     "metadata": {
      "needs_background": "light"
     },
     "output_type": "display_data"
    }
   ],
   "source": [
    "print(\"Condition type:\", examples[3].condition)\n",
    "\n",
    "examples[3].display()"
   ]
  },
  {
   "cell_type": "markdown",
   "metadata": {},
   "source": [
    "__Close condition__: The target is similar to both distractors. Example:"
   ]
  },
  {
   "cell_type": "code",
   "execution_count": 21,
   "metadata": {},
   "outputs": [
    {
     "name": "stdout",
     "output_type": "stream",
     "text": [
      "Condition type: close\n",
      "Medium pink ### the medium dark one\n"
     ]
    },
    {
     "data": {
      "image/png": "[encoded data removed]",
      "text/plain": [
       "<Figure size 216x72 with 3 Axes>"
      ]
     },
     "metadata": {
      "needs_background": "light"
     },
     "output_type": "display_data"
    }
   ],
   "source": [
    "print(\"Condition type:\", examples[2].condition)\n",
    "\n",
    "examples[2].display()"
   ]
  },
  {
   "cell_type": "markdown",
   "metadata": {},
   "source": [
    "These conditions go from easiest to hardest when it comes to reliable communication. In the __Far__ condition, the context is hardly relevant, whereas the nature of the distractors reliably shapes the speaker's choices in the other two conditions. \n",
    "\n",
    "You can begin to see how this affects speaker choices in the above examples: \"purple\" suffices for the __Far__ condition, a more marked single word (\"lime\") suffices in the __Split__ condition, and the __Close__ condition triggers a pretty long, complex description."
   ]
  },
  {
   "cell_type": "markdown",
   "metadata": {},
   "source": [
    "The `condition` attribute provides access to this value: "
   ]
  },
  {
   "cell_type": "code",
   "execution_count": 22,
   "metadata": {},
   "outputs": [
    {
     "data": {
      "text/plain": [
       "'close'"
      ]
     },
     "execution_count": 22,
     "metadata": {},
     "output_type": "execute_result"
    }
   ],
   "source": [
    "ex1.condition"
   ]
  },
  {
   "cell_type": "markdown",
   "metadata": {},
   "source": [
    "The following verifies that we have the same number of examples per condition as reported in [Monroe et al. 2017](https://transacl.org/ojs/index.php/tacl/article/view/1142):"
   ]
  },
  {
   "cell_type": "code",
   "execution_count": 23,
   "metadata": {},
   "outputs": [
    {
     "data": {
      "text/plain": [
       "far      15782\n",
       "split    15693\n",
       "close    15519\n",
       "dtype: int64"
      ]
     },
     "execution_count": 23,
     "metadata": {},
     "output_type": "execute_result"
    }
   ],
   "source": [
    "pd.Series([ex.condition for ex in examples]).value_counts()"
   ]
  },
  {
   "cell_type": "markdown",
   "metadata": {},
   "source": [
    "## Toy problems for development work"
   ]
  },
  {
   "cell_type": "markdown",
   "metadata": {},
   "source": [
    "The SCC corpus is fairly large and quite challenging as an NLU task. This means it isn't ideal when it comes to testing hypotheses and debugging code. Poor performance could trace to a mistake, but it could just as easily trace to the fact that the problem is very challenging from the point of view of optimization.\n",
    "\n",
    "To address this, the module `torch_color_describer.py` includes a function `create_example_dataset` for creating small, easy datasets with the same basic properties as the SCC corpus.\n",
    "\n",
    "Here's a toy problem containing just six examples:"
   ]
  },
  {
   "cell_type": "code",
   "execution_count": 24,
   "metadata": {},
   "outputs": [],
   "source": [
    "tiny_contexts, tiny_words, tiny_vocab = create_example_dataset(\n",
    "    group_size=2, vec_dim=2)"
   ]
  },
  {
   "cell_type": "code",
   "execution_count": 25,
   "metadata": {},
   "outputs": [
    {
     "data": {
      "text/plain": [
       "['<s>', '</s>', 'A', 'B', '$UNK']"
      ]
     },
     "execution_count": 25,
     "metadata": {},
     "output_type": "execute_result"
    }
   ],
   "source": [
    "tiny_vocab"
   ]
  },
  {
   "cell_type": "code",
   "execution_count": 26,
   "metadata": {},
   "outputs": [
    {
     "data": {
      "text/plain": [
       "[['<s>', 'A', '</s>'],\n",
       " ['<s>', 'A', '</s>'],\n",
       " ['<s>', 'A', 'B', '</s>'],\n",
       " ['<s>', 'A', 'B', '</s>'],\n",
       " ['<s>', 'B', 'A', 'B', 'A', '</s>'],\n",
       " ['<s>', 'B', 'A', 'B', 'A', '</s>']]"
      ]
     },
     "execution_count": 26,
     "metadata": {},
     "output_type": "execute_result"
    }
   ],
   "source": [
    "tiny_words"
   ]
  },
  {
   "cell_type": "code",
   "execution_count": 27,
   "metadata": {},
   "outputs": [
    {
     "data": {
      "text/plain": [
       "[[array([0.84464215, 0.94729424]),\n",
       "  array([0.5353399 , 0.57843591]),\n",
       "  array([0.00500215, 0.05500586])],\n",
       " [array([0.80595944, 0.84372759]),\n",
       "  array([0.50107106, 0.40530719]),\n",
       "  array([0.01738777, 0.08438436])],\n",
       " [array([0.88390396, 0.88984181]),\n",
       "  array([0.05563814, 0.17386006]),\n",
       "  array([0.54320392, 0.54026499])],\n",
       " [array([0.88452288, 0.85557427]),\n",
       "  array([0.04306275, 0.15269883]),\n",
       "  array([0.55176147, 0.43193186])],\n",
       " [array([0.56949887, 0.52074521]),\n",
       "  array([0.16142565, 0.14594636]),\n",
       "  array([0.81854917, 0.81934328])],\n",
       " [array([0.47570688, 0.51040813]),\n",
       "  array([0.16588093, 0.12370395]),\n",
       "  array([0.90724562, 0.99462315])]]"
      ]
     },
     "execution_count": 27,
     "metadata": {},
     "output_type": "execute_result"
    }
   ],
   "source": [
    "tiny_contexts"
   ]
  },
  {
   "cell_type": "markdown",
   "metadata": {},
   "source": [
    "Each member of `tiny_contexts` contains three vectors.  The final (target) vector always has values in a range that determines the corresponding word sequence, which is drawn from a set of three fixed sequences. Thus, the model basically just needs to learn to ignore the distractors and find the association between the target vector and the corresponding sequence. \n",
    "\n",
    "All the models we study have a capacity to solve this task with very little data, so you should see perfect or near perfect performance on reasonably-sized versions of this task."
   ]
  },
  {
   "cell_type": "markdown",
   "metadata": {},
   "source": [
    "## Core model"
   ]
  },
  {
   "cell_type": "markdown",
   "metadata": {},
   "source": [
    "Our core model for this problem is implemented in `torch_color_describer.py` as `ContextualColorDescriber`. At its heart, this is a pretty standard encoder–decoder model:\n",
    "\n",
    "* `Encoder`: Processes the color contexts as a sequence. We always place the target in final position so that it is closest to the supervision signals that we get when decoding.\n",
    "\n",
    "* `Decoder`: A neural language model whose initial hidden representation is the final hidden representation of the `Encoder`.\n",
    "\n",
    "* `EncoderDecoder`: Coordinates the operations of the `Encoder` and `Decoder`.\n",
    "\n",
    "Finally, `ContextualColorDescriber` is a wrapper around these model components. It handle the details of training and implements the prediction and evaluation functions that we will use.\n",
    "\n",
    "Many additional details about this model are included in the slides for this unit."
   ]
  },
  {
   "cell_type": "markdown",
   "metadata": {},
   "source": [
    "### Toy dataset illustration"
   ]
  },
  {
   "cell_type": "markdown",
   "metadata": {},
   "source": [
    "To highlight the core functionality of `ContextualColorDescriber`, let's create a small toy dataset and use it to train and evaluate a model:"
   ]
  },
  {
   "cell_type": "code",
   "execution_count": 28,
   "metadata": {},
   "outputs": [],
   "source": [
    "toy_color_seqs, toy_word_seqs, toy_vocab = create_example_dataset(\n",
    "    group_size=50, vec_dim=2)"
   ]
  },
  {
   "cell_type": "code",
   "execution_count": 29,
   "metadata": {},
   "outputs": [],
   "source": [
    "toy_color_seqs_train, toy_color_seqs_test, toy_word_seqs_train, toy_word_seqs_test = \\\n",
    "    train_test_split(toy_color_seqs, toy_word_seqs)"
   ]
  },
  {
   "cell_type": "markdown",
   "metadata": {},
   "source": [
    "Here we expose all of the available parameters with their default values:"
   ]
  },
  {
   "cell_type": "code",
   "execution_count": 30,
   "metadata": {},
   "outputs": [
    {
     "name": "stdout",
     "output_type": "stream",
     "text": [
      "Using cuda\n"
     ]
    }
   ],
   "source": [
    "toy_mod = ContextualColorDescriber(\n",
    "    toy_vocab, \n",
    "    embedding=None,  # Option to supply a pretrained matrix as an `np.array`.\n",
    "    embed_dim=10, \n",
    "    hidden_dim=10, \n",
    "    max_iter=100, \n",
    "    eta=0.01,\n",
    "    optimizer=torch.optim.Adam,\n",
    "    batch_size=128,\n",
    "    l2_strength=0.0,\n",
    "    warm_start=False,\n",
    "    device=None)"
   ]
  },
  {
   "cell_type": "code",
   "execution_count": 31,
   "metadata": {},
   "outputs": [
    {
     "name": "stdout",
     "output_type": "stream",
     "text": [
      "Encoder cuda\n",
      "Decoder cuda\n",
      "EncoderDecoder cuda\n",
      "Epoch 1; train err = 1.6837888956069946; time = 0.3410778045654297\n",
      "Epoch 2; train err = 1.6837891340255737; time = 0.019005775451660156\n",
      "Epoch 3; train err = 1.6837888956069946; time = 0.02401423454284668\n",
      "Epoch 4; train err = 1.6837892532348633; time = 0.019012928009033203\n",
      "Epoch 5; train err = 1.6837892532348633; time = 0.019003868103027344\n",
      "Epoch 6; train err = 1.6837892532348633; time = 0.022005319595336914\n",
      "Epoch 7; train err = 1.6837892532348633; time = 0.01900315284729004\n",
      "Epoch 8; train err = 1.6837890148162842; time = 0.01900482177734375\n",
      "Epoch 9; train err = 1.6837888956069946; time = 0.0200045108795166\n",
      "Epoch 10; train err = 1.6837892532348633; time = 0.019004106521606445\n",
      "Epoch 11; train err = 1.6837892532348633; time = 0.02200460433959961\n",
      "Epoch 12; train err = 1.6837893724441528; time = 0.020006418228149414\n",
      "Epoch 13; train err = 1.6837891340255737; time = 0.02100348472595215\n",
      "Epoch 14; train err = 1.6837892532348633; time = 0.02700662612915039\n",
      "Epoch 15; train err = 1.6837892532348633; time = 0.019004106521606445\n",
      "Epoch 16; train err = 1.6837894916534424; time = 0.020002365112304688\n",
      "Epoch 17; train err = 1.6837894916534424; time = 0.02200460433959961\n",
      "Epoch 18; train err = 1.683788776397705; time = 0.02301335334777832\n",
      "Epoch 19; train err = 1.6837893724441528; time = 0.021004438400268555\n",
      "Epoch 20; train err = 1.6837890148162842; time = 0.020005464553833008\n",
      "Epoch 21; train err = 1.6837891340255737; time = 0.0200045108795166\n",
      "Epoch 22; train err = 1.6837890148162842; time = 0.01800394058227539\n",
      "Epoch 23; train err = 1.6837891340255737; time = 0.019002914428710938\n",
      "Epoch 24; train err = 1.6837891340255737; time = 0.020003795623779297\n",
      "Epoch 25; train err = 1.6837893724441528; time = 0.020004987716674805\n",
      "Epoch 26; train err = 1.6837894916534424; time = 0.023004770278930664\n",
      "Epoch 27; train err = 1.6837888956069946; time = 0.02500438690185547\n",
      "Epoch 28; train err = 1.6837888956069946; time = 0.01900315284729004\n",
      "Epoch 29; train err = 1.6837892532348633; time = 0.025004863739013672\n",
      "Epoch 30; train err = 1.6837892532348633; time = 0.021004199981689453\n",
      "Epoch 31; train err = 1.6837893724441528; time = 0.0200045108795166\n",
      "Epoch 32; train err = 1.6837890148162842; time = 0.01900458335876465\n",
      "Epoch 33; train err = 1.6837893724441528; time = 0.019013166427612305\n",
      "Epoch 34; train err = 1.6837890148162842; time = 0.020013093948364258\n",
      "Epoch 35; train err = 1.6837890148162842; time = 0.019013166427612305\n",
      "Epoch 36; train err = 1.683789849281311; time = 0.021013498306274414\n",
      "Epoch 37; train err = 1.6837892532348633; time = 0.019013166427612305\n",
      "Epoch 38; train err = 1.6837893724441528; time = 0.02001357078552246\n",
      "Epoch 39; train err = 1.6837892532348633; time = 0.02000594139099121\n",
      "Epoch 40; train err = 1.683789610862732; time = 0.01900339126586914\n",
      "Epoch 41; train err = 1.683788776397705; time = 0.02101278305053711\n",
      "Epoch 42; train err = 1.683789610862732; time = 0.021003007888793945\n",
      "Epoch 43; train err = 1.6837892532348633; time = 0.019013643264770508\n",
      "Epoch 44; train err = 1.6837893724441528; time = 0.019012928009033203\n",
      "Epoch 45; train err = 1.6837890148162842; time = 0.019005537033081055\n",
      "Epoch 46; train err = 1.6837891340255737; time = 0.01900458335876465\n",
      "Epoch 47; train err = 1.6837892532348633; time = 0.019004344940185547\n",
      "Epoch 48; train err = 1.6837888956069946; time = 0.020003795623779297\n",
      "Epoch 49; train err = 1.6837892532348633; time = 0.020003557205200195\n",
      "Epoch 50; train err = 1.6837891340255737; time = 0.0200045108795166\n",
      "Epoch 51; train err = 1.6837892532348633; time = 0.01900339126586914\n",
      "Epoch 52; train err = 1.6837892532348633; time = 0.019003629684448242\n",
      "Epoch 53; train err = 1.6837891340255737; time = 0.02100539207458496\n",
      "Epoch 54; train err = 1.6837891340255737; time = 0.021004915237426758\n",
      "Epoch 55; train err = 1.6837890148162842; time = 0.020002126693725586\n",
      "Epoch 56; train err = 1.6837893724441528; time = 0.020003557205200195\n",
      "Epoch 57; train err = 1.6837891340255737; time = 0.019005298614501953\n",
      "Epoch 58; train err = 1.6837893724441528; time = 0.02100372314453125\n",
      "Epoch 59; train err = 1.6837891340255737; time = 0.01900315284729004\n",
      "Epoch 60; train err = 1.6837892532348633; time = 0.020013809204101562\n",
      "Epoch 61; train err = 1.6837892532348633; time = 0.020004749298095703\n",
      "Epoch 62; train err = 1.6837892532348633; time = 0.019004344940185547\n",
      "Epoch 63; train err = 1.6837890148162842; time = 0.019005537033081055\n",
      "Epoch 64; train err = 1.6837892532348633; time = 0.02100396156311035\n",
      "Epoch 65; train err = 1.6837891340255737; time = 0.021007299423217773\n",
      "Epoch 66; train err = 1.6837891340255737; time = 0.0200045108795166\n",
      "Epoch 67; train err = 1.6837891340255737; time = 0.02000260353088379\n",
      "Epoch 68; train err = 1.6837894916534424; time = 0.019003629684448242\n",
      "Epoch 69; train err = 1.6837888956069946; time = 0.01900315284729004\n",
      "Epoch 70; train err = 1.6837888956069946; time = 0.02100396156311035\n",
      "Epoch 71; train err = 1.6837888956069946; time = 0.02100515365600586\n",
      "Epoch 72; train err = 1.6837890148162842; time = 0.026005268096923828\n",
      "Epoch 73; train err = 1.683788776397705; time = 0.019004344940185547\n",
      "Epoch 74; train err = 1.6837891340255737; time = 0.019002914428710938\n",
      "Epoch 75; train err = 1.6837890148162842; time = 0.019001245498657227\n",
      "Epoch 76; train err = 1.6837888956069946; time = 0.0200040340423584\n",
      "Epoch 77; train err = 1.6837891340255737; time = 0.019002437591552734\n",
      "Epoch 78; train err = 1.6837888956069946; time = 0.020004749298095703\n",
      "Epoch 79; train err = 1.683788776397705; time = 0.0200045108795166\n",
      "Epoch 80; train err = 1.6837891340255737; time = 0.01900458335876465\n",
      "Epoch 81; train err = 1.6837888956069946; time = 0.019003868103027344\n",
      "Epoch 82; train err = 1.6837888956069946; time = 0.019003868103027344\n",
      "Epoch 83; train err = 1.6837891340255737; time = 0.019004106521606445\n",
      "Epoch 84; train err = 1.6837897300720215; time = 0.018012285232543945\n",
      "Epoch 85; train err = 1.6837888956069946; time = 0.018003463745117188\n",
      "Epoch 86; train err = 1.6837890148162842; time = 0.01801276206970215\n",
      "Epoch 87; train err = 1.6837892532348633; time = 0.01801300048828125\n",
      "Epoch 88; train err = 1.6837888956069946; time = 0.019013166427612305\n",
      "Epoch 89; train err = 1.6837894916534424; time = 0.018003225326538086\n",
      "Epoch 90; train err = 1.6837890148162842; time = 0.019003868103027344\n",
      "Epoch 91; train err = 1.683789610862732; time = 0.018004894256591797\n",
      "Epoch 92; train err = 1.6837888956069946; time = 0.019003868103027344\n",
      "Epoch 93; train err = 1.6837888956069946; time = 0.01900458335876465\n",
      "Epoch 94; train err = 1.6837891340255737; time = 0.019004344940185547\n",
      "Epoch 95; train err = 1.6837890148162842; time = 0.019004106521606445\n",
      "Epoch 96; train err = 1.6837890148162842; time = 0.019004344940185547\n",
      "Epoch 97; train err = 1.6837894916534424; time = 0.019003868103027344\n",
      "Epoch 98; train err = 1.6837891340255737; time = 0.019002914428710938\n",
      "Epoch 99; train err = 1.6837890148162842; time = 0.019004344940185547\n",
      "Epoch 100; train err = 1.6837890148162842; time = 0.019004106521606445\n"
     ]
    }
   ],
   "source": [
    "_ = toy_mod.fit(toy_color_seqs_train, toy_word_seqs_train)"
   ]
  },
  {
   "cell_type": "markdown",
   "metadata": {},
   "source": [
    "### Predicting sequences"
   ]
  },
  {
   "cell_type": "markdown",
   "metadata": {},
   "source": [
    "The `predict` method takes a list of color contexts as input and returns model descriptions:"
   ]
  },
  {
   "cell_type": "code",
   "execution_count": 32,
   "metadata": {},
   "outputs": [],
   "source": [
    "toy_preds = toy_mod.predict(toy_color_seqs_test)"
   ]
  },
  {
   "cell_type": "code",
   "execution_count": 33,
   "metadata": {},
   "outputs": [
    {
     "data": {
      "text/plain": [
       "['<s>',\n",
       " '$UNK',\n",
       " '$UNK',\n",
       " '$UNK',\n",
       " '$UNK',\n",
       " '$UNK',\n",
       " '$UNK',\n",
       " '$UNK',\n",
       " '$UNK',\n",
       " '$UNK',\n",
       " '$UNK',\n",
       " '$UNK',\n",
       " '$UNK',\n",
       " '$UNK',\n",
       " '$UNK',\n",
       " '$UNK',\n",
       " '$UNK',\n",
       " '$UNK',\n",
       " '$UNK',\n",
       " '$UNK']"
      ]
     },
     "execution_count": 33,
     "metadata": {},
     "output_type": "execute_result"
    }
   ],
   "source": [
    "toy_preds[0]"
   ]
  },
  {
   "cell_type": "markdown",
   "metadata": {},
   "source": [
    "We can then check that we predicted all correct sequences:"
   ]
  },
  {
   "cell_type": "code",
   "execution_count": 34,
   "metadata": {},
   "outputs": [
    {
     "data": {
      "text/plain": [
       "1.0"
      ]
     },
     "execution_count": 34,
     "metadata": {},
     "output_type": "execute_result"
    }
   ],
   "source": [
    "toy_correct = sum(1 for x, p in zip(toy_word_seqs_test, toy_preds))\n",
    "\n",
    "toy_correct / len(toy_word_seqs_test)"
   ]
  },
  {
   "cell_type": "markdown",
   "metadata": {},
   "source": [
    "For real problems, this is too stringent a requirement, since there are generally many equally good descriptions. This insight gives rise to metrics like [BLEU](https://en.wikipedia.org/wiki/BLEU), [METEOR](https://en.wikipedia.org/wiki/METEOR), [ROUGE](https://en.wikipedia.org/wiki/ROUGE_(metric)), [CIDEr](https://arxiv.org/pdf/1411.5726.pdf), and others, which seek to relax the requirement of an exact match with the test sequence. These are reasonable options to explore, but we will instead adopt a communcation-based evaluation, as discussed in the next section."
   ]
  },
  {
   "cell_type": "markdown",
   "metadata": {},
   "source": [
    "### Listener-based evaluation"
   ]
  },
  {
   "cell_type": "markdown",
   "metadata": {},
   "source": [
    "`ContextualColorDescriber` implements a method `listener_accuracy` that we will use for our primary evaluations in the assignment and bake-off. The essence of the method is that we can calculate\n",
    "\n",
    "$$\n",
    "c^{*} = \\text{argmax}_{c \\in C} P_S(\\text{utterance} \\mid c)\n",
    "$$\n",
    "\n",
    "\n",
    "where $P_S$ is our describer model and $C$ is the set of all permutations of all three colors in the color context. We take $c^{*}$ to be a correct prediction if it is one where the target is in the privileged final position. (There are two such contexts; we try both in case the order of the distractors influences the predictions, and the model is correct if one of them has the highest probability.)\n",
    "\n",
    "Here's the listener accuracy of our toy model:"
   ]
  },
  {
   "cell_type": "code",
   "execution_count": 35,
   "metadata": {},
   "outputs": [
    {
     "name": "stderr",
     "output_type": "stream",
     "text": [
      "all_probs 27"
     ]
    },
    {
     "data": {
      "text/plain": [
       "0.0"
      ]
     },
     "execution_count": 35,
     "metadata": {},
     "output_type": "execute_result"
    }
   ],
   "source": [
    "toy_mod.listener_accuracy(toy_color_seqs_test, toy_word_seqs_test)"
   ]
  },
  {
   "cell_type": "markdown",
   "metadata": {},
   "source": [
    "### Other prediction and evaluation methods"
   ]
  },
  {
   "cell_type": "markdown",
   "metadata": {},
   "source": [
    "You can get the perplexities for test examles with `perpelexities`:"
   ]
  },
  {
   "cell_type": "code",
   "execution_count": 36,
   "metadata": {},
   "outputs": [
    {
     "name": "stderr",
     "output_type": "stream",
     "text": [
      "all_probs 38"
     ]
    }
   ],
   "source": [
    "toy_perp = toy_mod.perplexities(toy_color_seqs_test, toy_word_seqs_test)"
   ]
  },
  {
   "cell_type": "code",
   "execution_count": 37,
   "metadata": {},
   "outputs": [
    {
     "data": {
      "text/plain": [
       "3.654486397002142"
      ]
     },
     "execution_count": 37,
     "metadata": {},
     "output_type": "execute_result"
    }
   ],
   "source": [
    "toy_perp[0]"
   ]
  },
  {
   "cell_type": "markdown",
   "metadata": {},
   "source": [
    "You can use `predict_proba` to see the full probability distributions assigned to test examples:"
   ]
  },
  {
   "cell_type": "code",
   "execution_count": 38,
   "metadata": {},
   "outputs": [
    {
     "name": "stderr",
     "output_type": "stream",
     "text": [
      "all_probs 38"
     ]
    }
   ],
   "source": [
    "toy_proba = toy_mod.predict_proba(toy_color_seqs_test, toy_word_seqs_test)"
   ]
  },
  {
   "cell_type": "code",
   "execution_count": 39,
   "metadata": {},
   "outputs": [
    {
     "data": {
      "text/plain": [
       "(4, 5)"
      ]
     },
     "execution_count": 39,
     "metadata": {},
     "output_type": "execute_result"
    }
   ],
   "source": [
    "toy_proba[0].shape"
   ]
  },
  {
   "cell_type": "code",
   "execution_count": 40,
   "metadata": {},
   "outputs": [
    {
     "name": "stdout",
     "output_type": "stream",
     "text": [
      "{'<s>': 1.0, '</s>': 0.0, 'A': 0.0, 'B': 0.0, '$UNK': 0.0}\n",
      "{'<s>': 0.20176262, '</s>': 0.18283886, 'A': 0.1944314, 'B': 0.18171632, '$UNK': 0.23925081}\n",
      "{'<s>': 0.20326269, '</s>': 0.183394, 'A': 0.19214226, 'B': 0.17215769, '$UNK': 0.24904339}\n",
      "{'<s>': 0.20499441, '</s>': 0.16749498, 'A': 0.17281456, 'B': 0.1870862, '$UNK': 0.26760986}\n"
     ]
    }
   ],
   "source": [
    "for timestep in toy_proba[0]:\n",
    "    print(dict(zip(toy_vocab, timestep)))"
   ]
  },
  {
   "cell_type": "markdown",
   "metadata": {},
   "source": [
    "### Cross-validation"
   ]
  },
  {
   "cell_type": "markdown",
   "metadata": {},
   "source": [
    "You can use `utils.fit_classifier_with_crossvalidation` to cross-validate these models. Just be sure to set `scoring=None` so that the sklearn model selection methods use the `score` method of `ContextualColorDescriber`, which is an alias for `listener_accuracy`:"
   ]
  },
  {
   "cell_type": "code",
   "execution_count": 41,
   "metadata": {},
   "outputs": [
    {
     "name": "stdout",
     "output_type": "stream",
     "text": [
      "Using cuda\n",
      "Using cuda\n",
      "Encoder cuda\n",
      "Decoder cuda\n",
      "EncoderDecoder cuda\n",
      "Epoch 1; train err = 1.6665197610855103; time = 0.015002965927124023\n",
      "Epoch 2; train err = 1.6665197610855103; time = 0.018004179000854492\n",
      "Epoch 3; train err = 1.6665199995040894; time = 0.017003774642944336\n",
      "Epoch 4; train err = 1.6665199995040894; time = 0.01600193977355957\n",
      "Epoch 5; train err = 1.666520118713379; time = 0.017003536224365234\n",
      "Epoch 6; train err = 1.6665198802947998; time = 0.01700305938720703\n",
      "Epoch 7; train err = 1.6665197610855103; time = 0.017004013061523438\n",
      "Epoch 8; train err = 1.6665197610855103; time = 0.01700448989868164\n",
      "Epoch 9; train err = 1.6665198802947998; time = 0.016011476516723633\n",
      "Epoch 10; train err = 1.6665198802947998; time = 0.01601243019104004\n",
      "Epoch 11; train err = 1.6665199995040894; time = 0.01701211929321289\n",
      "Epoch 12; train err = 1.6665199995040894; time = 0.01601266860961914\n",
      "Epoch 13; train err = 1.6665197610855103; time = 0.01601266860961914\n",
      "Epoch 14; train err = 1.6665197610855103; time = 0.017011404037475586\n",
      "Epoch 15; train err = 1.666520118713379; time = 0.016012907028198242\n",
      "Epoch 16; train err = 1.6665199995040894; time = 0.016011953353881836\n",
      "Epoch 17; train err = 1.6665198802947998; time = 0.017013072967529297\n",
      "Epoch 18; train err = 1.6665199995040894; time = 0.016011953353881836\n",
      "Epoch 19; train err = 1.666520118713379; time = 0.017004728317260742\n",
      "Epoch 20; train err = 1.6665199995040894; time = 0.017012596130371094\n",
      "Epoch 21; train err = 1.6665199995040894; time = 0.01601266860961914\n",
      "Epoch 22; train err = 1.6665199995040894; time = 0.016011953353881836\n",
      "Epoch 23; train err = 1.6665199995040894; time = 0.016012191772460938\n",
      "Epoch 24; train err = 1.6665197610855103; time = 0.016012907028198242\n",
      "Epoch 25; train err = 1.6665199995040894; time = 0.016002416610717773\n",
      "Epoch 26; train err = 1.6665198802947998; time = 0.01801443099975586\n",
      "Epoch 27; train err = 1.6665198802947998; time = 0.018004417419433594\n",
      "Epoch 28; train err = 1.6665199995040894; time = 0.018002033233642578\n",
      "Epoch 29; train err = 1.6665202379226685; time = 0.018005847930908203\n",
      "Epoch 30; train err = 1.666520118713379; time = 0.018012046813964844\n",
      "Epoch 31; train err = 1.6665198802947998; time = 0.018004179000854492\n",
      "Epoch 32; train err = 1.6665199995040894; time = 0.01700448989868164\n",
      "Epoch 33; train err = 1.6665197610855103; time = 0.018004894256591797\n",
      "Epoch 34; train err = 1.6665202379226685; time = 0.017003297805786133\n",
      "Epoch 35; train err = 1.6665199995040894; time = 0.018004179000854492\n",
      "Epoch 36; train err = 1.6665199995040894; time = 0.017000436782836914\n",
      "Epoch 37; train err = 1.6665199995040894; time = 0.017000913619995117\n",
      "Epoch 38; train err = 1.6665198802947998; time = 0.01700305938720703\n",
      "Epoch 39; train err = 1.6665198802947998; time = 0.016011476516723633\n",
      "Epoch 40; train err = 1.666520118713379; time = 0.017010211944580078\n",
      "Epoch 41; train err = 1.6665198802947998; time = 0.016013145446777344\n",
      "Epoch 42; train err = 1.6665198802947998; time = 0.016011476516723633\n",
      "Epoch 43; train err = 1.6665198802947998; time = 0.01700448989868164\n",
      "Epoch 44; train err = 1.6665198802947998; time = 0.017003297805786133\n",
      "Epoch 45; train err = 1.666520118713379; time = 0.01700282096862793\n",
      "Epoch 46; train err = 1.6665198802947998; time = 0.016002893447875977\n",
      "Epoch 47; train err = 1.6665197610855103; time = 0.016003131866455078\n",
      "Epoch 48; train err = 1.666520118713379; time = 0.01600170135498047\n",
      "Epoch 49; train err = 1.6665199995040894; time = 0.018001317977905273\n",
      "Epoch 50; train err = 1.6665198802947998; time = 0.017003536224365234\n",
      "Epoch 51; train err = 1.6665196418762207; time = 0.017004966735839844\n",
      "Epoch 52; train err = 1.6665199995040894; time = 0.01700282096862793\n",
      "Epoch 53; train err = 1.6665199995040894; time = 0.018004179000854492\n",
      "Epoch 54; train err = 1.6665199995040894; time = 0.01600360870361328\n",
      "Epoch 55; train err = 1.6665198802947998; time = 0.01600360870361328\n",
      "Epoch 56; train err = 1.6665202379226685; time = 0.01600337028503418\n",
      "Epoch 57; train err = 1.6665197610855103; time = 0.016004085540771484\n",
      "Epoch 58; train err = 1.6665199995040894; time = 0.017003536224365234\n",
      "Epoch 59; train err = 1.6665197610855103; time = 0.018004179000854492\n",
      "Epoch 60; train err = 1.6665199995040894; time = 0.017003536224365234\n",
      "Epoch 61; train err = 1.6665197610855103; time = 0.01600337028503418\n",
      "Epoch 62; train err = 1.6665196418762207; time = 0.02100396156311035\n",
      "Epoch 63; train err = 1.6665198802947998; time = 0.01700305938720703\n",
      "Epoch 64; train err = 1.6665202379226685; time = 0.016002893447875977\n",
      "Epoch 65; train err = 1.6665198802947998; time = 0.016004085540771484\n",
      "Epoch 66; train err = 1.6665197610855103; time = 0.017003774642944336\n",
      "Epoch 67; train err = 1.6665197610855103; time = 0.017003774642944336\n",
      "Epoch 68; train err = 1.6665199995040894; time = 0.01800394058227539\n",
      "Epoch 69; train err = 1.6665197610855103; time = 0.01700448989868164\n",
      "Epoch 70; train err = 1.6665197610855103; time = 0.017002582550048828\n",
      "Epoch 71; train err = 1.6665198802947998; time = 0.017003297805786133\n",
      "Epoch 72; train err = 1.6665198802947998; time = 0.01700425148010254\n",
      "Epoch 73; train err = 1.6665198802947998; time = 0.017003536224365234\n",
      "Epoch 74; train err = 1.6665197610855103; time = 0.01700448989868164\n",
      "Epoch 75; train err = 1.6665197610855103; time = 0.017003297805786133\n",
      "Epoch 76; train err = 1.6665198802947998; time = 0.01800370216369629\n",
      "Epoch 77; train err = 1.6665197610855103; time = 0.017003297805786133\n",
      "Epoch 78; train err = 1.6665198802947998; time = 0.01800704002380371\n",
      "Epoch 79; train err = 1.6665198802947998; time = 0.021003246307373047\n",
      "Epoch 80; train err = 1.6665202379226685; time = 0.020003557205200195\n",
      "Epoch 81; train err = 1.666520118713379; time = 0.02700519561767578\n",
      "Epoch 82; train err = 1.6665197610855103; time = 0.020004987716674805\n",
      "Epoch 83; train err = 1.6665197610855103; time = 0.020003795623779297\n",
      "Epoch 84; train err = 1.6665199995040894; time = 0.01700305938720703\n",
      "Epoch 85; train err = 1.6665197610855103; time = 0.0200042724609375\n",
      "Epoch 86; train err = 1.6665197610855103; time = 0.021004438400268555\n",
      "Epoch 87; train err = 1.6665197610855103; time = 0.021004676818847656\n",
      "Epoch 88; train err = 1.6665198802947998; time = 0.020005226135253906\n",
      "Epoch 89; train err = 1.6665197610855103; time = 0.018004655838012695\n",
      "Epoch 90; train err = 1.6665198802947998; time = 0.016003847122192383\n",
      "Epoch 91; train err = 1.6665197610855103; time = 0.021004915237426758\n",
      "Epoch 92; train err = 1.6665196418762207; time = 0.021004438400268555\n",
      "Epoch 93; train err = 1.6665197610855103; time = 0.017003774642944336\n",
      "Epoch 94; train err = 1.6665198802947998; time = 0.021004915237426758\n",
      "Epoch 95; train err = 1.6665199995040894; time = 0.017003297805786133\n",
      "Epoch 96; train err = 1.6665196418762207; time = 0.020003080368041992\n",
      "Epoch 97; train err = 1.6665197610855103; time = 0.0200040340423584\n",
      "Epoch 98; train err = 1.6665199995040894; time = 0.020005226135253906\n",
      "Epoch 99; train err = 1.6665197610855103; time = 0.017003774642944336\n",
      "Epoch 100; train err = 1.6665197610855103; time = 0.019003868103027344\n"
     ]
    },
    {
     "name": "stderr",
     "output_type": "stream",
     "text": [
      "all_probs 27"
     ]
    },
    {
     "name": "stdout",
     "output_type": "stream",
     "text": [
      "Using cuda\n",
      "Encoder cuda\n",
      "Decoder cuda\n",
      "EncoderDecoder cuda\n",
      "Epoch 1; train err = 1.678446650505066; time = 0.017012834548950195\n",
      "Epoch 2; train err = 1.6784467697143555; time = 0.01901388168334961\n",
      "Epoch 3; train err = 1.6784467697143555; time = 0.019011735916137695\n",
      "Epoch 4; train err = 1.6784465312957764; time = 0.019012928009033203\n",
      "Epoch 5; train err = 1.6784467697143555; time = 0.019013166427612305\n",
      "Epoch 6; train err = 1.678446650505066; time = 0.019013166427612305\n",
      "Epoch 7; train err = 1.678446650505066; time = 0.02001333236694336\n",
      "Epoch 8; train err = 1.6784464120864868; time = 0.02000570297241211\n",
      "Epoch 9; train err = 1.678446650505066; time = 0.021013975143432617\n",
      "Epoch 10; train err = 1.6784464120864868; time = 0.018002986907958984\n",
      "Epoch 11; train err = 1.6784467697143555; time = 0.018003463745117188\n",
      "Epoch 12; train err = 1.678446888923645; time = 0.018014192581176758\n",
      "Epoch 13; train err = 1.6784465312957764; time = 0.016012907028198242\n",
      "Epoch 14; train err = 1.678446650505066; time = 0.017012357711791992\n",
      "Epoch 15; train err = 1.6784465312957764; time = 0.023005962371826172\n",
      "Epoch 16; train err = 1.6784465312957764; time = 0.02001357078552246\n",
      "Epoch 17; train err = 1.6784465312957764; time = 0.01901388168334961\n",
      "Epoch 18; train err = 1.6784462928771973; time = 0.019013404846191406\n",
      "Epoch 19; train err = 1.6784465312957764; time = 0.020012855529785156\n",
      "Epoch 20; train err = 1.678446650505066; time = 0.019012928009033203\n",
      "Epoch 21; train err = 1.6784465312957764; time = 0.019013643264770508\n",
      "Epoch 22; train err = 1.678446888923645; time = 0.01901388168334961\n",
      "Epoch 23; train err = 1.678446650505066; time = 0.018012285232543945\n",
      "Epoch 24; train err = 1.6784462928771973; time = 0.021012306213378906\n",
      "Epoch 25; train err = 1.678446650505066; time = 0.01700425148010254\n",
      "Epoch 26; train err = 1.6784467697143555; time = 0.017003536224365234\n",
      "Epoch 27; train err = 1.6784467697143555; time = 0.018004894256591797\n",
      "Epoch 28; train err = 1.6784465312957764; time = 0.020005226135253906\n",
      "Epoch 29; train err = 1.6784465312957764; time = 0.01800370216369629\n",
      "Epoch 30; train err = 1.6784467697143555; time = 0.017001867294311523\n",
      "Epoch 31; train err = 1.6784467697143555; time = 0.020003318786621094\n",
      "Epoch 32; train err = 1.6784462928771973; time = 0.017002582550048828\n",
      "Epoch 33; train err = 1.678446650505066; time = 0.018012285232543945\n",
      "Epoch 34; train err = 1.678446650505066; time = 0.020003318786621094\n",
      "Epoch 35; train err = 1.6784465312957764; time = 0.01800370216369629\n",
      "Epoch 36; train err = 1.6784462928771973; time = 0.01700282096862793\n",
      "Epoch 37; train err = 1.6784465312957764; time = 0.01600360870361328\n",
      "Epoch 38; train err = 1.6784462928771973; time = 0.01700425148010254\n",
      "Epoch 39; train err = 1.6784464120864868; time = 0.017003774642944336\n",
      "Epoch 40; train err = 1.6784464120864868; time = 0.0200045108795166\n",
      "Epoch 41; train err = 1.6784464120864868; time = 0.018004417419433594\n",
      "Epoch 42; train err = 1.6784462928771973; time = 0.021004199981689453\n",
      "Epoch 43; train err = 1.6784464120864868; time = 0.018003463745117188\n",
      "Epoch 44; train err = 1.6784464120864868; time = 0.019003629684448242\n",
      "Epoch 45; train err = 1.6784462928771973; time = 0.0200042724609375\n",
      "Epoch 46; train err = 1.6784465312957764; time = 0.02200484275817871\n",
      "Epoch 47; train err = 1.678446650505066; time = 0.016003847122192383\n",
      "Epoch 48; train err = 1.6784465312957764; time = 0.01600360870361328\n",
      "Epoch 49; train err = 1.6784465312957764; time = 0.017003774642944336\n",
      "Epoch 50; train err = 1.6784465312957764; time = 0.0200045108795166\n",
      "Epoch 51; train err = 1.6784464120864868; time = 0.017004013061523438\n",
      "Epoch 52; train err = 1.6784464120864868; time = 0.017003774642944336\n",
      "Epoch 53; train err = 1.6784465312957764; time = 0.018004417419433594\n",
      "Epoch 54; train err = 1.678446650505066; time = 0.02300548553466797\n",
      "Epoch 55; train err = 1.6784467697143555; time = 0.01600360870361328\n",
      "Epoch 56; train err = 1.678446650505066; time = 0.01800394058227539\n",
      "Epoch 57; train err = 1.6784465312957764; time = 0.017003536224365234\n",
      "Epoch 58; train err = 1.678446650505066; time = 0.017003774642944336\n",
      "Epoch 59; train err = 1.6784464120864868; time = 0.01700305938720703\n",
      "Epoch 60; train err = 1.6784464120864868; time = 0.02200484275817871\n",
      "Epoch 61; train err = 1.6784467697143555; time = 0.01700448989868164\n",
      "Epoch 62; train err = 1.6784464120864868; time = 0.017003297805786133\n",
      "Epoch 63; train err = 1.678446650505066; time = 0.016003131866455078\n",
      "Epoch 64; train err = 1.6784462928771973; time = 0.0200042724609375\n",
      "Epoch 65; train err = 1.6784467697143555; time = 0.01600337028503418\n",
      "Epoch 66; train err = 1.678446650505066; time = 0.01600360870361328\n",
      "Epoch 67; train err = 1.6784465312957764; time = 0.017004013061523438\n",
      "Epoch 68; train err = 1.6784465312957764; time = 0.017003297805786133\n",
      "Epoch 69; train err = 1.678446650505066; time = 0.017003536224365234\n",
      "Epoch 70; train err = 1.6784467697143555; time = 0.017004013061523438\n",
      "Epoch 71; train err = 1.678446650505066; time = 0.016003847122192383\n",
      "Epoch 72; train err = 1.678446650505066; time = 0.017003774642944336\n",
      "Epoch 73; train err = 1.6784464120864868; time = 0.01600360870361328\n",
      "Epoch 74; train err = 1.6784465312957764; time = 0.0200040340423584\n",
      "Epoch 75; train err = 1.6784467697143555; time = 0.020004749298095703\n",
      "Epoch 76; train err = 1.678446650505066; time = 0.017003774642944336\n",
      "Epoch 77; train err = 1.6784465312957764; time = 0.01600360870361328\n",
      "Epoch 78; train err = 1.6784464120864868; time = 0.018004179000854492\n",
      "Epoch 79; train err = 1.6784465312957764; time = 0.02300548553466797\n",
      "Epoch 80; train err = 1.678446650505066; time = 0.025005817413330078\n",
      "Epoch 81; train err = 1.6784465312957764; time = 0.019004344940185547\n",
      "Epoch 82; train err = 1.678446888923645; time = 0.017003536224365234\n",
      "Epoch 83; train err = 1.678446650505066; time = 0.01700282096862793\n",
      "Epoch 84; train err = 1.678446650505066; time = 0.017003774642944336\n",
      "Epoch 85; train err = 1.678446888923645; time = 0.017003774642944336\n",
      "Epoch 86; train err = 1.6784467697143555; time = 0.017003774642944336\n",
      "Epoch 87; train err = 1.6784462928771973; time = 0.017003774642944336\n",
      "Epoch 88; train err = 1.678446650505066; time = 0.01800394058227539\n",
      "Epoch 89; train err = 1.678446650505066; time = 0.017003774642944336\n",
      "Epoch 90; train err = 1.6784465312957764; time = 0.017003536224365234\n",
      "Epoch 91; train err = 1.6784465312957764; time = 0.020004987716674805\n",
      "Epoch 92; train err = 1.6784467697143555; time = 0.019004106521606445\n",
      "Epoch 93; train err = 1.6784467697143555; time = 0.021004676818847656\n",
      "Epoch 94; train err = 1.6784467697143555; time = 0.016002655029296875\n",
      "Epoch 95; train err = 1.678446650505066; time = 0.020004987716674805\n",
      "Epoch 96; train err = 1.6784464120864868; time = 0.017003536224365234\n",
      "Epoch 97; train err = 1.6784465312957764; time = 0.019004106521606445\n",
      "Epoch 98; train err = 1.678446650505066; time = 0.017003774642944336\n",
      "Epoch 99; train err = 1.6784465312957764; time = 0.017003536224365234\n",
      "Epoch 100; train err = 1.6784467697143555; time = 0.020004749298095703\n"
     ]
    },
    {
     "name": "stderr",
     "output_type": "stream",
     "text": [
      "all_probs 27"
     ]
    },
    {
     "name": "stdout",
     "output_type": "stream",
     "text": [
      "Using cuda\n",
      "Encoder cuda\n",
      "Decoder cuda\n",
      "EncoderDecoder cuda\n",
      "Epoch 1; train err = 1.6182169914245605; time = 0.015003442764282227\n",
      "Epoch 2; train err = 1.6182169914245605; time = 0.017003774642944336\n",
      "Epoch 3; train err = 1.618216872215271; time = 0.01600360870361328\n",
      "Epoch 4; train err = 1.61821711063385; time = 0.01600337028503418\n",
      "Epoch 5; train err = 1.61821711063385; time = 0.016003847122192383\n",
      "Epoch 6; train err = 1.61821711063385; time = 0.01800394058227539\n",
      "Epoch 7; train err = 1.6182172298431396; time = 0.016003847122192383\n",
      "Epoch 8; train err = 1.61821711063385; time = 0.017004013061523438\n",
      "Epoch 9; train err = 1.6182169914245605; time = 0.017004728317260742\n",
      "Epoch 10; train err = 1.618216872215271; time = 0.01800394058227539\n",
      "Epoch 11; train err = 1.6182172298431396; time = 0.01800370216369629\n",
      "Epoch 12; train err = 1.6182169914245605; time = 0.018004179000854492\n",
      "Epoch 13; train err = 1.61821711063385; time = 0.021004915237426758\n",
      "Epoch 14; train err = 1.6182169914245605; time = 0.019004344940185547\n",
      "Epoch 15; train err = 1.6182169914245605; time = 0.021004676818847656\n",
      "Epoch 16; train err = 1.61821711063385; time = 0.019004106521606445\n",
      "Epoch 17; train err = 1.6182172298431396; time = 0.019004344940185547\n",
      "Epoch 18; train err = 1.618216872215271; time = 0.020005226135253906\n",
      "Epoch 19; train err = 1.6182169914245605; time = 0.02200460433959961\n",
      "Epoch 20; train err = 1.6182172298431396; time = 0.01700568199157715\n",
      "Epoch 21; train err = 1.618216872215271; time = 0.01700568199157715\n",
      "Epoch 22; train err = 1.6182172298431396; time = 0.020002126693725586\n",
      "Epoch 23; train err = 1.6182169914245605; time = 0.017004728317260742\n",
      "Epoch 24; train err = 1.618216872215271; time = 0.017003536224365234\n",
      "Epoch 25; train err = 1.6182169914245605; time = 0.016005992889404297\n",
      "Epoch 26; train err = 1.6182169914245605; time = 0.01700425148010254\n",
      "Epoch 27; train err = 1.6182169914245605; time = 0.02100539207458496\n",
      "Epoch 28; train err = 1.61821711063385; time = 0.017002582550048828\n",
      "Epoch 29; train err = 1.61821711063385; time = 0.022005319595336914\n",
      "Epoch 30; train err = 1.6182169914245605; time = 0.017003774642944336\n",
      "Epoch 31; train err = 1.6182169914245605; time = 0.017004013061523438\n",
      "Epoch 32; train err = 1.6182169914245605; time = 0.01700425148010254\n",
      "Epoch 33; train err = 1.6182169914245605; time = 0.017004013061523438\n",
      "Epoch 34; train err = 1.618216872215271; time = 0.018003225326538086\n",
      "Epoch 35; train err = 1.6182169914245605; time = 0.0200040340423584\n",
      "Epoch 36; train err = 1.618216872215271; time = 0.01700425148010254\n",
      "Epoch 37; train err = 1.61821711063385; time = 0.020003557205200195\n",
      "Epoch 38; train err = 1.61821711063385; time = 0.017004013061523438\n",
      "Epoch 39; train err = 1.6182169914245605; time = 0.016002893447875977\n",
      "Epoch 40; train err = 1.61821711063385; time = 0.016003847122192383\n",
      "Epoch 41; train err = 1.618216872215271; time = 0.017012834548950195\n",
      "Epoch 42; train err = 1.618216872215271; time = 0.019012928009033203\n",
      "Epoch 43; train err = 1.61821711063385; time = 0.02001357078552246\n",
      "Epoch 44; train err = 1.61821711063385; time = 0.0190126895904541\n",
      "Epoch 45; train err = 1.618216872215271; time = 0.022013187408447266\n",
      "Epoch 46; train err = 1.618216872215271; time = 0.023004531860351562\n",
      "Epoch 47; train err = 1.61821711063385; time = 0.022005081176757812\n",
      "Epoch 48; train err = 1.6182169914245605; time = 0.023005247116088867\n",
      "Epoch 49; train err = 1.6182169914245605; time = 0.016003847122192383\n",
      "Epoch 50; train err = 1.6182173490524292; time = 0.024003982543945312\n",
      "Epoch 51; train err = 1.6182172298431396; time = 0.023005962371826172\n",
      "Epoch 52; train err = 1.61821711063385; time = 0.018003225326538086\n",
      "Epoch 53; train err = 1.6182169914245605; time = 0.017003536224365234\n",
      "Epoch 54; train err = 1.6182169914245605; time = 0.0200045108795166\n",
      "Epoch 55; train err = 1.6182169914245605; time = 0.023014545440673828\n",
      "Epoch 56; train err = 1.6182169914245605; time = 0.017004013061523438\n",
      "Epoch 57; train err = 1.6182169914245605; time = 0.02100348472595215\n",
      "Epoch 58; train err = 1.61821711063385; time = 0.023003816604614258\n",
      "Epoch 59; train err = 1.61821711063385; time = 0.022014856338500977\n",
      "Epoch 60; train err = 1.6182169914245605; time = 0.017003774642944336\n",
      "Epoch 61; train err = 1.61821711063385; time = 0.01700448989868164\n",
      "Epoch 62; train err = 1.6182173490524292; time = 0.017003536224365234\n",
      "Epoch 63; train err = 1.618216872215271; time = 0.017003536224365234\n",
      "Epoch 64; train err = 1.618216872215271; time = 0.017004013061523438\n",
      "Epoch 65; train err = 1.6182172298431396; time = 0.023003816604614258\n",
      "Epoch 66; train err = 1.6182169914245605; time = 0.02300548553466797\n",
      "Epoch 67; train err = 1.618216872215271; time = 0.02300572395324707\n",
      "Epoch 68; train err = 1.6182169914245605; time = 0.017003536224365234\n",
      "Epoch 69; train err = 1.618216872215271; time = 0.017004013061523438\n",
      "Epoch 70; train err = 1.618216872215271; time = 0.020003080368041992\n",
      "Epoch 71; train err = 1.6182169914245605; time = 0.019004344940185547\n",
      "Epoch 72; train err = 1.618216872215271; time = 0.017003536224365234\n",
      "Epoch 73; train err = 1.61821711063385; time = 0.020003318786621094\n",
      "Epoch 74; train err = 1.6182169914245605; time = 0.016003131866455078\n",
      "Epoch 75; train err = 1.618216872215271; time = 0.020013093948364258\n",
      "Epoch 76; train err = 1.6182169914245605; time = 0.017013072967529297\n",
      "Epoch 77; train err = 1.6182169914245605; time = 0.0170133113861084\n",
      "Epoch 78; train err = 1.6182169914245605; time = 0.017003536224365234\n",
      "Epoch 79; train err = 1.618216872215271; time = 0.01601266860961914\n",
      "Epoch 80; train err = 1.618216872215271; time = 0.01601243019104004\n",
      "Epoch 81; train err = 1.6182169914245605; time = 0.017002105712890625\n",
      "Epoch 82; train err = 1.6182169914245605; time = 0.017004013061523438\n",
      "Epoch 83; train err = 1.618216872215271; time = 0.02103424072265625\n",
      "Epoch 84; train err = 1.6182169914245605; time = 0.017004013061523438\n",
      "Epoch 85; train err = 1.61821711063385; time = 0.019004344940185547\n",
      "Epoch 86; train err = 1.618216872215271; time = 0.018002748489379883\n",
      "Epoch 87; train err = 1.618216872215271; time = 0.018004179000854492\n",
      "Epoch 88; train err = 1.618216872215271; time = 0.017004013061523438\n",
      "Epoch 89; train err = 1.6182169914245605; time = 0.01800394058227539\n",
      "Epoch 90; train err = 1.6182169914245605; time = 0.018004655838012695\n",
      "Epoch 91; train err = 1.6182172298431396; time = 0.01700305938720703\n",
      "Epoch 92; train err = 1.6182169914245605; time = 0.01800370216369629\n",
      "Epoch 93; train err = 1.6182172298431396; time = 0.02100372314453125\n",
      "Epoch 94; train err = 1.61821711063385; time = 0.022005081176757812\n",
      "Epoch 95; train err = 1.618216872215271; time = 0.01700425148010254\n",
      "Epoch 96; train err = 1.6182169914245605; time = 0.01800370216369629\n",
      "Epoch 97; train err = 1.618216872215271; time = 0.01800370216369629\n",
      "Epoch 98; train err = 1.618216872215271; time = 0.022004365921020508\n",
      "Epoch 99; train err = 1.618216872215271; time = 0.023005247116088867\n",
      "Epoch 100; train err = 1.6182167530059814; time = 0.01601266860961914\n"
     ]
    },
    {
     "name": "stderr",
     "output_type": "stream",
     "text": [
      "all_probs 27"
     ]
    },
    {
     "name": "stdout",
     "output_type": "stream",
     "text": [
      "Using cuda\n",
      "Encoder cuda\n",
      "Decoder cuda\n",
      "EncoderDecoder cuda\n",
      "Epoch 1; train err = 1.7115702629089355; time = 0.015002965927124023\n",
      "Epoch 2; train err = 1.7115705013275146; time = 0.020013809204101562\n",
      "Epoch 3; train err = 1.7115702629089355; time = 0.017003297805786133\n",
      "Epoch 4; train err = 1.711570143699646; time = 0.016013145446777344\n",
      "Epoch 5; train err = 1.7115706205368042; time = 0.020003557205200195\n",
      "Epoch 6; train err = 1.7115707397460938; time = 0.017004013061523438\n",
      "Epoch 7; train err = 1.7115702629089355; time = 0.017012357711791992\n",
      "Epoch 8; train err = 1.7115705013275146; time = 0.023006677627563477\n",
      "Epoch 9; train err = 1.7115702629089355; time = 0.017002344131469727\n",
      "Epoch 10; train err = 1.7115705013275146; time = 0.016004085540771484\n",
      "Epoch 11; train err = 1.711570382118225; time = 0.019004344940185547\n",
      "Epoch 12; train err = 1.7115702629089355; time = 0.023014545440673828\n",
      "Epoch 13; train err = 1.711570143699646; time = 0.01700425148010254\n",
      "Epoch 14; train err = 1.711570382118225; time = 0.016012191772460938\n",
      "Epoch 15; train err = 1.711570382118225; time = 0.017002582550048828\n",
      "Epoch 16; train err = 1.7115705013275146; time = 0.01700425148010254\n",
      "Epoch 17; train err = 1.711570382118225; time = 0.01900339126586914\n",
      "Epoch 18; train err = 1.711570143699646; time = 0.017014026641845703\n",
      "Epoch 19; train err = 1.711570382118225; time = 0.024004220962524414\n",
      "Epoch 20; train err = 1.7115705013275146; time = 0.022004127502441406\n",
      "Epoch 21; train err = 1.711570382118225; time = 0.0200040340423584\n",
      "Epoch 22; train err = 1.7115705013275146; time = 0.016012191772460938\n",
      "Epoch 23; train err = 1.7115705013275146; time = 0.01900458335876465\n",
      "Epoch 24; train err = 1.7115705013275146; time = 0.01700282096862793\n",
      "Epoch 25; train err = 1.7115702629089355; time = 0.017003536224365234\n",
      "Epoch 26; train err = 1.7115706205368042; time = 0.0170137882232666\n",
      "Epoch 27; train err = 1.7115702629089355; time = 0.01701211929321289\n",
      "Epoch 28; train err = 1.7115705013275146; time = 0.01700448989868164\n",
      "Epoch 29; train err = 1.7115702629089355; time = 0.020003318786621094\n",
      "Epoch 30; train err = 1.711570382118225; time = 0.017005205154418945\n",
      "Epoch 31; train err = 1.7115705013275146; time = 0.0170137882232666\n",
      "Epoch 32; train err = 1.711570143699646; time = 0.020003795623779297\n",
      "Epoch 33; train err = 1.711570382118225; time = 0.0200042724609375\n",
      "Epoch 34; train err = 1.711570382118225; time = 0.017004013061523438\n",
      "Epoch 35; train err = 1.711570382118225; time = 0.017003536224365234\n",
      "Epoch 36; train err = 1.7115702629089355; time = 0.017003774642944336\n",
      "Epoch 37; train err = 1.711570143699646; time = 0.01700425148010254\n",
      "Epoch 38; train err = 1.7115702629089355; time = 0.017003774642944336\n",
      "Epoch 39; train err = 1.711570143699646; time = 0.017003774642944336\n",
      "Epoch 40; train err = 1.711570143699646; time = 0.016003131866455078\n",
      "Epoch 41; train err = 1.7115702629089355; time = 0.022005319595336914\n",
      "Epoch 42; train err = 1.7115702629089355; time = 0.020004749298095703\n",
      "Epoch 43; train err = 1.7115702629089355; time = 0.01800370216369629\n",
      "Epoch 44; train err = 1.711570143699646; time = 0.021004438400268555\n",
      "Epoch 45; train err = 1.7115705013275146; time = 0.023005247116088867\n",
      "Epoch 46; train err = 1.7115702629089355; time = 0.0200042724609375\n",
      "Epoch 47; train err = 1.711570382118225; time = 0.01800394058227539\n",
      "Epoch 48; train err = 1.7115705013275146; time = 0.017003774642944336\n",
      "Epoch 49; train err = 1.711570143699646; time = 0.023005247116088867\n",
      "Epoch 50; train err = 1.711570143699646; time = 0.018004179000854492\n",
      "Epoch 51; train err = 1.711570382118225; time = 0.018003463745117188\n",
      "Epoch 52; train err = 1.711570382118225; time = 0.017004013061523438\n",
      "Epoch 53; train err = 1.711570143699646; time = 0.018002986907958984\n",
      "Epoch 54; train err = 1.7115702629089355; time = 0.020004987716674805\n",
      "Epoch 55; train err = 1.711570143699646; time = 0.02200484275817871\n",
      "Epoch 56; train err = 1.7115705013275146; time = 0.01700425148010254\n",
      "Epoch 57; train err = 1.7115702629089355; time = 0.019006013870239258\n",
      "Epoch 58; train err = 1.711570382118225; time = 0.0170133113861084\n",
      "Epoch 59; train err = 1.7115702629089355; time = 0.018002748489379883\n",
      "Epoch 60; train err = 1.711570382118225; time = 0.019013643264770508\n",
      "Epoch 61; train err = 1.711570382118225; time = 0.019013404846191406\n",
      "Epoch 62; train err = 1.7115705013275146; time = 0.02100372314453125\n",
      "Epoch 63; train err = 1.7115702629089355; time = 0.017003774642944336\n",
      "Epoch 64; train err = 1.711570143699646; time = 0.02101302146911621\n",
      "Epoch 65; train err = 1.7115706205368042; time = 0.017004013061523438\n",
      "Epoch 66; train err = 1.7115706205368042; time = 0.01900506019592285\n",
      "Epoch 67; train err = 1.7115705013275146; time = 0.019013166427612305\n",
      "Epoch 68; train err = 1.711570143699646; time = 0.021007061004638672\n",
      "Epoch 69; train err = 1.711570382118225; time = 0.017003297805786133\n",
      "Epoch 70; train err = 1.711570382118225; time = 0.017012357711791992\n",
      "Epoch 71; train err = 1.7115702629089355; time = 0.0200042724609375\n",
      "Epoch 72; train err = 1.7115702629089355; time = 0.01900482177734375\n",
      "Epoch 73; train err = 1.7115702629089355; time = 0.017003536224365234\n",
      "Epoch 74; train err = 1.711570382118225; time = 0.021004915237426758\n",
      "Epoch 75; train err = 1.7115702629089355; time = 0.016003131866455078\n",
      "Epoch 76; train err = 1.7115705013275146; time = 0.01600337028503418\n",
      "Epoch 77; train err = 1.7115705013275146; time = 0.016013383865356445\n",
      "Epoch 78; train err = 1.711570143699646; time = 0.01600360870361328\n",
      "Epoch 79; train err = 1.711570382118225; time = 0.01900315284729004\n",
      "Epoch 80; train err = 1.7115705013275146; time = 0.016005277633666992\n",
      "Epoch 81; train err = 1.7115702629089355; time = 0.016003131866455078\n",
      "Epoch 82; train err = 1.7115702629089355; time = 0.01700282096862793\n",
      "Epoch 83; train err = 1.7115702629089355; time = 0.01800370216369629\n",
      "Epoch 84; train err = 1.7115700244903564; time = 0.02200460433959961\n",
      "Epoch 85; train err = 1.7115705013275146; time = 0.0200042724609375\n",
      "Epoch 86; train err = 1.7115705013275146; time = 0.01700305938720703\n",
      "Epoch 87; train err = 1.711570382118225; time = 0.02300429344177246\n",
      "Epoch 88; train err = 1.7115706205368042; time = 0.0220034122467041\n",
      "Epoch 89; train err = 1.7115706205368042; time = 0.01900339126586914\n",
      "Epoch 90; train err = 1.711570143699646; time = 0.01901412010192871\n",
      "Epoch 91; train err = 1.7115707397460938; time = 0.019002914428710938\n",
      "Epoch 92; train err = 1.7115702629089355; time = 0.020003557205200195\n",
      "Epoch 93; train err = 1.7115702629089355; time = 0.016004323959350586\n",
      "Epoch 94; train err = 1.711570382118225; time = 0.01800370216369629\n",
      "Epoch 95; train err = 1.7115705013275146; time = 0.016004562377929688\n",
      "Epoch 96; train err = 1.711570143699646; time = 0.018004655838012695\n",
      "Epoch 97; train err = 1.7115702629089355; time = 0.020003795623779297\n",
      "Epoch 98; train err = 1.711570382118225; time = 0.019012928009033203\n",
      "Epoch 99; train err = 1.7115705013275146; time = 0.0180051326751709\n",
      "Epoch 100; train err = 1.7115705013275146; time = 0.017002105712890625\n"
     ]
    },
    {
     "name": "stderr",
     "output_type": "stream",
     "text": [
      "all_probs 27"
     ]
    },
    {
     "name": "stdout",
     "output_type": "stream",
     "text": [
      "Using cuda\n",
      "Encoder cuda\n",
      "Decoder cuda\n",
      "EncoderDecoder cuda\n",
      "Epoch 1; train err = 1.5887324810028076; time = 0.018004179000854492\n",
      "Epoch 2; train err = 1.5887327194213867; time = 0.0200045108795166\n",
      "Epoch 3; train err = 1.5887329578399658; time = 0.022005081176757812\n",
      "Epoch 4; train err = 1.588732361793518; time = 0.025005817413330078\n",
      "Epoch 5; train err = 1.5887327194213867; time = 0.019004344940185547\n",
      "Epoch 6; train err = 1.5887329578399658; time = 0.020004749298095703\n",
      "Epoch 7; train err = 1.5887327194213867; time = 0.0200042724609375\n",
      "Epoch 8; train err = 1.5887329578399658; time = 0.023004770278930664\n",
      "Epoch 9; train err = 1.5887322425842285; time = 0.01900482177734375\n",
      "Epoch 10; train err = 1.5887327194213867; time = 0.0200040340423584\n",
      "Epoch 11; train err = 1.5887322425842285; time = 0.020004749298095703\n",
      "Epoch 12; train err = 1.5887326002120972; time = 0.019004344940185547\n",
      "Epoch 13; train err = 1.588732361793518; time = 0.020004749298095703\n",
      "Epoch 14; train err = 1.588732361793518; time = 0.019004344940185547\n",
      "Epoch 15; train err = 1.588732361793518; time = 0.02200484275817871\n",
      "Epoch 16; train err = 1.5887322425842285; time = 0.025005817413330078\n",
      "Epoch 17; train err = 1.588732361793518; time = 0.0200045108795166\n",
      "Epoch 18; train err = 1.5887327194213867; time = 0.019004344940185547\n",
      "Epoch 19; train err = 1.5887324810028076; time = 0.0200045108795166\n",
      "Epoch 20; train err = 1.5887326002120972; time = 0.0200045108795166\n",
      "Epoch 21; train err = 1.5887327194213867; time = 0.02200484275817871\n",
      "Epoch 22; train err = 1.5887324810028076; time = 0.021004676818847656\n",
      "Epoch 23; train err = 1.5887329578399658; time = 0.019002914428710938\n",
      "Epoch 24; train err = 1.5887327194213867; time = 0.019003868103027344\n",
      "Epoch 25; train err = 1.5887327194213867; time = 0.019004344940185547\n",
      "Epoch 26; train err = 1.5887330770492554; time = 0.01900458335876465\n",
      "Epoch 27; train err = 1.588732361793518; time = 0.021004438400268555\n",
      "Epoch 28; train err = 1.5887328386306763; time = 0.018004179000854492\n",
      "Epoch 29; train err = 1.5887326002120972; time = 0.019004344940185547\n",
      "Epoch 30; train err = 1.588732361793518; time = 0.02200484275817871\n",
      "Epoch 31; train err = 1.5887326002120972; time = 0.021004915237426758\n",
      "Epoch 32; train err = 1.5887324810028076; time = 0.019004344940185547\n",
      "Epoch 33; train err = 1.5887327194213867; time = 0.0200045108795166\n",
      "Epoch 34; train err = 1.5887324810028076; time = 0.02400517463684082\n",
      "Epoch 35; train err = 1.5887326002120972; time = 0.018004417419433594\n",
      "Epoch 36; train err = 1.5887322425842285; time = 0.022005081176757812\n",
      "Epoch 37; train err = 1.5887329578399658; time = 0.018004179000854492\n",
      "Epoch 38; train err = 1.5887327194213867; time = 0.022005081176757812\n",
      "Epoch 39; train err = 1.5887328386306763; time = 0.019004344940185547\n",
      "Epoch 40; train err = 1.5887326002120972; time = 0.019004344940185547\n",
      "Epoch 41; train err = 1.5887324810028076; time = 0.01900458335876465\n",
      "Epoch 42; train err = 1.5887328386306763; time = 0.022004365921020508\n",
      "Epoch 43; train err = 1.5887326002120972; time = 0.019004106521606445\n",
      "Epoch 44; train err = 1.5887327194213867; time = 0.022005081176757812\n",
      "Epoch 45; train err = 1.5887328386306763; time = 0.026005983352661133\n",
      "Epoch 46; train err = 1.5887328386306763; time = 0.025005578994750977\n",
      "Epoch 47; train err = 1.5887328386306763; time = 0.01900506019592285\n",
      "Epoch 48; train err = 1.588732361793518; time = 0.022005081176757812\n",
      "Epoch 49; train err = 1.5887324810028076; time = 0.019004344940185547\n",
      "Epoch 50; train err = 1.588732361793518; time = 0.019004344940185547\n",
      "Epoch 51; train err = 1.5887327194213867; time = 0.019004106521606445\n",
      "Epoch 52; train err = 1.5887328386306763; time = 0.023005008697509766\n",
      "Epoch 53; train err = 1.5887322425842285; time = 0.021004915237426758\n",
      "Epoch 54; train err = 1.588732361793518; time = 0.019004344940185547\n",
      "Epoch 55; train err = 1.5887322425842285; time = 0.019004106521606445\n",
      "Epoch 56; train err = 1.5887326002120972; time = 0.019004344940185547\n",
      "Epoch 57; train err = 1.5887327194213867; time = 0.020004987716674805\n",
      "Epoch 58; train err = 1.5887324810028076; time = 0.021004676818847656\n",
      "Epoch 59; train err = 1.5887326002120972; time = 0.023004770278930664\n",
      "Epoch 60; train err = 1.5887324810028076; time = 0.018004417419433594\n",
      "Epoch 61; train err = 1.5887326002120972; time = 0.023005247116088867\n",
      "Epoch 62; train err = 1.5887329578399658; time = 0.0200045108795166\n",
      "Epoch 63; train err = 1.5887326002120972; time = 0.0200045108795166\n",
      "Epoch 64; train err = 1.588732123374939; time = 0.019004106521606445\n",
      "Epoch 65; train err = 1.5887324810028076; time = 0.02200484275817871\n",
      "Epoch 66; train err = 1.5887327194213867; time = 0.020004749298095703\n",
      "Epoch 67; train err = 1.5887326002120972; time = 0.025005578994750977\n",
      "Epoch 68; train err = 1.588732361793518; time = 0.022005081176757812\n",
      "Epoch 69; train err = 1.5887330770492554; time = 0.0200042724609375\n",
      "Epoch 70; train err = 1.5887327194213867; time = 0.02200484275817871\n",
      "Epoch 71; train err = 1.5887324810028076; time = 0.023005008697509766\n",
      "Epoch 72; train err = 1.5887324810028076; time = 0.021004438400268555\n",
      "Epoch 73; train err = 1.5887324810028076; time = 0.018004417419433594\n",
      "Epoch 74; train err = 1.5887327194213867; time = 0.01800394058227539\n",
      "Epoch 75; train err = 1.5887326002120972; time = 0.02400517463684082\n",
      "Epoch 76; train err = 1.5887328386306763; time = 0.019004106521606445\n",
      "Epoch 77; train err = 1.588732123374939; time = 0.01900458335876465\n",
      "Epoch 78; train err = 1.5887324810028076; time = 0.023005247116088867\n",
      "Epoch 79; train err = 1.5887324810028076; time = 0.025005102157592773\n",
      "Epoch 80; train err = 1.5887326002120972; time = 0.022005081176757812\n",
      "Epoch 81; train err = 1.588732361793518; time = 0.018004179000854492\n",
      "Epoch 82; train err = 1.5887326002120972; time = 0.019004344940185547\n",
      "Epoch 83; train err = 1.5887326002120972; time = 0.019004106521606445\n",
      "Epoch 84; train err = 1.5887327194213867; time = 0.027005910873413086\n",
      "Epoch 85; train err = 1.5887328386306763; time = 0.021004676818847656\n",
      "Epoch 86; train err = 1.5887328386306763; time = 0.02100372314453125\n",
      "Epoch 87; train err = 1.588732361793518; time = 0.01800394058227539\n",
      "Epoch 88; train err = 1.5887326002120972; time = 0.021004915237426758\n",
      "Epoch 89; train err = 1.5887327194213867; time = 0.023005008697509766\n",
      "Epoch 90; train err = 1.5887327194213867; time = 0.019004344940185547\n",
      "Epoch 91; train err = 1.5887329578399658; time = 0.0200045108795166\n",
      "Epoch 92; train err = 1.5887326002120972; time = 0.01900458335876465\n",
      "Epoch 93; train err = 1.588732123374939; time = 0.02100396156311035\n",
      "Epoch 94; train err = 1.5887328386306763; time = 0.019004344940185547\n",
      "Epoch 95; train err = 1.5887326002120972; time = 0.019004106521606445\n",
      "Epoch 96; train err = 1.5887328386306763; time = 0.01900458335876465\n",
      "Epoch 97; train err = 1.5887327194213867; time = 0.021004676818847656\n",
      "Epoch 98; train err = 1.5887326002120972; time = 0.020004749298095703\n",
      "Epoch 99; train err = 1.5887324810028076; time = 0.019004106521606445\n",
      "Epoch 100; train err = 1.5887328386306763; time = 0.02300548553466797\n",
      "Best params: {'hidden_dim': 20}\n",
      "Best score: 0.375\n"
     ]
    }
   ],
   "source": [
    "best_mod = utils.fit_classifier_with_crossvalidation(\n",
    "    toy_color_seqs_train, \n",
    "    toy_word_seqs_train, \n",
    "    toy_mod, \n",
    "    cv=2,\n",
    "    scoring=None,\n",
    "    param_grid={'hidden_dim': [10, 20]})"
   ]
  },
  {
   "cell_type": "markdown",
   "metadata": {},
   "source": [
    "## Baseline SCC model"
   ]
  },
  {
   "cell_type": "markdown",
   "metadata": {},
   "source": [
    "Just to show how all the pieces come together, here's a very basic SCC experiment using the core code and very simplistic assumptions (which you will revisit in the assignment) about how to represent the examples:"
   ]
  },
  {
   "cell_type": "markdown",
   "metadata": {},
   "source": [
    "To facilitate quick development, we'll restrict attention to the two-word examples:"
   ]
  },
  {
   "cell_type": "code",
   "execution_count": 42,
   "metadata": {},
   "outputs": [],
   "source": [
    "dev_corpus = ColorsCorpusReader(COLORS_SRC_FILENAME, word_count=2)"
   ]
  },
  {
   "cell_type": "code",
   "execution_count": 43,
   "metadata": {},
   "outputs": [],
   "source": [
    "dev_examples = list(dev_corpus.read())"
   ]
  },
  {
   "cell_type": "code",
   "execution_count": 44,
   "metadata": {},
   "outputs": [
    {
     "data": {
      "text/plain": [
       "13890"
      ]
     },
     "execution_count": 44,
     "metadata": {},
     "output_type": "execute_result"
    }
   ],
   "source": [
    "len(dev_examples)"
   ]
  },
  {
   "cell_type": "markdown",
   "metadata": {},
   "source": [
    "Here we extract the raw colors and texts (as strings):"
   ]
  },
  {
   "cell_type": "code",
   "execution_count": 45,
   "metadata": {},
   "outputs": [],
   "source": [
    "dev_cols, dev_texts = zip(*[[ex.colors, ex.contents] for ex in dev_examples])"
   ]
  },
  {
   "cell_type": "markdown",
   "metadata": {},
   "source": [
    "To tokenize the examples, we'll just split on whitespace, taking care to add the required boundary symbols:"
   ]
  },
  {
   "cell_type": "code",
   "execution_count": 46,
   "metadata": {},
   "outputs": [],
   "source": [
    "dev_word_seqs = [[START_SYMBOL] + text.split() + [END_SYMBOL] for text in dev_texts]"
   ]
  },
  {
   "cell_type": "markdown",
   "metadata": {},
   "source": [
    "We'll use a random train–test split:"
   ]
  },
  {
   "cell_type": "code",
   "execution_count": 47,
   "metadata": {},
   "outputs": [],
   "source": [
    "dev_cols_train, dev_cols_test, dev_word_seqs_train, dev_word_seqs_test = \\\n",
    "    train_test_split(dev_cols, dev_word_seqs)"
   ]
  },
  {
   "cell_type": "markdown",
   "metadata": {},
   "source": [
    "Our vocab is determined by the train set, and we take care to include the `$UNK` token:"
   ]
  },
  {
   "cell_type": "code",
   "execution_count": 48,
   "metadata": {},
   "outputs": [],
   "source": [
    "dev_vocab = sorted({w for toks in dev_word_seqs_train for w in toks}) + [UNK_SYMBOL]"
   ]
  },
  {
   "cell_type": "markdown",
   "metadata": {},
   "source": [
    "And now we're ready to train a model:"
   ]
  },
  {
   "cell_type": "code",
   "execution_count": 49,
   "metadata": {},
   "outputs": [
    {
     "name": "stdout",
     "output_type": "stream",
     "text": [
      "Using cuda\n"
     ]
    }
   ],
   "source": [
    "dev_mod = ContextualColorDescriber(\n",
    "    dev_vocab, \n",
    "    embed_dim=10, \n",
    "    hidden_dim=10, \n",
    "    max_iter=10, \n",
    "    batch_size=128)"
   ]
  },
  {
   "cell_type": "code",
   "execution_count": 50,
   "metadata": {},
   "outputs": [
    {
     "name": "stdout",
     "output_type": "stream",
     "text": [
      "Encoder cuda\n",
      "Decoder cuda\n",
      "EncoderDecoder cuda\n",
      "Epoch 1; train err = 586.2046618461609; time = 1.677380084991455\n",
      "Epoch 2; train err = 586.1917581558228; time = 1.667388916015625\n",
      "Epoch 3; train err = 586.2265539169312; time = 1.6483745574951172\n",
      "Epoch 4; train err = 586.206681728363; time = 1.6543843746185303\n",
      "Epoch 5; train err = 586.1566886901855; time = 1.6073732376098633\n",
      "Epoch 6; train err = 586.1938676834106; time = 1.4743340015411377\n",
      "Epoch 7; train err = 586.206967830658; time = 1.4753353595733643\n",
      "Epoch 8; train err = 586.2084836959839; time = 1.4563391208648682\n",
      "Epoch 9; train err = 586.1969714164734; time = 1.4343252182006836\n",
      "Epoch 10; train err = 586.2120089530945; time = 1.4873461723327637\n"
     ]
    }
   ],
   "source": [
    "_ = dev_mod.fit(dev_cols_train, dev_word_seqs_train)"
   ]
  },
  {
   "cell_type": "markdown",
   "metadata": {},
   "source": [
    "And finally an evaluation in terms of listener accuracy:"
   ]
  },
  {
   "cell_type": "code",
   "execution_count": 51,
   "metadata": {},
   "outputs": [
    {
     "name": "stderr",
     "output_type": "stream",
     "text": [
      "all_probs 27C:\\Users\\Chris\\Github\\cs224u\\torch_color_describer.py:676: RuntimeWarning: divide by zero encountered in power\n",
      "  perp = [np.prod(s)**(-1/len(s)) for s in scores]\n",
      "all_probs 27"
     ]
    },
    {
     "data": {
      "text/plain": [
       "0.33803627987330837"
      ]
     },
     "execution_count": 51,
     "metadata": {},
     "output_type": "execute_result"
    }
   ],
   "source": [
    "dev_mod.listener_accuracy(dev_cols_test, dev_word_seqs_test)"
   ]
  },
  {
   "cell_type": "markdown",
   "metadata": {},
   "source": [
    "## Modifying the core model"
   ]
  },
  {
   "cell_type": "markdown",
   "metadata": {},
   "source": [
    "The first few assignment problems concern how you preprocess the data for your model. After that, the goal is to subclass model components in `torch_color_describer.py`. For the bake-off submission, you can do whatever you like in terms of modeling, but my hope is that you'll be able to continue subclassing based on `torch_color_describer.py`.\n",
    "\n",
    "This section provides some illustrative examples designed to give you a feel for how the code is structured and what your options are in terms of creating subclasses."
   ]
  },
  {
   "cell_type": "markdown",
   "metadata": {},
   "source": [
    "### Illustration: LSTM Cells"
   ]
  },
  {
   "cell_type": "markdown",
   "metadata": {},
   "source": [
    "Both the `Encoder` and the `Decoder` of `torch_color_describer` are currently GRU cells. Switching to another cell type is easy:"
   ]
  },
  {
   "cell_type": "markdown",
   "metadata": {},
   "source": [
    "__Step 1__: Subclass the `Encoder`; all we have to do here is change `GRU` from the original to `LSTM`:"
   ]
  },
  {
   "cell_type": "code",
   "execution_count": 52,
   "metadata": {},
   "outputs": [],
   "source": [
    "import torch.nn as nn\n",
    "from torch_color_describer import Encoder\n",
    "\n",
    "class LSTMEncoder(Encoder):\n",
    "    def __init__(self, color_dim, hidden_dim):\n",
    "        super().__init__(color_dim, hidden_dim)        \n",
    "        self.rnn = nn.LSTM(\n",
    "            input_size=self.color_dim,\n",
    "            hidden_size=self.hidden_dim,\n",
    "            batch_first=True)"
   ]
  },
  {
   "cell_type": "markdown",
   "metadata": {},
   "source": [
    "__Step 2__: Subclass the `Decoder`, making the same simple change as above:"
   ]
  },
  {
   "cell_type": "code",
   "execution_count": 53,
   "metadata": {},
   "outputs": [],
   "source": [
    "import torch.nn as nn\n",
    "from torch_color_describer import Encoder, Decoder\n",
    "\n",
    "class LSTMDecoder(Decoder):\n",
    "    def __init__(self, *args, **kwargs):\n",
    "        super().__init__(*args, **kwargs)        \n",
    "        self.rnn = nn.LSTM(\n",
    "            input_size=self.embed_dim,\n",
    "            hidden_size=self.hidden_dim,\n",
    "            batch_first=True)"
   ]
  },
  {
   "cell_type": "markdown",
   "metadata": {},
   "source": [
    "__Step 3__:`ContextualColorDescriber` has a method called `build_graph` that sets up the `Encoder` and `Decoder`. The needed revision just uses `LSTMEncoder`:"
   ]
  },
  {
   "cell_type": "code",
   "execution_count": 54,
   "metadata": {},
   "outputs": [],
   "source": [
    "from torch_color_describer import EncoderDecoder\n",
    "\n",
    "class LSTMContextualColorDescriber(ContextualColorDescriber):     \n",
    "                \n",
    "    def build_graph(self):\n",
    "        \n",
    "        # Use the new Encoder:\n",
    "        encoder = LSTMEncoder(\n",
    "            color_dim=self.color_dim,\n",
    "            hidden_dim=self.hidden_dim)\n",
    "\n",
    "        # Use the new Decoder:\n",
    "        decoder = LSTMDecoder(\n",
    "            vocab_size=self.vocab_size,\n",
    "            embed_dim=self.embed_dim,\n",
    "            embedding=self.embedding,\n",
    "            hidden_dim=self.hidden_dim)\n",
    "\n",
    "        return EncoderDecoder(encoder, decoder)"
   ]
  },
  {
   "cell_type": "markdown",
   "metadata": {},
   "source": [
    "Here's an example run:"
   ]
  },
  {
   "cell_type": "code",
   "execution_count": 55,
   "metadata": {},
   "outputs": [
    {
     "name": "stdout",
     "output_type": "stream",
     "text": [
      "Using cuda\n"
     ]
    }
   ],
   "source": [
    "lstm_mod = LSTMContextualColorDescriber(\n",
    "    toy_vocab, \n",
    "    embed_dim=10, \n",
    "    hidden_dim=10, \n",
    "    max_iter=100, \n",
    "    batch_size=128)"
   ]
  },
  {
   "cell_type": "code",
   "execution_count": 56,
   "metadata": {},
   "outputs": [
    {
     "name": "stdout",
     "output_type": "stream",
     "text": [
      "LSTMEncoder cuda\n",
      "LSTMDecoder cuda\n",
      "EncoderDecoder cuda\n",
      "Epoch 1; train err = 1.63457453250885; time = 0.017003297805786133\n",
      "Epoch 2; train err = 1.6345744132995605; time = 0.01900458335876465\n",
      "Epoch 3; train err = 1.6345739364624023; time = 0.018004655838012695\n",
      "Epoch 4; train err = 1.6345744132995605; time = 0.0200042724609375\n",
      "Epoch 5; train err = 1.6345741748809814; time = 0.022004127502441406\n",
      "Epoch 6; train err = 1.63457453250885; time = 0.019005775451660156\n",
      "Epoch 7; train err = 1.6345741748809814; time = 0.021002531051635742\n",
      "Epoch 8; train err = 1.6345739364624023; time = 0.019005537033081055\n",
      "Epoch 9; train err = 1.634574055671692; time = 0.023004531860351562\n",
      "Epoch 10; train err = 1.6345744132995605; time = 0.019005775451660156\n",
      "Epoch 11; train err = 1.6345741748809814; time = 0.01900339126586914\n",
      "Epoch 12; train err = 1.6345739364624023; time = 0.01801323890686035\n",
      "Epoch 13; train err = 1.634574055671692; time = 0.023013830184936523\n",
      "Epoch 14; train err = 1.634574294090271; time = 0.02400517463684082\n",
      "Epoch 15; train err = 1.634574294090271; time = 0.020005464553833008\n",
      "Epoch 16; train err = 1.634574294090271; time = 0.019014358520507812\n",
      "Epoch 17; train err = 1.634574294090271; time = 0.01900315284729004\n",
      "Epoch 18; train err = 1.634574294090271; time = 0.018003225326538086\n",
      "Epoch 19; train err = 1.6345744132995605; time = 0.023014307022094727\n",
      "Epoch 20; train err = 1.6345741748809814; time = 0.019013166427612305\n",
      "Epoch 21; train err = 1.634574055671692; time = 0.023006916046142578\n",
      "Epoch 22; train err = 1.6345744132995605; time = 0.019004344940185547\n",
      "Epoch 23; train err = 1.6345741748809814; time = 0.022005796432495117\n",
      "Epoch 24; train err = 1.634574294090271; time = 0.02401423454284668\n",
      "Epoch 25; train err = 1.634574055671692; time = 0.018004179000854492\n",
      "Epoch 26; train err = 1.6345741748809814; time = 0.021013498306274414\n",
      "Epoch 27; train err = 1.634574294090271; time = 0.022003173828125\n",
      "Epoch 28; train err = 1.634574294090271; time = 0.025016069412231445\n",
      "Epoch 29; train err = 1.6345739364624023; time = 0.021013498306274414\n",
      "Epoch 30; train err = 1.634574294090271; time = 0.02001357078552246\n",
      "Epoch 31; train err = 1.634574294090271; time = 0.025014877319335938\n",
      "Epoch 32; train err = 1.6345744132995605; time = 0.01900339126586914\n",
      "Epoch 33; train err = 1.6345741748809814; time = 0.019003629684448242\n",
      "Epoch 34; train err = 1.634574294090271; time = 0.022004127502441406\n",
      "Epoch 35; train err = 1.634574294090271; time = 0.01900339126586914\n",
      "Epoch 36; train err = 1.6345744132995605; time = 0.02000594139099121\n",
      "Epoch 37; train err = 1.634574294090271; time = 0.023013830184936523\n",
      "Epoch 38; train err = 1.6345744132995605; time = 0.01900506019592285\n",
      "Epoch 39; train err = 1.634574055671692; time = 0.019003868103027344\n",
      "Epoch 40; train err = 1.634574294090271; time = 0.022014856338500977\n",
      "Epoch 41; train err = 1.6345746517181396; time = 0.02401423454284668\n",
      "Epoch 42; train err = 1.634574294090271; time = 0.021006107330322266\n",
      "Epoch 43; train err = 1.6345741748809814; time = 0.024005413055419922\n",
      "Epoch 44; train err = 1.6345741748809814; time = 0.02601170539855957\n",
      "Epoch 45; train err = 1.6345738172531128; time = 0.025004863739013672\n",
      "Epoch 46; train err = 1.63457453250885; time = 0.019002914428710938\n",
      "Epoch 47; train err = 1.63457453250885; time = 0.020000934600830078\n",
      "Epoch 48; train err = 1.6345744132995605; time = 0.02101278305053711\n",
      "Epoch 49; train err = 1.6345744132995605; time = 0.0200042724609375\n",
      "Epoch 50; train err = 1.63457453250885; time = 0.01800370216369629\n",
      "Epoch 51; train err = 1.634574294090271; time = 0.01900458335876465\n",
      "Epoch 52; train err = 1.634574294090271; time = 0.019003868103027344\n",
      "Epoch 53; train err = 1.634574294090271; time = 0.02200603485107422\n",
      "Epoch 54; train err = 1.634574055671692; time = 0.01900482177734375\n",
      "Epoch 55; train err = 1.6345741748809814; time = 0.02201366424560547\n",
      "Epoch 56; train err = 1.6345741748809814; time = 0.01900196075439453\n",
      "Epoch 57; train err = 1.63457453250885; time = 0.024022340774536133\n",
      "Epoch 58; train err = 1.6345739364624023; time = 0.02600383758544922\n",
      "Epoch 59; train err = 1.634574294090271; time = 0.01900458335876465\n",
      "Epoch 60; train err = 1.6345741748809814; time = 0.019003868103027344\n",
      "Epoch 61; train err = 1.634574294090271; time = 0.019004344940185547\n",
      "Epoch 62; train err = 1.63457453250885; time = 0.018001794815063477\n",
      "Epoch 63; train err = 1.634574294090271; time = 0.021004438400268555\n",
      "Epoch 64; train err = 1.6345741748809814; time = 0.025014400482177734\n",
      "Epoch 65; train err = 1.6345739364624023; time = 0.02100372314453125\n",
      "Epoch 66; train err = 1.6345741748809814; time = 0.01900458335876465\n",
      "Epoch 67; train err = 1.6345744132995605; time = 0.021006345748901367\n",
      "Epoch 68; train err = 1.63457453250885; time = 0.021011829376220703\n",
      "Epoch 69; train err = 1.6345741748809814; time = 0.023005247116088867\n",
      "Epoch 70; train err = 1.6345744132995605; time = 0.024002552032470703\n",
      "Epoch 71; train err = 1.634574055671692; time = 0.019003868103027344\n",
      "Epoch 72; train err = 1.634574294090271; time = 0.020015239715576172\n",
      "Epoch 73; train err = 1.634574294090271; time = 0.019005298614501953\n",
      "Epoch 74; train err = 1.634574294090271; time = 0.02000284194946289\n",
      "Epoch 75; train err = 1.6345744132995605; time = 0.01900458335876465\n",
      "Epoch 76; train err = 1.634574294090271; time = 0.02500748634338379\n",
      "Epoch 77; train err = 1.6345739364624023; time = 0.021002769470214844\n",
      "Epoch 78; train err = 1.6345738172531128; time = 0.02100396156311035\n",
      "Epoch 79; train err = 1.634574055671692; time = 0.018003225326538086\n",
      "Epoch 80; train err = 1.634574294090271; time = 0.019001483917236328\n",
      "Epoch 81; train err = 1.6345741748809814; time = 0.022026538848876953\n",
      "Epoch 82; train err = 1.634574294090271; time = 0.019004106521606445\n",
      "Epoch 83; train err = 1.634574294090271; time = 0.019005537033081055\n",
      "Epoch 84; train err = 1.634574055671692; time = 0.024014711380004883\n",
      "Epoch 85; train err = 1.634574294090271; time = 0.019002914428710938\n",
      "Epoch 86; train err = 1.634574055671692; time = 0.01900482177734375\n",
      "Epoch 87; train err = 1.6345739364624023; time = 0.019003629684448242\n",
      "Epoch 88; train err = 1.634574294090271; time = 0.019003629684448242\n",
      "Epoch 89; train err = 1.6345744132995605; time = 0.025005817413330078\n",
      "Epoch 90; train err = 1.6345744132995605; time = 0.026015043258666992\n",
      "Epoch 91; train err = 1.634574294090271; time = 0.01800537109375\n",
      "Epoch 92; train err = 1.6345741748809814; time = 0.0200045108795166\n",
      "Epoch 93; train err = 1.6345744132995605; time = 0.022014141082763672\n",
      "Epoch 94; train err = 1.634574055671692; time = 0.021003246307373047\n",
      "Epoch 95; train err = 1.6345744132995605; time = 0.025014638900756836\n",
      "Epoch 96; train err = 1.6345744132995605; time = 0.022006511688232422\n",
      "Epoch 97; train err = 1.6345744132995605; time = 0.022005796432495117\n",
      "Epoch 98; train err = 1.6345741748809814; time = 0.022014141082763672\n",
      "Epoch 99; train err = 1.6345741748809814; time = 0.02400374412536621\n",
      "Epoch 100; train err = 1.634574294090271; time = 0.022015094757080078\n"
     ]
    }
   ],
   "source": [
    "_ = lstm_mod.fit(toy_color_seqs_train, toy_word_seqs_train)     "
   ]
  },
  {
   "cell_type": "code",
   "execution_count": 57,
   "metadata": {},
   "outputs": [
    {
     "name": "stderr",
     "output_type": "stream",
     "text": [
      "all_probs 27"
     ]
    },
    {
     "data": {
      "text/plain": [
       "0.42105263157894735"
      ]
     },
     "execution_count": 57,
     "metadata": {},
     "output_type": "execute_result"
    }
   ],
   "source": [
    "lstm_mod.listener_accuracy(toy_color_seqs_test, toy_word_seqs_test)"
   ]
  },
  {
   "cell_type": "markdown",
   "metadata": {},
   "source": [
    "### Illustration: Deeper models"
   ]
  },
  {
   "cell_type": "markdown",
   "metadata": {},
   "source": [
    "The `Encoder` and `Decoder` are both currently hard-coded to have just one hidden layer. It is straightforward to make them deeper as long as we ensure that both the `Encoder` and `Decoder` have the same depth; since the `Encoder` final states are the initial hidden states for the `Decoder`, we need this alignment. \n",
    "\n",
    "(Strictly speaking, we could have different numbers of `Encoder` and `Decoder` layers, as long as we did some kind of averaging or copying to achieve the hand-off from `Encoder` to `Decocer`. I'll set this possibility aside.)"
   ]
  },
  {
   "cell_type": "markdown",
   "metadata": {},
   "source": [
    "__Step 1__: We need to subclass the `Encoder` and `Decoder` so that they have `num_layers` argument that is fed into the RNN cell:"
   ]
  },
  {
   "cell_type": "code",
   "execution_count": 58,
   "metadata": {},
   "outputs": [],
   "source": [
    "import torch.nn as nn\n",
    "from torch_color_describer import Encoder, Decoder\n",
    "\n",
    "class DeepEncoder(Encoder):\n",
    "    def __init__(self, *args, num_layers=2, **kwargs):\n",
    "        super().__init__(*args, **kwargs)\n",
    "        self.num_layers = num_layers\n",
    "        self.rnn = nn.GRU(\n",
    "            input_size=self.color_dim,\n",
    "            hidden_size=self.hidden_dim,\n",
    "            num_layers=self.num_layers,\n",
    "            batch_first=True) \n",
    "\n",
    "\n",
    "class DeepDecoder(Decoder):\n",
    "    def __init__(self, *args, num_layers=2, **kwargs):\n",
    "        super().__init__(*args, **kwargs)    \n",
    "        self.num_layers = num_layers\n",
    "        self.rnn = nn.GRU(\n",
    "            input_size=self.embed_dim,\n",
    "            hidden_size=self.hidden_dim,\n",
    "            num_layers=self.num_layers,\n",
    "            batch_first=True)   "
   ]
  },
  {
   "cell_type": "markdown",
   "metadata": {},
   "source": [
    "__Step 2__: As before, we need to update the `build_graph` method of `ContextualColorDescriber`. The needed revision just uses `DeepEncoder` and `DeepDecoder`. To expose this new argument to the user, we also add a new keyword argument to `ContextualColorDescriber`:"
   ]
  },
  {
   "cell_type": "code",
   "execution_count": 59,
   "metadata": {},
   "outputs": [],
   "source": [
    "from torch_color_describer import EncoderDecoder\n",
    "\n",
    "class DeepContextualColorDescriber(ContextualColorDescriber): \n",
    "    def __init__(self, *args, num_layers=2, **kwargs):\n",
    "        self.num_layers = num_layers\n",
    "        super().__init__(*args, **kwargs)\n",
    "                \n",
    "    def build_graph(self):\n",
    "        encoder = DeepEncoder(\n",
    "            color_dim=self.color_dim,\n",
    "            hidden_dim=self.hidden_dim,\n",
    "            num_layers=self.num_layers) # The new piece is this argument.\n",
    "\n",
    "        decoder = DeepDecoder(\n",
    "            vocab_size=self.vocab_size,\n",
    "            embed_dim=self.embed_dim,\n",
    "            embedding=self.embedding,\n",
    "            hidden_dim=self.hidden_dim,\n",
    "            num_layers=self.num_layers) # The new piece is this argument.\n",
    "\n",
    "        return EncoderDecoder(encoder, decoder)"
   ]
  },
  {
   "cell_type": "markdown",
   "metadata": {},
   "source": [
    "An example/test run:"
   ]
  },
  {
   "cell_type": "code",
   "execution_count": 60,
   "metadata": {},
   "outputs": [
    {
     "name": "stdout",
     "output_type": "stream",
     "text": [
      "Using cuda\n"
     ]
    }
   ],
   "source": [
    "mod_deep = DeepContextualColorDescriber(\n",
    "    toy_vocab, \n",
    "    embed_dim=10, \n",
    "    hidden_dim=10, \n",
    "    max_iter=100,\n",
    "    batch_size=128)"
   ]
  },
  {
   "cell_type": "code",
   "execution_count": 61,
   "metadata": {},
   "outputs": [
    {
     "name": "stdout",
     "output_type": "stream",
     "text": [
      "DeepEncoder cuda\n",
      "DeepDecoder cuda\n",
      "EncoderDecoder cuda\n",
      "Epoch 1; train err = 1.5900306701660156; time = 0.024005413055419922\n",
      "Epoch 2; train err = 1.590030550956726; time = 0.021004438400268555\n",
      "Epoch 3; train err = 1.5900307893753052; time = 0.020004987716674805\n",
      "Epoch 4; train err = 1.5900309085845947; time = 0.021004676818847656\n",
      "Epoch 5; train err = 1.5900304317474365; time = 0.02600574493408203\n",
      "Epoch 6; train err = 1.590030550956726; time = 0.021004438400268555\n",
      "Epoch 7; train err = 1.5900309085845947; time = 0.0200042724609375\n",
      "Epoch 8; train err = 1.5900307893753052; time = 0.0200045108795166\n",
      "Epoch 9; train err = 1.5900306701660156; time = 0.024005651473999023\n",
      "Epoch 10; train err = 1.5900304317474365; time = 0.024005413055419922\n",
      "Epoch 11; train err = 1.5900312662124634; time = 0.027005672454833984\n",
      "Epoch 12; train err = 1.5900306701660156; time = 0.024005413055419922\n",
      "Epoch 13; train err = 1.590030550956726; time = 0.021004438400268555\n",
      "Epoch 14; train err = 1.5900306701660156; time = 0.0200045108795166\n",
      "Epoch 15; train err = 1.5900310277938843; time = 0.02200484275817871\n",
      "Epoch 16; train err = 1.5900311470031738; time = 0.0200045108795166\n",
      "Epoch 17; train err = 1.5900309085845947; time = 0.020004749298095703\n",
      "Epoch 18; train err = 1.5900306701660156; time = 0.025005817413330078\n",
      "Epoch 19; train err = 1.5900309085845947; time = 0.027006149291992188\n",
      "Epoch 20; train err = 1.5900307893753052; time = 0.021004676818847656\n",
      "Epoch 21; train err = 1.590030550956726; time = 0.0200040340423584\n",
      "Epoch 22; train err = 1.5900304317474365; time = 0.023005008697509766\n",
      "Epoch 23; train err = 1.5900307893753052; time = 0.021004438400268555\n",
      "Epoch 24; train err = 1.5900304317474365; time = 0.02800583839416504\n",
      "Epoch 25; train err = 1.5900310277938843; time = 0.021004676818847656\n",
      "Epoch 26; train err = 1.5900306701660156; time = 0.02600550651550293\n",
      "Epoch 27; train err = 1.590030312538147; time = 0.021004676818847656\n",
      "Epoch 28; train err = 1.590030550956726; time = 0.023005247116088867\n",
      "Epoch 29; train err = 1.5900304317474365; time = 0.02200484275817871\n",
      "Epoch 30; train err = 1.5900306701660156; time = 0.021004676818847656\n",
      "Epoch 31; train err = 1.590030550956726; time = 0.021004915237426758\n",
      "Epoch 32; train err = 1.5900307893753052; time = 0.021004915237426758\n",
      "Epoch 33; train err = 1.5900306701660156; time = 0.020004749298095703\n",
      "Epoch 34; train err = 1.590030312538147; time = 0.021004676818847656\n",
      "Epoch 35; train err = 1.5900307893753052; time = 0.0200045108795166\n",
      "Epoch 36; train err = 1.590030550956726; time = 0.021004915237426758\n",
      "Epoch 37; train err = 1.590030550956726; time = 0.021004676818847656\n",
      "Epoch 38; train err = 1.590030312538147; time = 0.021004676818847656\n",
      "Epoch 39; train err = 1.590030550956726; time = 0.021004915237426758\n",
      "Epoch 40; train err = 1.5900307893753052; time = 0.022004365921020508\n",
      "Epoch 41; train err = 1.590030550956726; time = 0.021004676818847656\n",
      "Epoch 42; train err = 1.590030312538147; time = 0.023004770278930664\n",
      "Epoch 43; train err = 1.5900309085845947; time = 0.021004915237426758\n",
      "Epoch 44; train err = 1.5900304317474365; time = 0.028006315231323242\n",
      "Epoch 45; train err = 1.5900306701660156; time = 0.021004676818847656\n",
      "Epoch 46; train err = 1.5900306701660156; time = 0.022005558013916016\n",
      "Epoch 47; train err = 1.5900309085845947; time = 0.0220034122467041\n",
      "Epoch 48; train err = 1.5900306701660156; time = 0.028005361557006836\n",
      "Epoch 49; train err = 1.5900307893753052; time = 0.027004718780517578\n",
      "Epoch 50; train err = 1.590030550956726; time = 0.021004915237426758\n",
      "Epoch 51; train err = 1.590030550956726; time = 0.0200040340423584\n",
      "Epoch 52; train err = 1.5900306701660156; time = 0.021004915237426758\n",
      "Epoch 53; train err = 1.5900309085845947; time = 0.021004915237426758\n",
      "Epoch 54; train err = 1.590030550956726; time = 0.021004438400268555\n",
      "Epoch 55; train err = 1.5900306701660156; time = 0.0200045108795166\n",
      "Epoch 56; train err = 1.5900307893753052; time = 0.025005578994750977\n",
      "Epoch 57; train err = 1.5900304317474365; time = 0.020004749298095703\n",
      "Epoch 58; train err = 1.5900310277938843; time = 0.021004199981689453\n",
      "Epoch 59; train err = 1.590030550956726; time = 0.020004987716674805\n",
      "Epoch 60; train err = 1.5900306701660156; time = 0.02200484275817871\n",
      "Epoch 61; train err = 1.5900309085845947; time = 0.021004438400268555\n",
      "Epoch 62; train err = 1.5900306701660156; time = 0.02200484275817871\n",
      "Epoch 63; train err = 1.5900306701660156; time = 0.022005081176757812\n",
      "Epoch 64; train err = 1.5900309085845947; time = 0.023005008697509766\n",
      "Epoch 65; train err = 1.5900304317474365; time = 0.023005247116088867\n",
      "Epoch 66; train err = 1.5900310277938843; time = 0.021004915237426758\n",
      "Epoch 67; train err = 1.590030550956726; time = 0.027006149291992188\n",
      "Epoch 68; train err = 1.5900307893753052; time = 0.022005081176757812\n",
      "Epoch 69; train err = 1.5900311470031738; time = 0.021004915237426758\n",
      "Epoch 70; train err = 1.590030550956726; time = 0.024005413055419922\n",
      "Epoch 71; train err = 1.5900309085845947; time = 0.02200484275817871\n",
      "Epoch 72; train err = 1.5900310277938843; time = 0.0200045108795166\n",
      "Epoch 73; train err = 1.5900307893753052; time = 0.024005651473999023\n",
      "Epoch 74; train err = 1.5900310277938843; time = 0.02200484275817871\n",
      "Epoch 75; train err = 1.5900306701660156; time = 0.020004749298095703\n",
      "Epoch 76; train err = 1.5900306701660156; time = 0.02200484275817871\n",
      "Epoch 77; train err = 1.590030550956726; time = 0.02200484275817871\n",
      "Epoch 78; train err = 1.5900304317474365; time = 0.022005081176757812\n",
      "Epoch 79; train err = 1.590030550956726; time = 0.02200484275817871\n",
      "Epoch 80; train err = 1.590030312538147; time = 0.020004749298095703\n",
      "Epoch 81; train err = 1.5900306701660156; time = 0.025005578994750977\n",
      "Epoch 82; train err = 1.5900306701660156; time = 0.020003318786621094\n",
      "Epoch 83; train err = 1.590030312538147; time = 0.02200484275817871\n",
      "Epoch 84; train err = 1.5900307893753052; time = 0.022005319595336914\n",
      "Epoch 85; train err = 1.590030550956726; time = 0.02200460433959961\n",
      "Epoch 86; train err = 1.5900307893753052; time = 0.021004915237426758\n",
      "Epoch 87; train err = 1.5900306701660156; time = 0.022004365921020508\n",
      "Epoch 88; train err = 1.5900307893753052; time = 0.021004915237426758\n",
      "Epoch 89; train err = 1.5900304317474365; time = 0.021004676818847656\n",
      "Epoch 90; train err = 1.5900309085845947; time = 0.024005413055419922\n",
      "Epoch 91; train err = 1.590030312538147; time = 0.025005817413330078\n",
      "Epoch 92; train err = 1.590030550956726; time = 0.0200040340423584\n",
      "Epoch 93; train err = 1.5900311470031738; time = 0.025005578994750977\n",
      "Epoch 94; train err = 1.590030550956726; time = 0.021004915237426758\n",
      "Epoch 95; train err = 1.590030312538147; time = 0.021004438400268555\n",
      "Epoch 96; train err = 1.590030550956726; time = 0.021004676818847656\n",
      "Epoch 97; train err = 1.590030312538147; time = 0.024005651473999023\n",
      "Epoch 98; train err = 1.590030550956726; time = 0.02600574493408203\n",
      "Epoch 99; train err = 1.5900307893753052; time = 0.02200484275817871\n",
      "Epoch 100; train err = 1.5900307893753052; time = 0.021004915237426758\n"
     ]
    }
   ],
   "source": [
    "_ = mod_deep.fit(toy_color_seqs_train, toy_word_seqs_train)     "
   ]
  },
  {
   "cell_type": "code",
   "execution_count": 62,
   "metadata": {},
   "outputs": [
    {
     "name": "stderr",
     "output_type": "stream",
     "text": [
      "all_probs 27"
     ]
    },
    {
     "data": {
      "text/plain": [
       "0.7105263157894737"
      ]
     },
     "execution_count": 62,
     "metadata": {},
     "output_type": "execute_result"
    }
   ],
   "source": [
    "mod_deep.listener_accuracy(toy_color_seqs_test, toy_word_seqs_test)"
   ]
  }
 ],
 "metadata": {
  "kernelspec": {
   "display_name": "Python 3",
   "language": "python",
   "name": "python3"
  },
  "language_info": {
   "codemirror_mode": {
    "name": "ipython",
    "version": 3
   },
   "file_extension": ".py",
   "mimetype": "text/x-python",
   "name": "python",
   "nbconvert_exporter": "python",
   "pygments_lexer": "ipython3",
   "version": "3.7.2"
  }
 },
 "nbformat": 4,
 "nbformat_minor": 2
}
